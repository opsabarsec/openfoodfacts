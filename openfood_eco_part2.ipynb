{
 "cells": [
  {
   "cell_type": "markdown",
   "metadata": {
    "colab_type": "text",
    "id": "mQHjmnQG2Wep"
   },
   "source": [
    "# The environmental impact of food quality. Part 2: statistical analysis#\n",
    "\n",
    "This notebook illustrates the first part of the project. Univariate and multivariate correlations are calculated to assess relationship between food quality and its environmental impact."
   ]
  },
  {
   "cell_type": "code",
   "execution_count": 1,
   "metadata": {
    "colab": {
     "base_uri": "https://localhost:8080/",
     "height": 72
    },
    "colab_type": "code",
    "id": "950xkwOPv4Bi",
    "outputId": "3302b825-a413-47ca-ff60-8433ce76401d"
   },
   "outputs": [
    {
     "data": {
      "text/html": [
       "<div>\n",
       "<style scoped>\n",
       "    .dataframe tbody tr th:only-of-type {\n",
       "        vertical-align: middle;\n",
       "    }\n",
       "\n",
       "    .dataframe tbody tr th {\n",
       "        vertical-align: top;\n",
       "    }\n",
       "\n",
       "    .dataframe thead th {\n",
       "        text-align: right;\n",
       "    }\n",
       "</style>\n",
       "<table border=\"1\" class=\"dataframe\">\n",
       "  <thead>\n",
       "    <tr style=\"text-align: right;\">\n",
       "      <th></th>\n",
       "      <th>Unnamed: 0</th>\n",
       "      <th>product_name</th>\n",
       "      <th>nutrition_grade_fr</th>\n",
       "      <th>nutrition_grade_fr_n</th>\n",
       "      <th>pnns_groups_2</th>\n",
       "      <th>carbon-footprint_100g</th>\n",
       "      <th>ingredients_from_palm_oil_n</th>\n",
       "      <th>ingredients_that_may_be_from_palm_oil_n</th>\n",
       "    </tr>\n",
       "  </thead>\n",
       "  <tbody>\n",
       "    <tr>\n",
       "      <th>0</th>\n",
       "      <td>0</td>\n",
       "      <td>Suprême Noir Authentique</td>\n",
       "      <td>d</td>\n",
       "      <td>8.0</td>\n",
       "      <td>chocolate products</td>\n",
       "      <td>2842.0</td>\n",
       "      <td>0.0</td>\n",
       "      <td>0.0</td>\n",
       "    </tr>\n",
       "    <tr>\n",
       "      <th>1</th>\n",
       "      <td>1</td>\n",
       "      <td>Viande des grisons</td>\n",
       "      <td>d</td>\n",
       "      <td>8.0</td>\n",
       "      <td>meat</td>\n",
       "      <td>2520.0</td>\n",
       "      <td>0.0</td>\n",
       "      <td>0.0</td>\n",
       "    </tr>\n",
       "    <tr>\n",
       "      <th>2</th>\n",
       "      <td>2</td>\n",
       "      <td>Saucisson sec</td>\n",
       "      <td>e</td>\n",
       "      <td>1.0</td>\n",
       "      <td>processed meat</td>\n",
       "      <td>2380.0</td>\n",
       "      <td>0.0</td>\n",
       "      <td>0.0</td>\n",
       "    </tr>\n",
       "    <tr>\n",
       "      <th>3</th>\n",
       "      <td>3</td>\n",
       "      <td>Chocolat blanc</td>\n",
       "      <td>e</td>\n",
       "      <td>1.0</td>\n",
       "      <td>chocolate products</td>\n",
       "      <td>1440.0</td>\n",
       "      <td>0.0</td>\n",
       "      <td>0.0</td>\n",
       "    </tr>\n",
       "    <tr>\n",
       "      <th>4</th>\n",
       "      <td>4</td>\n",
       "      <td>Chocolat au lait</td>\n",
       "      <td>e</td>\n",
       "      <td>1.0</td>\n",
       "      <td>chocolate products</td>\n",
       "      <td>1321.0</td>\n",
       "      <td>0.0</td>\n",
       "      <td>0.0</td>\n",
       "    </tr>\n",
       "  </tbody>\n",
       "</table>\n",
       "</div>"
      ],
      "text/plain": [
       "   Unnamed: 0              product_name nutrition_grade_fr  \\\n",
       "0           0  Suprême Noir Authentique                  d   \n",
       "1           1        Viande des grisons                  d   \n",
       "2           2             Saucisson sec                  e   \n",
       "3           3            Chocolat blanc                  e   \n",
       "4           4         Chocolat au lait                   e   \n",
       "\n",
       "   nutrition_grade_fr_n       pnns_groups_2  carbon-footprint_100g  \\\n",
       "0                   8.0  chocolate products                 2842.0   \n",
       "1                   8.0                meat                 2520.0   \n",
       "2                   1.0      processed meat                 2380.0   \n",
       "3                   1.0  chocolate products                 1440.0   \n",
       "4                   1.0  chocolate products                 1321.0   \n",
       "\n",
       "   ingredients_from_palm_oil_n  ingredients_that_may_be_from_palm_oil_n  \n",
       "0                          0.0                                      0.0  \n",
       "1                          0.0                                      0.0  \n",
       "2                          0.0                                      0.0  \n",
       "3                          0.0                                      0.0  \n",
       "4                          0.0                                      0.0  "
      ]
     },
     "execution_count": 1,
     "metadata": {},
     "output_type": "execute_result"
    }
   ],
   "source": [
    "import pandas as pd \n",
    "# DATA file download link:\n",
    "# https://drive.google.com/open?id=1HEoGaFnCwNHOs7mSSU113RkwsFaPLVvC\n",
    "df_eco_all = pd.read_csv( \"openfoodfacts_Eco.csv\") # raw dataframe\n",
    "\n",
    "df_eco_all.head()\n"
   ]
  },
  {
   "cell_type": "code",
   "execution_count": null,
   "metadata": {
    "colab": {
     "base_uri": "https://localhost:8080/",
     "height": 817
    },
    "colab_type": "code",
    "id": "PSzyzjGSkxLY",
    "outputId": "7755b58e-97bf-45ea-c937-84bfee14361e"
   },
   "outputs": [],
   "source": []
  },
  {
   "cell_type": "code",
   "execution_count": 2,
   "metadata": {
    "colab": {
     "base_uri": "https://localhost:8080/",
     "height": 817
    },
    "colab_type": "code",
    "id": "PSzyzjGSkxLY",
    "outputId": "7755b58e-97bf-45ea-c937-84bfee14361e"
   },
   "outputs": [
    {
     "data": {
      "text/html": [
       "<div>\n",
       "<style scoped>\n",
       "    .dataframe tbody tr th:only-of-type {\n",
       "        vertical-align: middle;\n",
       "    }\n",
       "\n",
       "    .dataframe tbody tr th {\n",
       "        vertical-align: top;\n",
       "    }\n",
       "\n",
       "    .dataframe thead th {\n",
       "        text-align: right;\n",
       "    }\n",
       "</style>\n",
       "<table border=\"1\" class=\"dataframe\">\n",
       "  <thead>\n",
       "    <tr style=\"text-align: right;\">\n",
       "      <th></th>\n",
       "      <th>product_name</th>\n",
       "      <th>nutrition_grade_fr</th>\n",
       "      <th>nutrition_grade_fr_n</th>\n",
       "      <th>catPNNS</th>\n",
       "      <th>carbon-footprint_100g</th>\n",
       "      <th>ingredients_from_palm_oil_n</th>\n",
       "      <th>ingredients_that_may_be_from_palm_oil_n</th>\n",
       "    </tr>\n",
       "  </thead>\n",
       "  <tbody>\n",
       "    <tr>\n",
       "      <th>0</th>\n",
       "      <td>Suprême Noir Authentique</td>\n",
       "      <td>d</td>\n",
       "      <td>8.0</td>\n",
       "      <td>chocolate products</td>\n",
       "      <td>2842.0</td>\n",
       "      <td>0.0</td>\n",
       "      <td>0.0</td>\n",
       "    </tr>\n",
       "    <tr>\n",
       "      <th>1</th>\n",
       "      <td>Viande des grisons</td>\n",
       "      <td>d</td>\n",
       "      <td>8.0</td>\n",
       "      <td>meat</td>\n",
       "      <td>2520.0</td>\n",
       "      <td>0.0</td>\n",
       "      <td>0.0</td>\n",
       "    </tr>\n",
       "    <tr>\n",
       "      <th>2</th>\n",
       "      <td>Saucisson sec</td>\n",
       "      <td>e</td>\n",
       "      <td>1.0</td>\n",
       "      <td>processed meat</td>\n",
       "      <td>2380.0</td>\n",
       "      <td>0.0</td>\n",
       "      <td>0.0</td>\n",
       "    </tr>\n",
       "    <tr>\n",
       "      <th>3</th>\n",
       "      <td>Chocolat blanc</td>\n",
       "      <td>e</td>\n",
       "      <td>1.0</td>\n",
       "      <td>chocolate products</td>\n",
       "      <td>1440.0</td>\n",
       "      <td>0.0</td>\n",
       "      <td>0.0</td>\n",
       "    </tr>\n",
       "    <tr>\n",
       "      <th>4</th>\n",
       "      <td>Chocolat au lait</td>\n",
       "      <td>e</td>\n",
       "      <td>1.0</td>\n",
       "      <td>chocolate products</td>\n",
       "      <td>1321.0</td>\n",
       "      <td>0.0</td>\n",
       "      <td>0.0</td>\n",
       "    </tr>\n",
       "  </tbody>\n",
       "</table>\n",
       "</div>"
      ],
      "text/plain": [
       "               product_name nutrition_grade_fr  nutrition_grade_fr_n  \\\n",
       "0  Suprême Noir Authentique                  d                   8.0   \n",
       "1        Viande des grisons                  d                   8.0   \n",
       "2             Saucisson sec                  e                   1.0   \n",
       "3            Chocolat blanc                  e                   1.0   \n",
       "4         Chocolat au lait                   e                   1.0   \n",
       "\n",
       "              catPNNS  carbon-footprint_100g  ingredients_from_palm_oil_n  \\\n",
       "0  chocolate products                 2842.0                          0.0   \n",
       "1                meat                 2520.0                          0.0   \n",
       "2      processed meat                 2380.0                          0.0   \n",
       "3  chocolate products                 1440.0                          0.0   \n",
       "4  chocolate products                 1321.0                          0.0   \n",
       "\n",
       "   ingredients_that_may_be_from_palm_oil_n  \n",
       "0                                      0.0  \n",
       "1                                      0.0  \n",
       "2                                      0.0  \n",
       "3                                      0.0  \n",
       "4                                      0.0  "
      ]
     },
     "execution_count": 2,
     "metadata": {},
     "output_type": "execute_result"
    }
   ],
   "source": [
    "df_eco_all =df_eco_all.drop(['Unnamed: 0'], axis=1)\n",
    "df_eco_all = df_eco_all.rename({'pnns_groups_2': 'catPNNS'}, axis=1) #easier name\n",
    "df_eco_all.head()"
   ]
  },
  {
   "cell_type": "markdown",
   "metadata": {
    "colab_type": "text",
    "id": "mJgcO_0wqchq"
   },
   "source": [
    "Visualize collerations among variables and outliers: scatterplots"
   ]
  },
  {
   "cell_type": "code",
   "execution_count": 11,
   "metadata": {
    "colab": {
     "base_uri": "https://localhost:8080/",
     "height": 817
    },
    "colab_type": "code",
    "id": "PSzyzjGSkxLY",
    "outputId": "7755b58e-97bf-45ea-c937-84bfee14361e"
   },
   "outputs": [
    {
     "name": "stderr",
     "output_type": "stream",
     "text": [
      "/home/marco/anaconda3/lib/python3.7/site-packages/numpy/lib/histograms.py:824: RuntimeWarning: invalid value encountered in greater_equal\n",
      "  keep = (tmp_a >= first_edge)\n",
      "/home/marco/anaconda3/lib/python3.7/site-packages/numpy/lib/histograms.py:825: RuntimeWarning: invalid value encountered in less_equal\n",
      "  keep &= (tmp_a <= last_edge)\n"
     ]
    },
    {
     "data": {
      "text/plain": [
       "<seaborn.axisgrid.PairGrid at 0x7f593bae6da0>"
      ]
     },
     "execution_count": 11,
     "metadata": {},
     "output_type": "execute_result"
    },
    {
     "data": {
      "image/png": "[encoded data removed]",
      "text/plain": [
       "<Figure size 720x720 with 20 Axes>"
      ]
     },
     "metadata": {
      "needs_background": "light"
     },
     "output_type": "display_data"
    }
   ],
   "source": [
    "# plot eventual correlations for the main dataframe containing data relative to quality and environmental impact\n",
    "\n",
    "import seaborn as sns\n",
    "sns.pairplot(df_eco_all)"
   ]
  },
  {
   "cell_type": "code",
   "execution_count": 3,
   "metadata": {
    "colab": {
     "base_uri": "https://localhost:8080/",
     "height": 424
    },
    "colab_type": "code",
    "id": "kweSvRQMq66s",
    "outputId": "2b3462c3-733a-426d-fe9b-9662f94d5f40"
   },
   "outputs": [
    {
     "name": "stdout",
     "output_type": "stream",
     "text": [
      "(230, 5)\n"
     ]
    },
    {
     "data": {
      "text/html": [
       "<div>\n",
       "<style scoped>\n",
       "    .dataframe tbody tr th:only-of-type {\n",
       "        vertical-align: middle;\n",
       "    }\n",
       "\n",
       "    .dataframe tbody tr th {\n",
       "        vertical-align: top;\n",
       "    }\n",
       "\n",
       "    .dataframe thead th {\n",
       "        text-align: right;\n",
       "    }\n",
       "</style>\n",
       "<table border=\"1\" class=\"dataframe\">\n",
       "  <thead>\n",
       "    <tr style=\"text-align: right;\">\n",
       "      <th></th>\n",
       "      <th>product_name</th>\n",
       "      <th>nutrition_grade_fr_n</th>\n",
       "      <th>nutrition_grade_fr</th>\n",
       "      <th>catPNNS</th>\n",
       "      <th>carbon-footprint_100g</th>\n",
       "    </tr>\n",
       "  </thead>\n",
       "  <tbody>\n",
       "    <tr>\n",
       "      <th>0</th>\n",
       "      <td>Suprême Noir Authentique</td>\n",
       "      <td>8.0</td>\n",
       "      <td>d</td>\n",
       "      <td>chocolate products</td>\n",
       "      <td>2842.0</td>\n",
       "    </tr>\n",
       "    <tr>\n",
       "      <th>1</th>\n",
       "      <td>Viande des grisons</td>\n",
       "      <td>8.0</td>\n",
       "      <td>d</td>\n",
       "      <td>meat</td>\n",
       "      <td>2520.0</td>\n",
       "    </tr>\n",
       "    <tr>\n",
       "      <th>2</th>\n",
       "      <td>Saucisson sec</td>\n",
       "      <td>1.0</td>\n",
       "      <td>e</td>\n",
       "      <td>processed meat</td>\n",
       "      <td>2380.0</td>\n",
       "    </tr>\n",
       "    <tr>\n",
       "      <th>3</th>\n",
       "      <td>Chocolat blanc</td>\n",
       "      <td>1.0</td>\n",
       "      <td>e</td>\n",
       "      <td>chocolate products</td>\n",
       "      <td>1440.0</td>\n",
       "    </tr>\n",
       "    <tr>\n",
       "      <th>4</th>\n",
       "      <td>Chocolat au lait</td>\n",
       "      <td>1.0</td>\n",
       "      <td>e</td>\n",
       "      <td>chocolate products</td>\n",
       "      <td>1321.0</td>\n",
       "    </tr>\n",
       "  </tbody>\n",
       "</table>\n",
       "</div>"
      ],
      "text/plain": [
       "               product_name  nutrition_grade_fr_n nutrition_grade_fr  \\\n",
       "0  Suprême Noir Authentique                   8.0                  d   \n",
       "1        Viande des grisons                   8.0                  d   \n",
       "2             Saucisson sec                   1.0                  e   \n",
       "3            Chocolat blanc                   1.0                  e   \n",
       "4         Chocolat au lait                    1.0                  e   \n",
       "\n",
       "              catPNNS  carbon-footprint_100g  \n",
       "0  chocolate products                 2842.0  \n",
       "1                meat                 2520.0  \n",
       "2      processed meat                 2380.0  \n",
       "3  chocolate products                 1440.0  \n",
       "4  chocolate products                 1321.0  "
      ]
     },
     "execution_count": 3,
     "metadata": {},
     "output_type": "execute_result"
    }
   ],
   "source": [
    "# some correlation can be observed between nutrition score and carbon foodprint\n",
    "# no obvious correlations can be observed between the two main ecological parameters: carbon footprint and number of palm oil ingredients\n",
    "# moreover, the columns still contain zero and Nan values\n",
    "# based on this we split the database and analize the subset after a further cleaning\n",
    "carbon_categories = ['product_name','nutrition_grade_fr_n','nutrition_grade_fr','catPNNS', 'carbon-footprint_100g']\n",
    "df_carbon = df_eco_all[carbon_categories]\n",
    "df_carbon = df_carbon.dropna(subset=['carbon-footprint_100g', 'nutrition_grade_fr_n']) \n",
    "df_carbon = df_carbon.sort_values(by=['carbon-footprint_100g'], ascending=False)\n",
    "df_carbon = df_carbon[df_carbon['carbon-footprint_100g'] > 1]  # eliminate unrealistic values\n",
    "print(df_carbon.shape) # overview\n",
    "df_carbon[:5]"
   ]
  },
  {
   "cell_type": "code",
   "execution_count": 7,
   "metadata": {
    "colab": {
     "base_uri": "https://localhost:8080/",
     "height": 318
    },
    "colab_type": "code",
    "id": "l0M76Qw3vYwr",
    "outputId": "9082499a-ea25-4e30-9545-0d1d3e541b58"
   },
   "outputs": [
    {
     "name": "stdout",
     "output_type": "stream",
     "text": [
      "0.10907617786771782\n"
     ]
    },
    {
     "data": {
      "image/png": "[encoded data removed]",
      "text/plain": [
       "<Figure size 432x288 with 1 Axes>"
      ]
     },
     "metadata": {
      "needs_background": "light"
     },
     "output_type": "display_data"
    }
   ],
   "source": [
    "# as it could also be observed in the matrix above, higher nutrition score have an as an average a higher carbon footprint. We plot again the graph below.\n",
    "# and we estimate the visual observation with a simple univariate linear regression\n",
    "import numpy as np\n",
    "import matplotlib.pyplot as plt\n",
    "from matplotlib import rcParams\n",
    "from sklearn import linear_model\n",
    "X0 = np.matrix([np.ones(df_carbon.shape[0]), df_carbon['nutrition_grade_fr_n'] ]).T\n",
    "y0 = np.matrix([df_carbon['carbon-footprint_100g']]).T\n",
    "\n",
    "regr = linear_model.LinearRegression() \n",
    "regr.fit(X0, y0)\n",
    "estimated_carbon_foodprint = regr.predict(X0)\n",
    "accuracy0 = regr.score(X0, y0)\n",
    "print(accuracy0)\n",
    "\n",
    "\n",
    "plt.scatter(df_carbon['nutrition_grade_fr_n'],df_carbon['carbon-footprint_100g'] )\n",
    "plt.plot(df_carbon['nutrition_grade_fr_n'],estimated_carbon_foodprint, color = 'tomato' )\n",
    "plt.xlabel('French nutritional score', color=\"red\", fontsize = 14)\n",
    "plt.ylabel('Carbon footprint', color=\"red\", fontsize = 14)\n",
    "plt.savefig(\"Quality carbon0.png\", format=\"PNG\")"
   ]
  },
  {
   "cell_type": "code",
   "execution_count": 14,
   "metadata": {
    "colab": {
     "base_uri": "https://localhost:8080/",
     "height": 318
    },
    "colab_type": "code",
    "id": "cCWUaVM0s2_d",
    "outputId": "85c83879-a396-4062-98a8-efc064571d19"
   },
   "outputs": [
    {
     "name": "stdout",
     "output_type": "stream",
     "text": [
      "0.5264569440177671\n"
     ]
    },
    {
     "data": {
      "image/png": "[encoded data removed]",
      "text/plain": [
       "<Figure size 432x288 with 1 Axes>"
      ]
     },
     "metadata": {
      "needs_background": "light"
     },
     "output_type": "display_data"
    }
   ],
   "source": [
    "# the above score is low. The accuracy may be improved by filtering out data\n",
    "df_carbon_masked = df_carbon[df_carbon['carbon-footprint_100g'] > 450] \n",
    "df_carbon_masked = df_carbon_masked[df_carbon_masked['carbon-footprint_100g'] < 1500] \n",
    "\n",
    "X0 = np.matrix([np.ones(df_carbon_masked.shape[0]), df_carbon_masked['nutrition_grade_fr_n'] ]).T\n",
    "y0 = np.matrix([df_carbon_masked['carbon-footprint_100g']]).T\n",
    "\n",
    "regr = linear_model.LinearRegression() \n",
    "regr.fit(X0, y0)\n",
    "estimated_carbon_foodprint = regr.predict(X0)\n",
    "accuracy0 = regr.score(X0, y0)\n",
    "print(accuracy0)\n",
    "\n",
    "plt.scatter(df_carbon_masked['nutrition_grade_fr_n'],df_carbon_masked['carbon-footprint_100g'] )\n",
    "plt.plot(df_carbon_masked['nutrition_grade_fr_n'],estimated_carbon_foodprint, color = 'tomato' )\n",
    "plt.xlabel('Nutrition grade average score', color=\"red\", fontsize = 14)\n",
    "plt.ylabel('Carbon footprint', color=\"red\", fontsize = 14)\n",
    "plt.savefig(\"Quality carbon1.png\", format=\"PNG\")\n",
    "\n",
    "# but this way lots of datapoints are removed for low carbon footprints and results are less significant"
   ]
  },
  {
   "cell_type": "markdown",
   "metadata": {
    "colab_type": "text",
    "id": "3ZcESDbjocGL"
   },
   "source": []
  },
  {
   "cell_type": "markdown",
   "metadata": {
    "colab_type": "text",
    "id": "3ZcESDbjocGL"
   },
   "source": [
    "Scattering within food nutritional categories is better shown by a boxplot"
   ]
  },
  {
   "cell_type": "code",
   "execution_count": 29,
   "metadata": {
    "colab": {
     "base_uri": "https://localhost:8080/",
     "height": 34
    },
    "colab_type": "code",
    "id": "CdJnfo1mUjWL",
    "outputId": "727b3507-cdd6-47ee-ba8d-299daa515fed"
   },
   "outputs": [
    {
     "data": {
      "image/png": "[encoded data removed]",
      "text/plain": [
       "<Figure size 432x288 with 1 Axes>"
      ]
     },
     "metadata": {
      "needs_background": "light"
     },
     "output_type": "display_data"
    }
   ],
   "source": [
    "import seaborn as sns\n",
    "boxcarbon = sns.boxplot( y=df_carbon[\"nutrition_grade_fr\"], x=df_carbon[\"carbon-footprint_100g\"] );\n",
    "plt.xlabel('Carbon footprint (100g)')\n",
    "plt.ylabel('Nutriscore')\n",
    "plt.savefig(\"Quality carbon box.png\", format=\"PNG\", dpi=120)\n",
    "plt.show()"
   ]
  },
  {
   "cell_type": "markdown",
   "metadata": {
    "colab": {
     "base_uri": "https://localhost:8080/",
     "height": 206
    },
    "colab_type": "code",
    "id": "SXd8q5Nm77y6",
    "outputId": "c89f52c6-23c7-42e2-beac-1046515310e9"
   },
   "source": [
    "let's check what the three main outliers are by inspecting categoories D and E"
   ]
  },
  {
   "cell_type": "code",
   "execution_count": 17,
   "metadata": {
    "colab": {
     "base_uri": "https://localhost:8080/",
     "height": 206
    },
    "colab_type": "code",
    "id": "SXd8q5Nm77y6",
    "outputId": "c89f52c6-23c7-42e2-beac-1046515310e9"
   },
   "outputs": [
    {
     "data": {
      "text/html": [
       "<div>\n",
       "<style scoped>\n",
       "    .dataframe tbody tr th:only-of-type {\n",
       "        vertical-align: middle;\n",
       "    }\n",
       "\n",
       "    .dataframe tbody tr th {\n",
       "        vertical-align: top;\n",
       "    }\n",
       "\n",
       "    .dataframe thead th {\n",
       "        text-align: right;\n",
       "    }\n",
       "</style>\n",
       "<table border=\"1\" class=\"dataframe\">\n",
       "  <thead>\n",
       "    <tr style=\"text-align: right;\">\n",
       "      <th></th>\n",
       "      <th>product_name</th>\n",
       "      <th>nutrition_grade_fr_n</th>\n",
       "      <th>nutrition_grade_fr</th>\n",
       "      <th>catPNNS</th>\n",
       "      <th>carbon-footprint_100g</th>\n",
       "    </tr>\n",
       "  </thead>\n",
       "  <tbody>\n",
       "    <tr>\n",
       "      <th>0</th>\n",
       "      <td>Suprême Noir Authentique</td>\n",
       "      <td>8.0</td>\n",
       "      <td>d</td>\n",
       "      <td>chocolate products</td>\n",
       "      <td>2842.0000</td>\n",
       "    </tr>\n",
       "    <tr>\n",
       "      <th>1</th>\n",
       "      <td>Viande des grisons</td>\n",
       "      <td>8.0</td>\n",
       "      <td>d</td>\n",
       "      <td>meat</td>\n",
       "      <td>2520.0000</td>\n",
       "    </tr>\n",
       "    <tr>\n",
       "      <th>9</th>\n",
       "      <td>Emmental Français Est-Central IGP au lait cru ...</td>\n",
       "      <td>8.0</td>\n",
       "      <td>d</td>\n",
       "      <td>cheese</td>\n",
       "      <td>1275.0000</td>\n",
       "    </tr>\n",
       "    <tr>\n",
       "      <th>16</th>\n",
       "      <td>Emmental Français Râpé (29 % MG)</td>\n",
       "      <td>8.0</td>\n",
       "      <td>d</td>\n",
       "      <td>cheese</td>\n",
       "      <td>1127.0000</td>\n",
       "    </tr>\n",
       "    <tr>\n",
       "      <th>17</th>\n",
       "      <td>Emmental Français Râpé (29 % MG)</td>\n",
       "      <td>8.0</td>\n",
       "      <td>d</td>\n",
       "      <td>cheese</td>\n",
       "      <td>1113.0547</td>\n",
       "    </tr>\n",
       "  </tbody>\n",
       "</table>\n",
       "</div>"
      ],
      "text/plain": [
       "                                         product_name  nutrition_grade_fr_n  \\\n",
       "0                            Suprême Noir Authentique                   8.0   \n",
       "1                                  Viande des grisons                   8.0   \n",
       "9   Emmental Français Est-Central IGP au lait cru ...                   8.0   \n",
       "16                   Emmental Français Râpé (29 % MG)                   8.0   \n",
       "17                   Emmental Français Râpé (29 % MG)                   8.0   \n",
       "\n",
       "   nutrition_grade_fr             catPNNS  carbon-footprint_100g  \n",
       "0                   d  chocolate products              2842.0000  \n",
       "1                   d                meat              2520.0000  \n",
       "9                   d              cheese              1275.0000  \n",
       "16                  d              cheese              1127.0000  \n",
       "17                  d              cheese              1113.0547  "
      ]
     },
     "execution_count": 17,
     "metadata": {},
     "output_type": "execute_result"
    }
   ],
   "source": [
    "df_carbon_d = df_carbon[df_carbon['nutrition_grade_fr'] == 'd']\n",
    "df_carbon_d = df_carbon_d.sort_values(by=['carbon-footprint_100g'], ascending=False)\n",
    "df_carbon_d[:5]"
   ]
  },
  {
   "cell_type": "code",
   "execution_count": 18,
   "metadata": {
    "colab": {
     "base_uri": "https://localhost:8080/",
     "height": 206
    },
    "colab_type": "code",
    "id": "SXd8q5Nm77y6",
    "outputId": "c89f52c6-23c7-42e2-beac-1046515310e9"
   },
   "outputs": [
    {
     "data": {
      "text/html": [
       "<div>\n",
       "<style scoped>\n",
       "    .dataframe tbody tr th:only-of-type {\n",
       "        vertical-align: middle;\n",
       "    }\n",
       "\n",
       "    .dataframe tbody tr th {\n",
       "        vertical-align: top;\n",
       "    }\n",
       "\n",
       "    .dataframe thead th {\n",
       "        text-align: right;\n",
       "    }\n",
       "</style>\n",
       "<table border=\"1\" class=\"dataframe\">\n",
       "  <thead>\n",
       "    <tr style=\"text-align: right;\">\n",
       "      <th></th>\n",
       "      <th>product_name</th>\n",
       "      <th>nutrition_grade_fr_n</th>\n",
       "      <th>nutrition_grade_fr</th>\n",
       "      <th>catPNNS</th>\n",
       "      <th>carbon-footprint_100g</th>\n",
       "    </tr>\n",
       "  </thead>\n",
       "  <tbody>\n",
       "    <tr>\n",
       "      <th>2</th>\n",
       "      <td>Saucisson sec</td>\n",
       "      <td>1.0</td>\n",
       "      <td>e</td>\n",
       "      <td>processed meat</td>\n",
       "      <td>2380.0</td>\n",
       "    </tr>\n",
       "    <tr>\n",
       "      <th>3</th>\n",
       "      <td>Chocolat blanc</td>\n",
       "      <td>1.0</td>\n",
       "      <td>e</td>\n",
       "      <td>chocolate products</td>\n",
       "      <td>1440.0</td>\n",
       "    </tr>\n",
       "    <tr>\n",
       "      <th>4</th>\n",
       "      <td>Chocolat au lait</td>\n",
       "      <td>1.0</td>\n",
       "      <td>e</td>\n",
       "      <td>chocolate products</td>\n",
       "      <td>1321.0</td>\n",
       "    </tr>\n",
       "    <tr>\n",
       "      <th>5</th>\n",
       "      <td>Chocolat Tourist Crémant</td>\n",
       "      <td>1.0</td>\n",
       "      <td>e</td>\n",
       "      <td>chocolate products</td>\n",
       "      <td>1311.0</td>\n",
       "    </tr>\n",
       "    <tr>\n",
       "      <th>6</th>\n",
       "      <td>Chocolat au lait</td>\n",
       "      <td>1.0</td>\n",
       "      <td>e</td>\n",
       "      <td>chocolate products</td>\n",
       "      <td>1305.0</td>\n",
       "    </tr>\n",
       "  </tbody>\n",
       "</table>\n",
       "</div>"
      ],
      "text/plain": [
       "               product_name  nutrition_grade_fr_n nutrition_grade_fr  \\\n",
       "2             Saucisson sec                   1.0                  e   \n",
       "3            Chocolat blanc                   1.0                  e   \n",
       "4         Chocolat au lait                    1.0                  e   \n",
       "5  Chocolat Tourist Crémant                   1.0                  e   \n",
       "6          Chocolat au lait                   1.0                  e   \n",
       "\n",
       "              catPNNS  carbon-footprint_100g  \n",
       "2      processed meat                 2380.0  \n",
       "3  chocolate products                 1440.0  \n",
       "4  chocolate products                 1321.0  \n",
       "5  chocolate products                 1311.0  \n",
       "6  chocolate products                 1305.0  "
      ]
     },
     "execution_count": 18,
     "metadata": {},
     "output_type": "execute_result"
    }
   ],
   "source": [
    "df_carbon_e = df_carbon[df_carbon['nutrition_grade_fr'] == 'e']\n",
    "df_carbon_e = df_carbon_e.sort_values(by=['carbon-footprint_100g'], ascending=False)\n",
    "df_carbon_e[:5]"
   ]
  },
  {
   "cell_type": "markdown",
   "metadata": {
    "colab": {
     "base_uri": "https://localhost:8080/",
     "height": 206
    },
    "colab_type": "code",
    "id": "SXd8q5Nm77y6",
    "outputId": "c89f52c6-23c7-42e2-beac-1046515310e9"
   },
   "source": [
    "The above graphs indicates that the carbon foodprint is better related to an average value for each food nutritional grade (score)"
   ]
  },
  {
   "cell_type": "code",
   "execution_count": 13,
   "metadata": {
    "colab": {
     "base_uri": "https://localhost:8080/",
     "height": 206
    },
    "colab_type": "code",
    "id": "SXd8q5Nm77y6",
    "outputId": "c89f52c6-23c7-42e2-beac-1046515310e9"
   },
   "outputs": [
    {
     "data": {
      "text/html": [
       "<div>\n",
       "<style scoped>\n",
       "    .dataframe tbody tr th:only-of-type {\n",
       "        vertical-align: middle;\n",
       "    }\n",
       "\n",
       "    .dataframe tbody tr th {\n",
       "        vertical-align: top;\n",
       "    }\n",
       "\n",
       "    .dataframe thead th {\n",
       "        text-align: right;\n",
       "    }\n",
       "</style>\n",
       "<table border=\"1\" class=\"dataframe\">\n",
       "  <thead>\n",
       "    <tr style=\"text-align: right;\">\n",
       "      <th></th>\n",
       "      <th>nutrition_grade_fr_n</th>\n",
       "      <th>carbon-footprint_100g</th>\n",
       "      <th>french food grade</th>\n",
       "    </tr>\n",
       "  </thead>\n",
       "  <tbody>\n",
       "    <tr>\n",
       "      <th>0</th>\n",
       "      <td>25.0</td>\n",
       "      <td>180.508039</td>\n",
       "      <td>A</td>\n",
       "    </tr>\n",
       "    <tr>\n",
       "      <th>1</th>\n",
       "      <td>21.0</td>\n",
       "      <td>202.532000</td>\n",
       "      <td>B</td>\n",
       "    </tr>\n",
       "    <tr>\n",
       "      <th>2</th>\n",
       "      <td>16.0</td>\n",
       "      <td>265.320889</td>\n",
       "      <td>C</td>\n",
       "    </tr>\n",
       "    <tr>\n",
       "      <th>3</th>\n",
       "      <td>8.0</td>\n",
       "      <td>405.965094</td>\n",
       "      <td>D</td>\n",
       "    </tr>\n",
       "    <tr>\n",
       "      <th>4</th>\n",
       "      <td>1.0</td>\n",
       "      <td>469.232143</td>\n",
       "      <td>E</td>\n",
       "    </tr>\n",
       "  </tbody>\n",
       "</table>\n",
       "</div>"
      ],
      "text/plain": [
       "   nutrition_grade_fr_n  carbon-footprint_100g french food grade\n",
       "0                  25.0             180.508039                 A\n",
       "1                  21.0             202.532000                 B\n",
       "2                  16.0             265.320889                 C\n",
       "3                   8.0             405.965094                 D\n",
       "4                   1.0             469.232143                 E"
      ]
     },
     "execution_count": 13,
     "metadata": {},
     "output_type": "execute_result"
    }
   ],
   "source": [
    "\n",
    "df_carbon_impact = df_carbon.drop(columns=['catPNNS','product_name','nutrition_grade_fr']) # only numerical values for correlation\n",
    "df_carbon_impact = df_carbon_impact[df_carbon_impact['carbon-footprint_100g'] < 1500] # remove the three outliers \n",
    "df_carbon_impact = df_carbon_impact.groupby(['nutrition_grade_fr_n']).mean()\n",
    "df_carbon_impact = df_carbon_impact.sort_values(by=['nutrition_grade_fr_n'], ascending=False)\n",
    "df_carbon_impact.reset_index(inplace=True)\n",
    "grades =['A','B','C','D','E']\n",
    "df_carbon_impact['french food grade'] =grades\n",
    "\n",
    "df_carbon_impact"
   ]
  },
  {
   "cell_type": "code",
   "execution_count": 14,
   "metadata": {
    "colab": {
     "base_uri": "https://localhost:8080/",
     "height": 34
    },
    "colab_type": "code",
    "id": "Cj7CT2sG_orx",
    "outputId": "233b4c53-c9c6-405a-87d2-2dc410dcc7db"
   },
   "outputs": [
    {
     "name": "stdout",
     "output_type": "stream",
     "text": [
      "0.9817147753464976\n"
     ]
    }
   ],
   "source": [
    "# this grouping indicates that food quality and carbon footprint are well correlated\n",
    "X1 = np.matrix([np.ones(df_carbon_impact.shape[0]), df_carbon_impact['nutrition_grade_fr_n'] ]).T\n",
    "y1 = np.matrix([df_carbon_impact['carbon-footprint_100g']]).T\n",
    "\n",
    "regr = linear_model.LinearRegression() \n",
    "regr.fit(X1, y1)\n",
    "estimated_carbon_foodprint_byGrade = regr.predict(X1)\n",
    "accuracy12 = regr.score(X1, y1)\n",
    "print(accuracy12) # 0.98 is high!!!"
   ]
  },
  {
   "cell_type": "code",
   "execution_count": 32,
   "metadata": {
    "colab": {
     "base_uri": "https://localhost:8080/",
     "height": 372
    },
    "colab_type": "code",
    "id": "4ko6-VHU3CY7",
    "outputId": "1cd5f0d6-19c0-425a-f936-b8fc812330f9"
   },
   "outputs": [
    {
     "data": {
      "image/png": "[encoded data removed]",
      "text/plain": [
       "<Figure size 576x360 with 1 Axes>"
      ]
     },
     "metadata": {
      "needs_background": "light"
     },
     "output_type": "display_data"
    }
   ],
   "source": [
    "# the evident correlation is shown by the graph below\n",
    "plt.figure(figsize=(8,5))\n",
    "\n",
    "x_coords = df_carbon_impact['nutrition_grade_fr_n']\n",
    "y_coords = df_carbon_impact['carbon-footprint_100g']\n",
    "for i,type in enumerate(grades):\n",
    "    x = x_coords[i]\n",
    "    y = y_coords[i]\n",
    "    plt.scatter(x, y, marker='o', color='blue')\n",
    "    plt.text(x+0.3, y+0.3, type, fontsize=9)\n",
    "\n",
    "plt.plot(df_carbon_impact['nutrition_grade_fr_n'],estimated_carbon_foodprint_byGrade, color = 'g' )\n",
    "plt.title('Environmental impact by food quality', color=\"red\", fontsize = 14)\n",
    "plt.xlabel('French nutrition grade average score', color=\"red\", fontsize = 14)\n",
    "plt.ylabel('Carbon footprint (100g)', color=\"red\", fontsize = 14)\n",
    "\n",
    "plt.savefig(\"Quality carbon footprint.png\", format=\"PNG\", dpi= 150)\n",
    "\n"
   ]
  },
  {
   "cell_type": "markdown",
   "metadata": {
    "colab_type": "text",
    "id": "7OiMK1KFSGoo"
   },
   "source": [
    "Since also palm oil is related to the environmental impact, we can include this parameters to the correlation to food quality"
   ]
  },
  {
   "cell_type": "code",
   "execution_count": 18,
   "metadata": {
    "colab": {
     "base_uri": "https://localhost:8080/",
     "height": 224
    },
    "colab_type": "code",
    "id": "b_pVhfG2DEz4",
    "outputId": "cbf35c7e-914d-4cc0-d2e9-721d07df4f13"
   },
   "outputs": [
    {
     "name": "stdout",
     "output_type": "stream",
     "text": [
      "(5, 3)\n"
     ]
    },
    {
     "data": {
      "text/html": [
       "<div>\n",
       "<style scoped>\n",
       "    .dataframe tbody tr th:only-of-type {\n",
       "        vertical-align: middle;\n",
       "    }\n",
       "\n",
       "    .dataframe tbody tr th {\n",
       "        vertical-align: top;\n",
       "    }\n",
       "\n",
       "    .dataframe thead th {\n",
       "        text-align: right;\n",
       "    }\n",
       "</style>\n",
       "<table border=\"1\" class=\"dataframe\">\n",
       "  <thead>\n",
       "    <tr style=\"text-align: right;\">\n",
       "      <th></th>\n",
       "      <th>nutrition_grade_fr_n</th>\n",
       "      <th>ingredients_from_palm_oil_n</th>\n",
       "      <th>ingredients_that_may_be_from_palm_oil_n</th>\n",
       "    </tr>\n",
       "  </thead>\n",
       "  <tbody>\n",
       "    <tr>\n",
       "      <th>0</th>\n",
       "      <td>1.0</td>\n",
       "      <td>0.090503</td>\n",
       "      <td>0.136313</td>\n",
       "    </tr>\n",
       "    <tr>\n",
       "      <th>1</th>\n",
       "      <td>8.0</td>\n",
       "      <td>0.047254</td>\n",
       "      <td>0.140246</td>\n",
       "    </tr>\n",
       "    <tr>\n",
       "      <th>2</th>\n",
       "      <td>16.0</td>\n",
       "      <td>0.024064</td>\n",
       "      <td>0.082146</td>\n",
       "    </tr>\n",
       "    <tr>\n",
       "      <th>3</th>\n",
       "      <td>21.0</td>\n",
       "      <td>0.008934</td>\n",
       "      <td>0.063877</td>\n",
       "    </tr>\n",
       "    <tr>\n",
       "      <th>4</th>\n",
       "      <td>25.0</td>\n",
       "      <td>0.003852</td>\n",
       "      <td>0.027616</td>\n",
       "    </tr>\n",
       "  </tbody>\n",
       "</table>\n",
       "</div>"
      ],
      "text/plain": [
       "   nutrition_grade_fr_n  ingredients_from_palm_oil_n  \\\n",
       "0                   1.0                     0.090503   \n",
       "1                   8.0                     0.047254   \n",
       "2                  16.0                     0.024064   \n",
       "3                  21.0                     0.008934   \n",
       "4                  25.0                     0.003852   \n",
       "\n",
       "   ingredients_that_may_be_from_palm_oil_n  \n",
       "0                                 0.136313  \n",
       "1                                 0.140246  \n",
       "2                                 0.082146  \n",
       "3                                 0.063877  \n",
       "4                                 0.027616  "
      ]
     },
     "execution_count": 18,
     "metadata": {},
     "output_type": "execute_result"
    }
   ],
   "source": [
    "palm_categories = ['nutrition_grade_fr_n', 'ingredients_from_palm_oil_n', 'ingredients_that_may_be_from_palm_oil_n']\n",
    "df_palm = df_eco_all[palm_categories]\n",
    "\n",
    "#df_palm = df_palm[df_palm['ingredients_from_palm_oil_n'] > 0] \n",
    "#df_palm = df_palm[df_palm['ingredients_that_may_be_from_palm_oil_n'] > 0] \n",
    "df_palm = df_palm.sort_values(by=['ingredients_from_palm_oil_n'], ascending=False)\n",
    "\n",
    "df_palm = df_palm.dropna() \n",
    "df_palm = df_palm.groupby(['nutrition_grade_fr_n']).mean() \n",
    "\n",
    "df_palm = df_palm.reset_index(drop=False)\n",
    "\n",
    "print(df_palm.shape)\n",
    "df_palm"
   ]
  },
  {
   "cell_type": "markdown",
   "metadata": {
    "colab_type": "text",
    "id": "QDsuQ_iHL945"
   },
   "source": [
    "A multivariate regression with test - train set is not helpful in this case, since we grouped data into 5 rows only"
   ]
  },
  {
   "cell_type": "code",
   "execution_count": 19,
   "metadata": {
    "colab": {
     "base_uri": "https://localhost:8080/",
     "height": 139
    },
    "colab_type": "code",
    "id": "cvDYvTUgEU4o",
    "outputId": "1e462bd2-2929-43dd-fb08-fb7ddb841802"
   },
   "outputs": [
    {
     "name": "stdout",
     "output_type": "stream",
     "text": [
      "score =  0.9714538705920392\n",
      "\n",
      "[[0.09050279 0.13631285]\n",
      " [0.04725438 0.14024562]\n",
      " [0.02406386 0.08214579]\n",
      " [0.00893406 0.06387673]\n",
      " [0.00385189 0.02761556]]\n"
     ]
    }
   ],
   "source": [
    "# prepare data\n",
    "X2 = df_palm.iloc[:, 1:3].values\n",
    "y2 = df_palm.iloc[:, 0].values\n",
    "\n",
    "\n",
    "from sklearn.model_selection import train_test_split\n",
    "X_train, X_test, y_train, y_test = train_test_split(X2, y2, test_size = 0.5, random_state = 42)\n",
    "\n",
    "regr.fit(X_train, y_train)\n",
    "y_pred = regr.predict(X_test) # estimation of nutrition score based on fit\n",
    "\n",
    "accuracy2 = regr.score(X_test, y_test)\n",
    "print('score = ',accuracy2)\n",
    "print('')\n",
    "print(X2)"
   ]
  },
  {
   "cell_type": "markdown",
   "metadata": {
    "colab_type": "text",
    "id": "9sTjHFXpMTUu"
   },
   "source": [
    "Much better a simple multivariate linear regression"
   ]
  },
  {
   "cell_type": "code",
   "execution_count": 20,
   "metadata": {
    "colab": {
     "base_uri": "https://localhost:8080/",
     "height": 34
    },
    "colab_type": "code",
    "id": "3cyV4K1HF77B",
    "outputId": "61c09e9a-424d-4b95-e5de-363c8c3f2b4a"
   },
   "outputs": [
    {
     "name": "stdout",
     "output_type": "stream",
     "text": [
      "0.9983846229767137\n"
     ]
    }
   ],
   "source": [
    "regr = linear_model.LinearRegression() \n",
    "regr.fit(X2, y2)\n",
    "y_pred = regr.predict(X2)\n",
    "accuracy21 = regr.score(X2, y2)\n",
    "print(accuracy21)"
   ]
  },
  {
   "cell_type": "markdown",
   "metadata": {
    "colab_type": "text",
    "id": "ZVOTT1_-gdK3"
   },
   "source": [
    "#PCA and Multivariate analysis with all parameters \n",
    "average for each French food grade (instead of letters we use the average grade score)"
   ]
  },
  {
   "cell_type": "code",
   "execution_count": 21,
   "metadata": {
    "colab": {
     "base_uri": "https://localhost:8080/",
     "height": 224
    },
    "colab_type": "code",
    "id": "cLJVxTvABfSR",
    "outputId": "1f920c7d-6a09-4a9e-b294-175982b376a7"
   },
   "outputs": [
    {
     "name": "stdout",
     "output_type": "stream",
     "text": [
      "(5, 3)\n"
     ]
    },
    {
     "data": {
      "text/html": [
       "<div>\n",
       "<style scoped>\n",
       "    .dataframe tbody tr th:only-of-type {\n",
       "        vertical-align: middle;\n",
       "    }\n",
       "\n",
       "    .dataframe tbody tr th {\n",
       "        vertical-align: top;\n",
       "    }\n",
       "\n",
       "    .dataframe thead th {\n",
       "        text-align: right;\n",
       "    }\n",
       "</style>\n",
       "<table border=\"1\" class=\"dataframe\">\n",
       "  <thead>\n",
       "    <tr style=\"text-align: right;\">\n",
       "      <th></th>\n",
       "      <th>nutrition_grade_fr_n</th>\n",
       "      <th>carbon-footprint_100g</th>\n",
       "      <th>ingredients_from_palm_oil_n</th>\n",
       "      <th>ingredients_that_may_be_from_palm_oil_n</th>\n",
       "    </tr>\n",
       "  </thead>\n",
       "  <tbody>\n",
       "    <tr>\n",
       "      <th>0</th>\n",
       "      <td>1.0</td>\n",
       "      <td>304.862766</td>\n",
       "      <td>0.031915</td>\n",
       "      <td>0.031915</td>\n",
       "    </tr>\n",
       "    <tr>\n",
       "      <th>1</th>\n",
       "      <td>8.0</td>\n",
       "      <td>442.435426</td>\n",
       "      <td>0.017241</td>\n",
       "      <td>0.034483</td>\n",
       "    </tr>\n",
       "    <tr>\n",
       "      <th>2</th>\n",
       "      <td>16.0</td>\n",
       "      <td>213.204286</td>\n",
       "      <td>0.000000</td>\n",
       "      <td>0.053571</td>\n",
       "    </tr>\n",
       "    <tr>\n",
       "      <th>3</th>\n",
       "      <td>21.0</td>\n",
       "      <td>168.776667</td>\n",
       "      <td>0.000000</td>\n",
       "      <td>0.066667</td>\n",
       "    </tr>\n",
       "    <tr>\n",
       "      <th>4</th>\n",
       "      <td>25.0</td>\n",
       "      <td>153.431833</td>\n",
       "      <td>0.033333</td>\n",
       "      <td>0.050000</td>\n",
       "    </tr>\n",
       "  </tbody>\n",
       "</table>\n",
       "</div>"
      ],
      "text/plain": [
       "   nutrition_grade_fr_n  carbon-footprint_100g  ingredients_from_palm_oil_n  \\\n",
       "0                   1.0             304.862766                     0.031915   \n",
       "1                   8.0             442.435426                     0.017241   \n",
       "2                  16.0             213.204286                     0.000000   \n",
       "3                  21.0             168.776667                     0.000000   \n",
       "4                  25.0             153.431833                     0.033333   \n",
       "\n",
       "   ingredients_that_may_be_from_palm_oil_n  \n",
       "0                                 0.031915  \n",
       "1                                 0.034483  \n",
       "2                                 0.053571  \n",
       "3                                 0.066667  \n",
       "4                                 0.050000  "
      ]
     },
     "execution_count": 21,
     "metadata": {},
     "output_type": "execute_result"
    }
   ],
   "source": [
    "numerical_categories = ['nutrition_grade_fr_n','carbon-footprint_100g','ingredients_from_palm_oil_n','ingredients_that_may_be_from_palm_oil_n']\n",
    "df_eco = df_eco_all[numerical_categories]\n",
    "df_eco = df_eco_all.dropna(subset=['carbon-footprint_100g', 'nutrition_grade_fr_n'])\n",
    "\n",
    "df_eco = df_eco.fillna(value = 0)\n",
    "df_eco = df_eco.groupby(['nutrition_grade_fr_n']).mean() \n",
    "df_eco = df_eco.sort_values(by=['nutrition_grade_fr_n'], ascending=True)\n",
    "print(df_eco.shape)\n",
    "df_eco = df_eco.reset_index(level=0, inplace=False) # gets grades to the first column\n",
    "df_eco"
   ]
  },
  {
   "cell_type": "markdown",
   "metadata": {
    "colab_type": "text",
    "id": "ZwBYWGMDLhy_"
   },
   "source": [
    "A multivariate linear regression that correlates all ecology variables to food quality produces still a good score"
   ]
  },
  {
   "cell_type": "code",
   "execution_count": 22,
   "metadata": {
    "colab": {
     "base_uri": "https://localhost:8080/",
     "height": 34
    },
    "colab_type": "code",
    "id": "UaWzZ6wpDmL7",
    "outputId": "8b247377-5c06-4d84-ca7b-56263ef4e6ac"
   },
   "outputs": [
    {
     "name": "stdout",
     "output_type": "stream",
     "text": [
      "0.8168762585544673\n"
     ]
    }
   ],
   "source": [
    "#linear fit\n",
    "X3 = df_eco.iloc[:, 1:4].values\n",
    "y3 = df_eco.iloc[:, 0].values\n",
    "\n",
    "\n",
    "regr.fit(X3, y3)\n",
    "y_pred = regr.predict(X3) # estimation of nutrition score based on fit\n",
    "\n",
    "accuracy3 = regr.score(X3, y3)\n",
    "print(accuracy3)"
   ]
  },
  {
   "cell_type": "code",
   "execution_count": 23,
   "metadata": {
    "colab": {
     "base_uri": "https://localhost:8080/",
     "height": 283
    },
    "colab_type": "code",
    "id": "2VWgTF-zLHQ_",
    "outputId": "742097bb-9186-4a08-bf80-27b4ce2703c3"
   },
   "outputs": [
    {
     "data": {
      "text/plain": [
       "<matplotlib.axes._subplots.AxesSubplot at 0x7f593b6ea198>"
      ]
     },
     "execution_count": 23,
     "metadata": {},
     "output_type": "execute_result"
    },
    {
     "data": {
      "image/png": "[encoded data removed]",
      "text/plain": [
       "<Figure size 432x288 with 1 Axes>"
      ]
     },
     "metadata": {
      "needs_background": "light"
     },
     "output_type": "display_data"
    }
   ],
   "source": [
    "ax1 = sns.distplot(y3, hist=False, color=\"r\", label=\"Actual Nutritional Grade Value\")\n",
    "sns.distplot(y_pred, hist=False, color=\"b\", label=\"Fitted Nutritional Grade Value\" , ax=ax1)"
   ]
  },
  {
   "cell_type": "markdown",
   "metadata": {
    "colab": {
     "base_uri": "https://localhost:8080/",
     "height": 34
    },
    "colab_type": "code",
    "id": "eVgHFaZK8l8R",
    "outputId": "61dc2ef9-59af-4aa0-f040-b8126b87221a"
   },
   "source": [
    "Principal components analysis"
   ]
  },
  {
   "cell_type": "code",
   "execution_count": 24,
   "metadata": {
    "colab": {
     "base_uri": "https://localhost:8080/",
     "height": 34
    },
    "colab_type": "code",
    "id": "eVgHFaZK8l8R",
    "outputId": "61dc2ef9-59af-4aa0-f040-b8126b87221a"
   },
   "outputs": [
    {
     "name": "stdout",
     "output_type": "stream",
     "text": [
      "the new component contains [70.52814958] % of the information from the two variables\n"
     ]
    }
   ],
   "source": [
    "features = ['ingredients_from_palm_oil_n', 'ingredients_that_may_be_from_palm_oil_n', 'carbon-footprint_100g',] # select the features to transform\n",
    "\n",
    "# Separating out the features\n",
    "x = df_eco.loc[:, features].values\n",
    "from sklearn.preprocessing import StandardScaler\n",
    "x = StandardScaler().fit_transform(x) # scale those features\n",
    "from sklearn.decomposition import PCA\n",
    "pca = PCA(n_components=1)\n",
    "principalComponents = pca.fit_transform(x)\n",
    "\n",
    "principal_eco_Df = pd.DataFrame(data = principalComponents , columns = ['environmental impact'])\n",
    "\n",
    "\n",
    "print('the new component contains',pca.explained_variance_ratio_ * 100, '% of the information from the two variables')\n",
    "# "
   ]
  },
  {
   "cell_type": "code",
   "execution_count": 25,
   "metadata": {
    "colab": {
     "base_uri": "https://localhost:8080/",
     "height": 206
    },
    "colab_type": "code",
    "id": "1MyL0716gyVx",
    "outputId": "f042ebc0-18c7-486f-8381-f5fcf48267d8"
   },
   "outputs": [
    {
     "data": {
      "text/html": [
       "<div>\n",
       "<style scoped>\n",
       "    .dataframe tbody tr th:only-of-type {\n",
       "        vertical-align: middle;\n",
       "    }\n",
       "\n",
       "    .dataframe tbody tr th {\n",
       "        vertical-align: top;\n",
       "    }\n",
       "\n",
       "    .dataframe thead th {\n",
       "        text-align: right;\n",
       "    }\n",
       "</style>\n",
       "<table border=\"1\" class=\"dataframe\">\n",
       "  <thead>\n",
       "    <tr style=\"text-align: right;\">\n",
       "      <th></th>\n",
       "      <th>nutrition_grade_fr_n</th>\n",
       "      <th>carbon-footprint_100g</th>\n",
       "      <th>ingredients_from_palm_oil_n</th>\n",
       "      <th>ingredients_that_may_be_from_palm_oil_n</th>\n",
       "      <th>environmental impact</th>\n",
       "    </tr>\n",
       "  </thead>\n",
       "  <tbody>\n",
       "    <tr>\n",
       "      <th>0</th>\n",
       "      <td>1.0</td>\n",
       "      <td>304.862766</td>\n",
       "      <td>0.031915</td>\n",
       "      <td>0.031915</td>\n",
       "      <td>-1.578266</td>\n",
       "    </tr>\n",
       "    <tr>\n",
       "      <th>1</th>\n",
       "      <td>8.0</td>\n",
       "      <td>442.435426</td>\n",
       "      <td>0.017241</td>\n",
       "      <td>0.034483</td>\n",
       "      <td>-1.660346</td>\n",
       "    </tr>\n",
       "    <tr>\n",
       "      <th>2</th>\n",
       "      <td>16.0</td>\n",
       "      <td>213.204286</td>\n",
       "      <td>0.000000</td>\n",
       "      <td>0.053571</td>\n",
       "      <td>1.104170</td>\n",
       "    </tr>\n",
       "    <tr>\n",
       "      <th>3</th>\n",
       "      <td>21.0</td>\n",
       "      <td>168.776667</td>\n",
       "      <td>0.000000</td>\n",
       "      <td>0.066667</td>\n",
       "      <td>2.024936</td>\n",
       "    </tr>\n",
       "    <tr>\n",
       "      <th>4</th>\n",
       "      <td>25.0</td>\n",
       "      <td>153.431833</td>\n",
       "      <td>0.033333</td>\n",
       "      <td>0.050000</td>\n",
       "      <td>0.109506</td>\n",
       "    </tr>\n",
       "  </tbody>\n",
       "</table>\n",
       "</div>"
      ],
      "text/plain": [
       "   nutrition_grade_fr_n  carbon-footprint_100g  ingredients_from_palm_oil_n  \\\n",
       "0                   1.0             304.862766                     0.031915   \n",
       "1                   8.0             442.435426                     0.017241   \n",
       "2                  16.0             213.204286                     0.000000   \n",
       "3                  21.0             168.776667                     0.000000   \n",
       "4                  25.0             153.431833                     0.033333   \n",
       "\n",
       "   ingredients_that_may_be_from_palm_oil_n  environmental impact  \n",
       "0                                 0.031915             -1.578266  \n",
       "1                                 0.034483             -1.660346  \n",
       "2                                 0.053571              1.104170  \n",
       "3                                 0.066667              2.024936  \n",
       "4                                 0.050000              0.109506  "
      ]
     },
     "execution_count": 25,
     "metadata": {},
     "output_type": "execute_result"
    }
   ],
   "source": [
    "df_eco['environmental impact'] = principal_eco_Df['environmental impact']\n",
    "df_eco.head()"
   ]
  },
  {
   "cell_type": "code",
   "execution_count": 26,
   "metadata": {
    "colab": {
     "base_uri": "https://localhost:8080/",
     "height": 34
    },
    "colab_type": "code",
    "id": "gv92jWS6lKiO",
    "outputId": "fcafd422-22df-4057-d36f-b178f8d48412"
   },
   "outputs": [
    {
     "name": "stdout",
     "output_type": "stream",
     "text": [
      "0.5765409750987477\n"
     ]
    }
   ],
   "source": [
    "X4 = np.matrix([np.ones(df_eco.shape[0]), df_eco['environmental impact'] ]).T\n",
    "y4 = np.matrix([df_eco['nutrition_grade_fr_n']]).T\n",
    "\n",
    "regr = linear_model.LinearRegression() \n",
    "regr.fit(X4, y4)\n",
    "predicted_quality = regr.predict(X4)\n",
    "accuracy4 = regr.score(X4, y4)\n",
    "print(accuracy4)"
   ]
  },
  {
   "cell_type": "code",
   "execution_count": 27,
   "metadata": {
    "colab": {
     "base_uri": "https://localhost:8080/",
     "height": 372
    },
    "colab_type": "code",
    "id": "-hYjS2QW85gW",
    "outputId": "84f4e840-41f4-4ead-f47c-2689fe05ed4c"
   },
   "outputs": [
    {
     "data": {
      "image/png": "[encoded data removed]",
      "text/plain": [
       "<Figure size 576x360 with 1 Axes>"
      ]
     },
     "metadata": {
      "needs_background": "light"
     },
     "output_type": "display_data"
    },
    {
     "data": {
      "text/plain": [
       "<Figure size 432x288 with 0 Axes>"
      ]
     },
     "metadata": {},
     "output_type": "display_data"
    }
   ],
   "source": [
    "plt.figure(figsize=(8,5))\n",
    "\n",
    "x_coords = df_eco['environmental impact']\n",
    "y_coords = df_eco['nutrition_grade_fr_n']\n",
    "for i,type in enumerate(grades):\n",
    "    x = x_coords[i]\n",
    "    y = y_coords[i]\n",
    "    plt.scatter(x, y, marker='o', color='blue')\n",
    "    plt.text(x+0.3, y+0.3, type, fontsize=9)\n",
    "\n",
    "plt.plot(df_eco['environmental impact'],predicted_quality, color = 'g' )\n",
    "plt.title('Environmental impact by food quality', color=\"red\", fontsize = 14)\n",
    "plt.xlabel('Environmental impact (palm oil content and carbon footprint)', color=\"red\", fontsize = 14)\n",
    "plt.ylabel('French nutrition grade average score', color=\"red\", fontsize = 14)\n",
    "\n",
    "\n",
    "plt.show()\n",
    "\n",
    "plt.savefig(\"Quality all.png\", format=\"PNG\")"
   ]
  },
  {
   "cell_type": "markdown",
   "metadata": {
    "colab_type": "text",
    "id": "HGmrdiiog-mI"
   },
   "source": [
    "Change of model for random forest regressor, that takes into account categorical data "
   ]
  },
  {
   "cell_type": "code",
   "execution_count": 28,
   "metadata": {
    "colab": {
     "base_uri": "https://localhost:8080/",
     "height": 34
    },
    "colab_type": "code",
    "id": "LKorAIlBEraQ",
    "outputId": "2113369a-260a-4579-ea2c-7b8e9396daf4"
   },
   "outputs": [
    {
     "name": "stdout",
     "output_type": "stream",
     "text": [
      "0.8821805702217529\n"
     ]
    }
   ],
   "source": [
    "# Import the model we are using\n",
    "from sklearn.ensemble import RandomForestRegressor\n",
    "# Instantiate model with few decision trees: too low, underfitting, too high overfiting and heavy processing. Since data are so scarce we keep it low\n",
    "\n",
    "rf = RandomForestRegressor(n_estimators = 10, random_state = 42) \n",
    "rf.fit(X3, y3)\n",
    "predicted_quality = rf.predict(X3)\n",
    "accuracy5 = rf.score(X3, y3)\n",
    "print(accuracy5)"
   ]
  },
  {
   "cell_type": "code",
   "execution_count": 29,
   "metadata": {
    "colab": {
     "base_uri": "https://localhost:8080/",
     "height": 372
    },
    "colab_type": "code",
    "id": "_iL9lPHzG9gF",
    "outputId": "641efcf9-f26e-4feb-e1e3-2c7451fd7393"
   },
   "outputs": [
    {
     "data": {
      "text/plain": [
       "Text(0, 0.5, 'French nutrition grade average score')"
      ]
     },
     "execution_count": 29,
     "metadata": {},
     "output_type": "execute_result"
    },
    {
     "data": {
      "image/png": "[encoded data removed]",
      "text/plain": [
       "<Figure size 576x360 with 1 Axes>"
      ]
     },
     "metadata": {
      "needs_background": "light"
     },
     "output_type": "display_data"
    }
   ],
   "source": [
    "plt.figure(figsize=(8,5))\n",
    "\n",
    "plt.scatter(x_coords, y_coords)\n",
    "plt.plot(X3, predicted_quality)\n",
    "plt.title('Random Forest', color=\"red\", fontsize = 14)\n",
    "plt.xlabel('Environmental impact (palm oil content and carbon footprint)', color=\"red\", fontsize = 14)\n",
    "plt.ylabel('French nutrition grade average score', color=\"red\", fontsize = 14)"
   ]
  },
  {
   "cell_type": "markdown",
   "metadata": {
    "colab_type": "text",
    "id": "_-Anom-Bha34"
   },
   "source": [
    "better prediction by random forest algorithm than multivariate linear regression"
   ]
  },
  {
   "cell_type": "markdown",
   "metadata": {
    "colab_type": "text",
    "id": "KZh2oxlhg7DJ"
   },
   "source": [
    "# Which categories of food are best for nutrition and the environment?"
   ]
  },
  {
   "cell_type": "code",
   "execution_count": 30,
   "metadata": {
    "colab": {
     "base_uri": "https://localhost:8080/",
     "height": 206
    },
    "colab_type": "code",
    "id": "q-Q7MZWDWyqi",
    "outputId": "44c52692-0bb7-4f24-f80d-e3d07e023182"
   },
   "outputs": [
    {
     "data": {
      "text/html": [
       "<div>\n",
       "<style scoped>\n",
       "    .dataframe tbody tr th:only-of-type {\n",
       "        vertical-align: middle;\n",
       "    }\n",
       "\n",
       "    .dataframe tbody tr th {\n",
       "        vertical-align: top;\n",
       "    }\n",
       "\n",
       "    .dataframe thead th {\n",
       "        text-align: right;\n",
       "    }\n",
       "</style>\n",
       "<table border=\"1\" class=\"dataframe\">\n",
       "  <thead>\n",
       "    <tr style=\"text-align: right;\">\n",
       "      <th></th>\n",
       "      <th>product_name</th>\n",
       "      <th>nutrition_grade_fr_n</th>\n",
       "      <th>nutrition_grade_fr</th>\n",
       "      <th>catPNNS</th>\n",
       "      <th>carbon-footprint_100g</th>\n",
       "    </tr>\n",
       "  </thead>\n",
       "  <tbody>\n",
       "    <tr>\n",
       "      <th>0</th>\n",
       "      <td>Suprême Noir Authentique</td>\n",
       "      <td>8.0</td>\n",
       "      <td>d</td>\n",
       "      <td>chocolate products</td>\n",
       "      <td>2842.0</td>\n",
       "    </tr>\n",
       "    <tr>\n",
       "      <th>1</th>\n",
       "      <td>Viande des grisons</td>\n",
       "      <td>8.0</td>\n",
       "      <td>d</td>\n",
       "      <td>meat</td>\n",
       "      <td>2520.0</td>\n",
       "    </tr>\n",
       "    <tr>\n",
       "      <th>2</th>\n",
       "      <td>Saucisson sec</td>\n",
       "      <td>1.0</td>\n",
       "      <td>e</td>\n",
       "      <td>processed meat</td>\n",
       "      <td>2380.0</td>\n",
       "    </tr>\n",
       "    <tr>\n",
       "      <th>3</th>\n",
       "      <td>Chocolat blanc</td>\n",
       "      <td>1.0</td>\n",
       "      <td>e</td>\n",
       "      <td>chocolate products</td>\n",
       "      <td>1440.0</td>\n",
       "    </tr>\n",
       "    <tr>\n",
       "      <th>4</th>\n",
       "      <td>Chocolat au lait</td>\n",
       "      <td>1.0</td>\n",
       "      <td>e</td>\n",
       "      <td>chocolate products</td>\n",
       "      <td>1321.0</td>\n",
       "    </tr>\n",
       "  </tbody>\n",
       "</table>\n",
       "</div>"
      ],
      "text/plain": [
       "               product_name  nutrition_grade_fr_n nutrition_grade_fr  \\\n",
       "0  Suprême Noir Authentique                   8.0                  d   \n",
       "1        Viande des grisons                   8.0                  d   \n",
       "2             Saucisson sec                   1.0                  e   \n",
       "3            Chocolat blanc                   1.0                  e   \n",
       "4         Chocolat au lait                    1.0                  e   \n",
       "\n",
       "              catPNNS  carbon-footprint_100g  \n",
       "0  chocolate products                 2842.0  \n",
       "1                meat                 2520.0  \n",
       "2      processed meat                 2380.0  \n",
       "3  chocolate products                 1440.0  \n",
       "4  chocolate products                 1321.0  "
      ]
     },
     "execution_count": 30,
     "metadata": {},
     "output_type": "execute_result"
    }
   ],
   "source": [
    "df_carbon.head()"
   ]
  },
  {
   "cell_type": "code",
   "execution_count": 31,
   "metadata": {
    "colab": {
     "base_uri": "https://localhost:8080/",
     "height": 615
    },
    "colab_type": "code",
    "id": "4U2b4b56XOyV",
    "outputId": "bc892354-82ad-472b-b932-25cc4d99f702"
   },
   "outputs": [
    {
     "data": {
      "text/html": [
       "<div>\n",
       "<style scoped>\n",
       "    .dataframe tbody tr th:only-of-type {\n",
       "        vertical-align: middle;\n",
       "    }\n",
       "\n",
       "    .dataframe tbody tr th {\n",
       "        vertical-align: top;\n",
       "    }\n",
       "\n",
       "    .dataframe thead th {\n",
       "        text-align: right;\n",
       "    }\n",
       "</style>\n",
       "<table border=\"1\" class=\"dataframe\">\n",
       "  <thead>\n",
       "    <tr style=\"text-align: right;\">\n",
       "      <th></th>\n",
       "      <th>product_name</th>\n",
       "      <th>catPNNS</th>\n",
       "      <th>nutrition_grade_fr_n</th>\n",
       "      <th>ingredients_from_palm_oil_n</th>\n",
       "      <th>ingredients_that_may_be_from_palm_oil_n</th>\n",
       "      <th>palm_oil_tot</th>\n",
       "    </tr>\n",
       "  </thead>\n",
       "  <tbody>\n",
       "    <tr>\n",
       "      <th>304421</th>\n",
       "      <td>Berlinas cacao</td>\n",
       "      <td>sweets</td>\n",
       "      <td>1.0</td>\n",
       "      <td>2.0</td>\n",
       "      <td>4.0</td>\n",
       "      <td>6.0</td>\n",
       "    </tr>\n",
       "    <tr>\n",
       "      <th>584645</th>\n",
       "      <td>Donuts fourrés caramel avec glacage blanc</td>\n",
       "      <td>biscuits and cakes</td>\n",
       "      <td>1.0</td>\n",
       "      <td>1.0</td>\n",
       "      <td>4.0</td>\n",
       "      <td>5.0</td>\n",
       "    </tr>\n",
       "    <tr>\n",
       "      <th>1002625</th>\n",
       "      <td>Croissant Tiernos y Deliciosos</td>\n",
       "      <td>pastries</td>\n",
       "      <td>1.0</td>\n",
       "      <td>1.0</td>\n",
       "      <td>4.0</td>\n",
       "      <td>5.0</td>\n",
       "    </tr>\n",
       "    <tr>\n",
       "      <th>562973</th>\n",
       "      <td>Tropéziennes</td>\n",
       "      <td>biscuits and cakes</td>\n",
       "      <td>8.0</td>\n",
       "      <td>1.0</td>\n",
       "      <td>4.0</td>\n",
       "      <td>5.0</td>\n",
       "    </tr>\n",
       "    <tr>\n",
       "      <th>562955</th>\n",
       "      <td>Fraisier 8 parts</td>\n",
       "      <td>biscuits and cakes</td>\n",
       "      <td>8.0</td>\n",
       "      <td>1.0</td>\n",
       "      <td>4.0</td>\n",
       "      <td>5.0</td>\n",
       "    </tr>\n",
       "    <tr>\n",
       "      <th>637593</th>\n",
       "      <td>Chinois Nature</td>\n",
       "      <td>pastries</td>\n",
       "      <td>8.0</td>\n",
       "      <td>1.0</td>\n",
       "      <td>4.0</td>\n",
       "      <td>5.0</td>\n",
       "    </tr>\n",
       "    <tr>\n",
       "      <th>562901</th>\n",
       "      <td>2 religieuses chocolat</td>\n",
       "      <td>biscuits and cakes</td>\n",
       "      <td>8.0</td>\n",
       "      <td>1.0</td>\n",
       "      <td>4.0</td>\n",
       "      <td>5.0</td>\n",
       "    </tr>\n",
       "    <tr>\n",
       "      <th>562900</th>\n",
       "      <td>2 Religieuses au Café</td>\n",
       "      <td>biscuits and cakes</td>\n",
       "      <td>8.0</td>\n",
       "      <td>1.0</td>\n",
       "      <td>4.0</td>\n",
       "      <td>5.0</td>\n",
       "    </tr>\n",
       "    <tr>\n",
       "      <th>868595</th>\n",
       "      <td>Napolitain L'Original</td>\n",
       "      <td>biscuits and cakes</td>\n",
       "      <td>1.0</td>\n",
       "      <td>1.0</td>\n",
       "      <td>4.0</td>\n",
       "      <td>5.0</td>\n",
       "    </tr>\n",
       "    <tr>\n",
       "      <th>289595</th>\n",
       "      <td>Napolitain, l'Original</td>\n",
       "      <td>biscuits and cakes</td>\n",
       "      <td>8.0</td>\n",
       "      <td>1.0</td>\n",
       "      <td>4.0</td>\n",
       "      <td>5.0</td>\n",
       "    </tr>\n",
       "    <tr>\n",
       "      <th>867432</th>\n",
       "      <td>Napolitain</td>\n",
       "      <td>biscuits and cakes</td>\n",
       "      <td>1.0</td>\n",
       "      <td>1.0</td>\n",
       "      <td>4.0</td>\n",
       "      <td>5.0</td>\n",
       "    </tr>\n",
       "    <tr>\n",
       "      <th>526344</th>\n",
       "      <td>brioche suisse</td>\n",
       "      <td>pastries</td>\n",
       "      <td>8.0</td>\n",
       "      <td>1.0</td>\n",
       "      <td>4.0</td>\n",
       "      <td>5.0</td>\n",
       "    </tr>\n",
       "    <tr>\n",
       "      <th>867431</th>\n",
       "      <td>Napolitain le Gâteau</td>\n",
       "      <td>biscuits and cakes</td>\n",
       "      <td>8.0</td>\n",
       "      <td>1.0</td>\n",
       "      <td>4.0</td>\n",
       "      <td>5.0</td>\n",
       "    </tr>\n",
       "    <tr>\n",
       "      <th>526335</th>\n",
       "      <td>Brioche suisse aux pépites de chocolat</td>\n",
       "      <td>pastries</td>\n",
       "      <td>8.0</td>\n",
       "      <td>1.0</td>\n",
       "      <td>4.0</td>\n",
       "      <td>5.0</td>\n",
       "    </tr>\n",
       "    <tr>\n",
       "      <th>142970</th>\n",
       "      <td>Millefeuille Décongelé individuel X 2</td>\n",
       "      <td>biscuits and cakes</td>\n",
       "      <td>1.0</td>\n",
       "      <td>1.0</td>\n",
       "      <td>4.0</td>\n",
       "      <td>5.0</td>\n",
       "    </tr>\n",
       "  </tbody>\n",
       "</table>\n",
       "</div>"
      ],
      "text/plain": [
       "                                      product_name             catPNNS  \\\n",
       "304421                              Berlinas cacao              sweets   \n",
       "584645   Donuts fourrés caramel avec glacage blanc  biscuits and cakes   \n",
       "1002625             Croissant Tiernos y Deliciosos            pastries   \n",
       "562973                                Tropéziennes  biscuits and cakes   \n",
       "562955                            Fraisier 8 parts  biscuits and cakes   \n",
       "637593                              Chinois Nature            pastries   \n",
       "562901                      2 religieuses chocolat  biscuits and cakes   \n",
       "562900                       2 Religieuses au Café  biscuits and cakes   \n",
       "868595                       Napolitain L'Original  biscuits and cakes   \n",
       "289595                      Napolitain, l'Original  biscuits and cakes   \n",
       "867432                                  Napolitain  biscuits and cakes   \n",
       "526344                              brioche suisse            pastries   \n",
       "867431                        Napolitain le Gâteau  biscuits and cakes   \n",
       "526335      Brioche suisse aux pépites de chocolat            pastries   \n",
       "142970       Millefeuille Décongelé individuel X 2  biscuits and cakes   \n",
       "\n",
       "         nutrition_grade_fr_n  ingredients_from_palm_oil_n  \\\n",
       "304421                    1.0                          2.0   \n",
       "584645                    1.0                          1.0   \n",
       "1002625                   1.0                          1.0   \n",
       "562973                    8.0                          1.0   \n",
       "562955                    8.0                          1.0   \n",
       "637593                    8.0                          1.0   \n",
       "562901                    8.0                          1.0   \n",
       "562900                    8.0                          1.0   \n",
       "868595                    1.0                          1.0   \n",
       "289595                    8.0                          1.0   \n",
       "867432                    1.0                          1.0   \n",
       "526344                    8.0                          1.0   \n",
       "867431                    8.0                          1.0   \n",
       "526335                    8.0                          1.0   \n",
       "142970                    1.0                          1.0   \n",
       "\n",
       "         ingredients_that_may_be_from_palm_oil_n  palm_oil_tot  \n",
       "304421                                       4.0           6.0  \n",
       "584645                                       4.0           5.0  \n",
       "1002625                                      4.0           5.0  \n",
       "562973                                       4.0           5.0  \n",
       "562955                                       4.0           5.0  \n",
       "637593                                       4.0           5.0  \n",
       "562901                                       4.0           5.0  \n",
       "562900                                       4.0           5.0  \n",
       "868595                                       4.0           5.0  \n",
       "289595                                       4.0           5.0  \n",
       "867432                                       4.0           5.0  \n",
       "526344                                       4.0           5.0  \n",
       "867431                                       4.0           5.0  \n",
       "526335                                       4.0           5.0  \n",
       "142970                                       4.0           5.0  "
      ]
     },
     "execution_count": 31,
     "metadata": {},
     "output_type": "execute_result"
    }
   ],
   "source": [
    "palm_categories = ['product_name','catPNNS','nutrition_grade_fr_n', 'ingredients_from_palm_oil_n', 'ingredients_that_may_be_from_palm_oil_n']\n",
    "df_palm = df_eco_all[palm_categories]\n",
    "df_palm = df_palm[df_palm['ingredients_from_palm_oil_n'] > 0] \n",
    "df_palm = df_palm[df_palm['ingredients_that_may_be_from_palm_oil_n'] > 0]\n",
    "\n",
    "df_palm['palm_oil_tot'] = df_palm['ingredients_from_palm_oil_n'] + df_palm['ingredients_that_may_be_from_palm_oil_n']\n",
    "df_palm = df_palm.dropna() \n",
    "df_palm = df_palm.sort_values(by=['palm_oil_tot'], ascending=False)\n",
    "df_palm[:15]"
   ]
  },
  {
   "cell_type": "code",
   "execution_count": 32,
   "metadata": {
    "colab": {
     "base_uri": "https://localhost:8080/",
     "height": 708
    },
    "colab_type": "code",
    "id": "vNsbnpsQZiEg",
    "outputId": "e216ace1-0756-4cbd-a386-133c65cd4ee0"
   },
   "outputs": [
    {
     "data": {
      "text/html": [
       "<div>\n",
       "<style scoped>\n",
       "    .dataframe tbody tr th:only-of-type {\n",
       "        vertical-align: middle;\n",
       "    }\n",
       "\n",
       "    .dataframe tbody tr th {\n",
       "        vertical-align: top;\n",
       "    }\n",
       "\n",
       "    .dataframe thead th {\n",
       "        text-align: right;\n",
       "    }\n",
       "</style>\n",
       "<table border=\"1\" class=\"dataframe\">\n",
       "  <thead>\n",
       "    <tr style=\"text-align: right;\">\n",
       "      <th></th>\n",
       "      <th>nutrition_grade_fr_n</th>\n",
       "      <th>ingredients_from_palm_oil_n</th>\n",
       "      <th>ingredients_that_may_be_from_palm_oil_n</th>\n",
       "      <th>palm_oil_tot</th>\n",
       "    </tr>\n",
       "    <tr>\n",
       "      <th>catPNNS</th>\n",
       "      <th></th>\n",
       "      <th></th>\n",
       "      <th></th>\n",
       "      <th></th>\n",
       "    </tr>\n",
       "  </thead>\n",
       "  <tbody>\n",
       "    <tr>\n",
       "      <th>pastries</th>\n",
       "      <td>7.117117</td>\n",
       "      <td>1.000000</td>\n",
       "      <td>1.936937</td>\n",
       "      <td>2.936937</td>\n",
       "    </tr>\n",
       "    <tr>\n",
       "      <th>dairy desserts</th>\n",
       "      <td>4.714286</td>\n",
       "      <td>1.000000</td>\n",
       "      <td>1.571429</td>\n",
       "      <td>2.571429</td>\n",
       "    </tr>\n",
       "    <tr>\n",
       "      <th>bread</th>\n",
       "      <td>14.870588</td>\n",
       "      <td>1.000000</td>\n",
       "      <td>1.541176</td>\n",
       "      <td>2.541176</td>\n",
       "    </tr>\n",
       "    <tr>\n",
       "      <th>milk and yogurt</th>\n",
       "      <td>16.333333</td>\n",
       "      <td>1.000000</td>\n",
       "      <td>1.500000</td>\n",
       "      <td>2.500000</td>\n",
       "    </tr>\n",
       "    <tr>\n",
       "      <th>biscuits and cakes</th>\n",
       "      <td>4.684982</td>\n",
       "      <td>1.019536</td>\n",
       "      <td>1.416361</td>\n",
       "      <td>2.435897</td>\n",
       "    </tr>\n",
       "    <tr>\n",
       "      <th>fats</th>\n",
       "      <td>12.328947</td>\n",
       "      <td>1.000000</td>\n",
       "      <td>1.401316</td>\n",
       "      <td>2.401316</td>\n",
       "    </tr>\n",
       "    <tr>\n",
       "      <th>sandwiches</th>\n",
       "      <td>11.842857</td>\n",
       "      <td>1.000000</td>\n",
       "      <td>1.357143</td>\n",
       "      <td>2.357143</td>\n",
       "    </tr>\n",
       "    <tr>\n",
       "      <th>unknown</th>\n",
       "      <td>7.788945</td>\n",
       "      <td>1.015075</td>\n",
       "      <td>1.266332</td>\n",
       "      <td>2.281407</td>\n",
       "    </tr>\n",
       "    <tr>\n",
       "      <th>appetizers</th>\n",
       "      <td>4.714286</td>\n",
       "      <td>1.031746</td>\n",
       "      <td>1.222222</td>\n",
       "      <td>2.253968</td>\n",
       "    </tr>\n",
       "    <tr>\n",
       "      <th>breakfast cereals</th>\n",
       "      <td>10.531250</td>\n",
       "      <td>1.156250</td>\n",
       "      <td>1.031250</td>\n",
       "      <td>2.187500</td>\n",
       "    </tr>\n",
       "    <tr>\n",
       "      <th>one-dish meals</th>\n",
       "      <td>12.719745</td>\n",
       "      <td>1.012739</td>\n",
       "      <td>1.171975</td>\n",
       "      <td>2.184713</td>\n",
       "    </tr>\n",
       "    <tr>\n",
       "      <th>cereals</th>\n",
       "      <td>9.974359</td>\n",
       "      <td>1.000000</td>\n",
       "      <td>1.153846</td>\n",
       "      <td>2.153846</td>\n",
       "    </tr>\n",
       "    <tr>\n",
       "      <th>pizza pies and quiches</th>\n",
       "      <td>9.806452</td>\n",
       "      <td>1.000000</td>\n",
       "      <td>1.129032</td>\n",
       "      <td>2.129032</td>\n",
       "    </tr>\n",
       "    <tr>\n",
       "      <th>dressings and sauces</th>\n",
       "      <td>9.111111</td>\n",
       "      <td>1.000000</td>\n",
       "      <td>1.111111</td>\n",
       "      <td>2.111111</td>\n",
       "    </tr>\n",
       "    <tr>\n",
       "      <th>meat</th>\n",
       "      <td>10.666667</td>\n",
       "      <td>1.000000</td>\n",
       "      <td>1.111111</td>\n",
       "      <td>2.111111</td>\n",
       "    </tr>\n",
       "    <tr>\n",
       "      <th>sweetened beverages</th>\n",
       "      <td>2.555556</td>\n",
       "      <td>1.000000</td>\n",
       "      <td>1.111111</td>\n",
       "      <td>2.111111</td>\n",
       "    </tr>\n",
       "    <tr>\n",
       "      <th>ice cream</th>\n",
       "      <td>7.848000</td>\n",
       "      <td>1.000000</td>\n",
       "      <td>1.104000</td>\n",
       "      <td>2.104000</td>\n",
       "    </tr>\n",
       "    <tr>\n",
       "      <th>pizza pies and quiche</th>\n",
       "      <td>9.023810</td>\n",
       "      <td>1.000000</td>\n",
       "      <td>1.095238</td>\n",
       "      <td>2.095238</td>\n",
       "    </tr>\n",
       "    <tr>\n",
       "      <th>sweets</th>\n",
       "      <td>3.736842</td>\n",
       "      <td>1.021053</td>\n",
       "      <td>1.068421</td>\n",
       "      <td>2.089474</td>\n",
       "    </tr>\n",
       "    <tr>\n",
       "      <th>potatoes</th>\n",
       "      <td>21.314286</td>\n",
       "      <td>1.028571</td>\n",
       "      <td>1.028571</td>\n",
       "      <td>2.057143</td>\n",
       "    </tr>\n",
       "  </tbody>\n",
       "</table>\n",
       "</div>"
      ],
      "text/plain": [
       "                        nutrition_grade_fr_n  ingredients_from_palm_oil_n  \\\n",
       "catPNNS                                                                     \n",
       "pastries                            7.117117                     1.000000   \n",
       "dairy desserts                      4.714286                     1.000000   \n",
       "bread                              14.870588                     1.000000   \n",
       "milk and yogurt                    16.333333                     1.000000   \n",
       "biscuits and cakes                  4.684982                     1.019536   \n",
       "fats                               12.328947                     1.000000   \n",
       "sandwiches                         11.842857                     1.000000   \n",
       "unknown                             7.788945                     1.015075   \n",
       "appetizers                          4.714286                     1.031746   \n",
       "breakfast cereals                  10.531250                     1.156250   \n",
       "one-dish meals                     12.719745                     1.012739   \n",
       "cereals                             9.974359                     1.000000   \n",
       "pizza pies and quiches              9.806452                     1.000000   \n",
       "dressings and sauces                9.111111                     1.000000   \n",
       "meat                               10.666667                     1.000000   \n",
       "sweetened beverages                 2.555556                     1.000000   \n",
       "ice cream                           7.848000                     1.000000   \n",
       "pizza pies and quiche               9.023810                     1.000000   \n",
       "sweets                              3.736842                     1.021053   \n",
       "potatoes                           21.314286                     1.028571   \n",
       "\n",
       "                        ingredients_that_may_be_from_palm_oil_n  palm_oil_tot  \n",
       "catPNNS                                                                        \n",
       "pastries                                               1.936937      2.936937  \n",
       "dairy desserts                                         1.571429      2.571429  \n",
       "bread                                                  1.541176      2.541176  \n",
       "milk and yogurt                                        1.500000      2.500000  \n",
       "biscuits and cakes                                     1.416361      2.435897  \n",
       "fats                                                   1.401316      2.401316  \n",
       "sandwiches                                             1.357143      2.357143  \n",
       "unknown                                                1.266332      2.281407  \n",
       "appetizers                                             1.222222      2.253968  \n",
       "breakfast cereals                                      1.031250      2.187500  \n",
       "one-dish meals                                         1.171975      2.184713  \n",
       "cereals                                                1.153846      2.153846  \n",
       "pizza pies and quiches                                 1.129032      2.129032  \n",
       "dressings and sauces                                   1.111111      2.111111  \n",
       "meat                                                   1.111111      2.111111  \n",
       "sweetened beverages                                    1.111111      2.111111  \n",
       "ice cream                                              1.104000      2.104000  \n",
       "pizza pies and quiche                                  1.095238      2.095238  \n",
       "sweets                                                 1.068421      2.089474  \n",
       "potatoes                                               1.028571      2.057143  "
      ]
     },
     "execution_count": 32,
     "metadata": {},
     "output_type": "execute_result"
    }
   ],
   "source": [
    "df_palm = df_palm.groupby(['catPNNS']).mean()\n",
    "df_palm = df_palm.sort_values(by=['palm_oil_tot'], ascending=False)\n",
    "df_palm[:-10]"
   ]
  },
  {
   "cell_type": "code",
   "execution_count": 33,
   "metadata": {
    "colab": {
     "base_uri": "https://localhost:8080/",
     "height": 645
    },
    "colab_type": "code",
    "id": "5OZSTWcZNzzT",
    "outputId": "1699c8b4-f731-412c-be06-7b0160da9400"
   },
   "outputs": [
    {
     "name": "stdout",
     "output_type": "stream",
     "text": [
      "(28, 3)\n"
     ]
    }
   ],
   "source": [
    "# here a visualization of average environmental impact (carbon footprint)\n",
    "# and quality for each category according to the french national health programme\n",
    "df_carbon_cat = df_carbon[['nutrition_grade_fr_n','catPNNS', 'carbon-footprint_100g']]\n",
    "df_carbon_cat = df_carbon_cat[df_carbon_cat.catPNNS != 'unknown']\n",
    "\n",
    "df_carbon_cat = df_carbon_cat.groupby(['catPNNS']).mean()\n",
    "df_carbon_cat = df_carbon_cat.sort_values(by=['carbon-footprint_100g'], ascending=False)\n",
    "df_carbon_cat = df_carbon_cat.reset_index(drop=False)\n",
    "df_carbon_cat[:-10]\n",
    "print(df_carbon_cat.shape)"
   ]
  },
  {
   "cell_type": "code",
   "execution_count": 34,
   "metadata": {
    "colab": {
     "base_uri": "https://localhost:8080/",
     "height": 300
    },
    "colab_type": "code",
    "id": "FqBh9ffo7WLM",
    "outputId": "335ac64a-fb3b-4945-bfbd-3cddc4dec56d"
   },
   "outputs": [
    {
     "data": {
      "text/html": [
       "<div>\n",
       "<style scoped>\n",
       "    .dataframe tbody tr th:only-of-type {\n",
       "        vertical-align: middle;\n",
       "    }\n",
       "\n",
       "    .dataframe tbody tr th {\n",
       "        vertical-align: top;\n",
       "    }\n",
       "\n",
       "    .dataframe thead th {\n",
       "        text-align: right;\n",
       "    }\n",
       "</style>\n",
       "<table border=\"1\" class=\"dataframe\">\n",
       "  <thead>\n",
       "    <tr style=\"text-align: right;\">\n",
       "      <th></th>\n",
       "      <th>nutrition_grade_fr_n</th>\n",
       "      <th>carbon-footprint_100g</th>\n",
       "    </tr>\n",
       "  </thead>\n",
       "  <tbody>\n",
       "    <tr>\n",
       "      <th>count</th>\n",
       "      <td>28.000000</td>\n",
       "      <td>28.000000</td>\n",
       "    </tr>\n",
       "    <tr>\n",
       "      <th>mean</th>\n",
       "      <td>13.182704</td>\n",
       "      <td>340.513608</td>\n",
       "    </tr>\n",
       "    <tr>\n",
       "      <th>std</th>\n",
       "      <td>7.698734</td>\n",
       "      <td>313.463702</td>\n",
       "    </tr>\n",
       "    <tr>\n",
       "      <th>min</th>\n",
       "      <td>1.000000</td>\n",
       "      <td>61.633333</td>\n",
       "    </tr>\n",
       "    <tr>\n",
       "      <th>25%</th>\n",
       "      <td>7.500000</td>\n",
       "      <td>174.595833</td>\n",
       "    </tr>\n",
       "    <tr>\n",
       "      <th>50%</th>\n",
       "      <td>13.583333</td>\n",
       "      <td>268.685714</td>\n",
       "    </tr>\n",
       "    <tr>\n",
       "      <th>75%</th>\n",
       "      <td>19.418831</td>\n",
       "      <td>419.279548</td>\n",
       "    </tr>\n",
       "    <tr>\n",
       "      <th>max</th>\n",
       "      <td>25.000000</td>\n",
       "      <td>1687.500000</td>\n",
       "    </tr>\n",
       "  </tbody>\n",
       "</table>\n",
       "</div>"
      ],
      "text/plain": [
       "       nutrition_grade_fr_n  carbon-footprint_100g\n",
       "count             28.000000              28.000000\n",
       "mean              13.182704             340.513608\n",
       "std                7.698734             313.463702\n",
       "min                1.000000              61.633333\n",
       "25%                7.500000             174.595833\n",
       "50%               13.583333             268.685714\n",
       "75%               19.418831             419.279548\n",
       "max               25.000000            1687.500000"
      ]
     },
     "execution_count": 34,
     "metadata": {},
     "output_type": "execute_result"
    }
   ],
   "source": [
    "df_carbon_cat.describe()"
   ]
  },
  {
   "cell_type": "code",
   "execution_count": 49,
   "metadata": {
    "colab": {
     "base_uri": "https://localhost:8080/",
     "height": 745
    },
    "colab_type": "code",
    "id": "qVV1SBHOUlEi",
    "outputId": "9cbab38a-e6b2-41ab-fbc6-7c801bd4a1cb"
   },
   "outputs": [
    {
     "data": {
      "image/png": "[encoded data removed]",
      "text/plain": [
       "<Figure size 576x720 with 1 Axes>"
      ]
     },
     "metadata": {
      "needs_background": "light"
     },
     "output_type": "display_data"
    }
   ],
   "source": [
    "plt.figure(figsize=(8,10))\n",
    "\n",
    "plt.barh(df_carbon_cat['catPNNS'], df_carbon_cat['carbon-footprint_100g'])\n",
    "plt.title('Environmental impact by PNNS food category', color=\"red\", fontsize = 14)\n",
    "plt.ylabel('Carbon footprint', color=\"red\", fontsize = 14)\n",
    "plt.xticks(rotation='vertical')\n",
    "plt.rcParams['figure.constrained_layout.use'] = True\n",
    "plt.savefig(\"PNNS Category based carbon footprint.png\", format=\"PNG\", dpi = 100)"
   ]
  },
  {
   "cell_type": "code",
   "execution_count": 16,
   "metadata": {
    "colab": {
     "base_uri": "https://localhost:8080/",
     "height": 424
    },
    "colab_type": "code",
    "id": "g2lvyszXda2_",
    "outputId": "dcf5ac4d-5e06-49e6-ba98-3289513afcac"
   },
   "outputs": [
    {
     "data": {
      "text/html": [
       "<div>\n",
       "<style scoped>\n",
       "    .dataframe tbody tr th:only-of-type {\n",
       "        vertical-align: middle;\n",
       "    }\n",
       "\n",
       "    .dataframe tbody tr th {\n",
       "        vertical-align: top;\n",
       "    }\n",
       "\n",
       "    .dataframe thead th {\n",
       "        text-align: right;\n",
       "    }\n",
       "</style>\n",
       "<table border=\"1\" class=\"dataframe\">\n",
       "  <thead>\n",
       "    <tr style=\"text-align: right;\">\n",
       "      <th></th>\n",
       "      <th>product_name</th>\n",
       "      <th>carbon-footprint_100g</th>\n",
       "      <th>nutrition_grade_fr</th>\n",
       "    </tr>\n",
       "  </thead>\n",
       "  <tbody>\n",
       "    <tr>\n",
       "      <th>1</th>\n",
       "      <td>Viande des grisons</td>\n",
       "      <td>2520.0</td>\n",
       "      <td>d</td>\n",
       "    </tr>\n",
       "    <tr>\n",
       "      <th>25</th>\n",
       "      <td>Filet de Poulet tranché, cuit au four, nature</td>\n",
       "      <td>855.0</td>\n",
       "      <td>b</td>\n",
       "    </tr>\n",
       "  </tbody>\n",
       "</table>\n",
       "</div>"
      ],
      "text/plain": [
       "                                     product_name  carbon-footprint_100g  \\\n",
       "1                              Viande des grisons                 2520.0   \n",
       "25  Filet de Poulet tranché, cuit au four, nature                  855.0   \n",
       "\n",
       "   nutrition_grade_fr  \n",
       "1                   d  \n",
       "25                  b  "
      ]
     },
     "execution_count": 16,
     "metadata": {},
     "output_type": "execute_result"
    }
   ],
   "source": [
    "df_meat = df_carbon[df_carbon['catPNNS'] == 'meat']\n",
    "df_meat = df_meat.sort_values(by=['carbon-footprint_100g'], ascending=False)\n",
    "df_meat = df_meat[['product_name', 'carbon-footprint_100g','nutrition_grade_fr']]\n",
    "df_meat"
   ]
  },
  {
   "cell_type": "code",
   "execution_count": 20,
   "metadata": {
    "colab": {
     "base_uri": "https://localhost:8080/",
     "height": 424
    },
    "colab_type": "code",
    "id": "g2lvyszXda2_",
    "outputId": "dcf5ac4d-5e06-49e6-ba98-3289513afcac"
   },
   "outputs": [
    {
     "data": {
      "text/html": [
       "<div>\n",
       "<style scoped>\n",
       "    .dataframe tbody tr th:only-of-type {\n",
       "        vertical-align: middle;\n",
       "    }\n",
       "\n",
       "    .dataframe tbody tr th {\n",
       "        vertical-align: top;\n",
       "    }\n",
       "\n",
       "    .dataframe thead th {\n",
       "        text-align: right;\n",
       "    }\n",
       "</style>\n",
       "<table border=\"1\" class=\"dataframe\">\n",
       "  <thead>\n",
       "    <tr style=\"text-align: right;\">\n",
       "      <th></th>\n",
       "      <th>product_name</th>\n",
       "      <th>carbon-footprint_100g</th>\n",
       "      <th>nutrition_grade_fr</th>\n",
       "    </tr>\n",
       "  </thead>\n",
       "  <tbody>\n",
       "    <tr>\n",
       "      <th>2</th>\n",
       "      <td>Saucisson sec</td>\n",
       "      <td>2380.0</td>\n",
       "      <td>e</td>\n",
       "    </tr>\n",
       "    <tr>\n",
       "      <th>8</th>\n",
       "      <td>Jambon de Bayonne</td>\n",
       "      <td>1285.0</td>\n",
       "      <td>e</td>\n",
       "    </tr>\n",
       "    <tr>\n",
       "      <th>22</th>\n",
       "      <td>Lardons fumés</td>\n",
       "      <td>945.0</td>\n",
       "      <td>e</td>\n",
       "    </tr>\n",
       "    <tr>\n",
       "      <th>23</th>\n",
       "      <td>Lardons Nature</td>\n",
       "      <td>945.0</td>\n",
       "      <td>e</td>\n",
       "    </tr>\n",
       "    <tr>\n",
       "      <th>26</th>\n",
       "      <td>Saucisson à l'ail pur porc nature</td>\n",
       "      <td>840.0</td>\n",
       "      <td>d</td>\n",
       "    </tr>\n",
       "    <tr>\n",
       "      <th>27</th>\n",
       "      <td>Mini Knacks</td>\n",
       "      <td>835.0</td>\n",
       "      <td>d</td>\n",
       "    </tr>\n",
       "    <tr>\n",
       "      <th>33</th>\n",
       "      <td>Saucisses de Francfort</td>\n",
       "      <td>825.0</td>\n",
       "      <td>e</td>\n",
       "    </tr>\n",
       "    <tr>\n",
       "      <th>182</th>\n",
       "      <td>Jambon superieur sans couenne</td>\n",
       "      <td>140.0</td>\n",
       "      <td>c</td>\n",
       "    </tr>\n",
       "    <tr>\n",
       "      <th>212</th>\n",
       "      <td>Merguez porc</td>\n",
       "      <td>100.0</td>\n",
       "      <td>d</td>\n",
       "    </tr>\n",
       "    <tr>\n",
       "      <th>217</th>\n",
       "      <td>Boudins noirs nature</td>\n",
       "      <td>100.0</td>\n",
       "      <td>e</td>\n",
       "    </tr>\n",
       "    <tr>\n",
       "      <th>206</th>\n",
       "      <td>Saucisses fumées</td>\n",
       "      <td>100.0</td>\n",
       "      <td>e</td>\n",
       "    </tr>\n",
       "    <tr>\n",
       "      <th>214</th>\n",
       "      <td>Mini boudins noirs nature</td>\n",
       "      <td>100.0</td>\n",
       "      <td>e</td>\n",
       "    </tr>\n",
       "    <tr>\n",
       "      <th>213</th>\n",
       "      <td>Jambon Supérieur sans Couenne</td>\n",
       "      <td>100.0</td>\n",
       "      <td>d</td>\n",
       "    </tr>\n",
       "    <tr>\n",
       "      <th>210</th>\n",
       "      <td>Chipo vigneronne</td>\n",
       "      <td>100.0</td>\n",
       "      <td>d</td>\n",
       "    </tr>\n",
       "    <tr>\n",
       "      <th>209</th>\n",
       "      <td>5 boudins noirs piment</td>\n",
       "      <td>100.0</td>\n",
       "      <td>e</td>\n",
       "    </tr>\n",
       "    <tr>\n",
       "      <th>208</th>\n",
       "      <td>6 chipo chorizo</td>\n",
       "      <td>100.0</td>\n",
       "      <td>e</td>\n",
       "    </tr>\n",
       "  </tbody>\n",
       "</table>\n",
       "</div>"
      ],
      "text/plain": [
       "                          product_name  carbon-footprint_100g  \\\n",
       "2                        Saucisson sec                 2380.0   \n",
       "8                    Jambon de Bayonne                 1285.0   \n",
       "22                       Lardons fumés                  945.0   \n",
       "23                      Lardons Nature                  945.0   \n",
       "26   Saucisson à l'ail pur porc nature                  840.0   \n",
       "27                         Mini Knacks                  835.0   \n",
       "33              Saucisses de Francfort                  825.0   \n",
       "182      Jambon superieur sans couenne                  140.0   \n",
       "212                       Merguez porc                  100.0   \n",
       "217               Boudins noirs nature                  100.0   \n",
       "206                   Saucisses fumées                  100.0   \n",
       "214          Mini boudins noirs nature                  100.0   \n",
       "213      Jambon Supérieur sans Couenne                  100.0   \n",
       "210                   Chipo vigneronne                  100.0   \n",
       "209             5 boudins noirs piment                  100.0   \n",
       "208                    6 chipo chorizo                  100.0   \n",
       "\n",
       "    nutrition_grade_fr  \n",
       "2                    e  \n",
       "8                    e  \n",
       "22                   e  \n",
       "23                   e  \n",
       "26                   d  \n",
       "27                   d  \n",
       "33                   e  \n",
       "182                  c  \n",
       "212                  d  \n",
       "217                  e  \n",
       "206                  e  \n",
       "214                  e  \n",
       "213                  d  \n",
       "210                  d  \n",
       "209                  e  \n",
       "208                  e  "
      ]
     },
     "execution_count": 20,
     "metadata": {},
     "output_type": "execute_result"
    }
   ],
   "source": [
    "df_prmeat = df_carbon[df_carbon['catPNNS'] == 'processed meat']\n",
    "df_prmeat = df_prmeat.sort_values(by=['carbon-footprint_100g'], ascending=False)\n",
    "df_prmeat = df_prmeat[['product_name', 'carbon-footprint_100g','nutrition_grade_fr']]\n",
    "df_prmeat"
   ]
  },
  {
   "cell_type": "code",
   "execution_count": 28,
   "metadata": {
    "colab": {
     "base_uri": "https://localhost:8080/",
     "height": 424
    },
    "colab_type": "code",
    "id": "g2lvyszXda2_",
    "outputId": "dcf5ac4d-5e06-49e6-ba98-3289513afcac"
   },
   "outputs": [
    {
     "data": {
      "image/png": "[encoded data removed]",
      "text/plain": [
       "<Figure size 144x360 with 1 Axes>"
      ]
     },
     "metadata": {
      "needs_background": "light"
     },
     "output_type": "display_data"
    }
   ],
   "source": [
    "plt.figure(figsize=(2,5))\n",
    "boxprmeat = plt.boxplot(df_prmeat['carbon-footprint_100g'])\n",
    "\n",
    "plt.ylabel('Carbon footprint')\n",
    "plt.xticks([1],['Processed meat'])\n",
    "plt.savefig(\"processed meat carbon footprint.png\", format=\"PNG\", dpi = 100)"
   ]
  },
  {
   "cell_type": "code",
   "execution_count": 36,
   "metadata": {
    "colab": {
     "base_uri": "https://localhost:8080/",
     "height": 424
    },
    "colab_type": "code",
    "id": "g2lvyszXda2_",
    "outputId": "dcf5ac4d-5e06-49e6-ba98-3289513afcac"
   },
   "outputs": [
    {
     "data": {
      "text/html": [
       "<div>\n",
       "<style scoped>\n",
       "    .dataframe tbody tr th:only-of-type {\n",
       "        vertical-align: middle;\n",
       "    }\n",
       "\n",
       "    .dataframe tbody tr th {\n",
       "        vertical-align: top;\n",
       "    }\n",
       "\n",
       "    .dataframe thead th {\n",
       "        text-align: right;\n",
       "    }\n",
       "</style>\n",
       "<table border=\"1\" class=\"dataframe\">\n",
       "  <thead>\n",
       "    <tr style=\"text-align: right;\">\n",
       "      <th></th>\n",
       "      <th>catPNNS</th>\n",
       "      <th>nutrition_grade_fr_n</th>\n",
       "    </tr>\n",
       "  </thead>\n",
       "  <tbody>\n",
       "    <tr>\n",
       "      <th>0</th>\n",
       "      <td>chocolate products</td>\n",
       "      <td>8.0</td>\n",
       "    </tr>\n",
       "    <tr>\n",
       "      <th>1</th>\n",
       "      <td>meat</td>\n",
       "      <td>8.0</td>\n",
       "    </tr>\n",
       "    <tr>\n",
       "      <th>2</th>\n",
       "      <td>processed meat</td>\n",
       "      <td>1.0</td>\n",
       "    </tr>\n",
       "    <tr>\n",
       "      <th>3</th>\n",
       "      <td>chocolate products</td>\n",
       "      <td>1.0</td>\n",
       "    </tr>\n",
       "    <tr>\n",
       "      <th>4</th>\n",
       "      <td>chocolate products</td>\n",
       "      <td>1.0</td>\n",
       "    </tr>\n",
       "    <tr>\n",
       "      <th>5</th>\n",
       "      <td>chocolate products</td>\n",
       "      <td>1.0</td>\n",
       "    </tr>\n",
       "    <tr>\n",
       "      <th>6</th>\n",
       "      <td>chocolate products</td>\n",
       "      <td>1.0</td>\n",
       "    </tr>\n",
       "    <tr>\n",
       "      <th>7</th>\n",
       "      <td>chocolate products</td>\n",
       "      <td>1.0</td>\n",
       "    </tr>\n",
       "    <tr>\n",
       "      <th>8</th>\n",
       "      <td>processed meat</td>\n",
       "      <td>1.0</td>\n",
       "    </tr>\n",
       "    <tr>\n",
       "      <th>9</th>\n",
       "      <td>cheese</td>\n",
       "      <td>8.0</td>\n",
       "    </tr>\n",
       "  </tbody>\n",
       "</table>\n",
       "</div>"
      ],
      "text/plain": [
       "              catPNNS  nutrition_grade_fr_n\n",
       "0  chocolate products                   8.0\n",
       "1                meat                   8.0\n",
       "2      processed meat                   1.0\n",
       "3  chocolate products                   1.0\n",
       "4  chocolate products                   1.0\n",
       "5  chocolate products                   1.0\n",
       "6  chocolate products                   1.0\n",
       "7  chocolate products                   1.0\n",
       "8      processed meat                   1.0\n",
       "9              cheese                   8.0"
      ]
     },
     "execution_count": 36,
     "metadata": {},
     "output_type": "execute_result"
    }
   ],
   "source": [
    "nutritionalcategories = ['catPNNS','nutrition_grade_fr_n']\n",
    "df_nutcat = df_eco_all[nutritionalcategories]\n",
    "df_nutcat[:10]"
   ]
  },
  {
   "cell_type": "code",
   "execution_count": 37,
   "metadata": {
    "colab": {
     "base_uri": "https://localhost:8080/",
     "height": 300
    },
    "colab_type": "code",
    "id": "oYC6mIVe7KjB",
    "outputId": "a6926e44-f3b7-4adf-d4f6-2e18d6509203"
   },
   "outputs": [
    {
     "data": {
      "text/html": [
       "<div>\n",
       "<style scoped>\n",
       "    .dataframe tbody tr th:only-of-type {\n",
       "        vertical-align: middle;\n",
       "    }\n",
       "\n",
       "    .dataframe tbody tr th {\n",
       "        vertical-align: top;\n",
       "    }\n",
       "\n",
       "    .dataframe thead th {\n",
       "        text-align: right;\n",
       "    }\n",
       "</style>\n",
       "<table border=\"1\" class=\"dataframe\">\n",
       "  <thead>\n",
       "    <tr style=\"text-align: right;\">\n",
       "      <th></th>\n",
       "      <th>nutrition_grade_fr_n</th>\n",
       "    </tr>\n",
       "  </thead>\n",
       "  <tbody>\n",
       "    <tr>\n",
       "      <th>count</th>\n",
       "      <td>301820.000000</td>\n",
       "    </tr>\n",
       "    <tr>\n",
       "      <th>mean</th>\n",
       "      <td>12.622484</td>\n",
       "    </tr>\n",
       "    <tr>\n",
       "      <th>std</th>\n",
       "      <td>8.225267</td>\n",
       "    </tr>\n",
       "    <tr>\n",
       "      <th>min</th>\n",
       "      <td>1.000000</td>\n",
       "    </tr>\n",
       "    <tr>\n",
       "      <th>25%</th>\n",
       "      <td>8.000000</td>\n",
       "    </tr>\n",
       "    <tr>\n",
       "      <th>50%</th>\n",
       "      <td>8.000000</td>\n",
       "    </tr>\n",
       "    <tr>\n",
       "      <th>75%</th>\n",
       "      <td>21.000000</td>\n",
       "    </tr>\n",
       "    <tr>\n",
       "      <th>max</th>\n",
       "      <td>25.000000</td>\n",
       "    </tr>\n",
       "  </tbody>\n",
       "</table>\n",
       "</div>"
      ],
      "text/plain": [
       "       nutrition_grade_fr_n\n",
       "count         301820.000000\n",
       "mean              12.622484\n",
       "std                8.225267\n",
       "min                1.000000\n",
       "25%                8.000000\n",
       "50%                8.000000\n",
       "75%               21.000000\n",
       "max               25.000000"
      ]
     },
     "execution_count": 37,
     "metadata": {},
     "output_type": "execute_result"
    }
   ],
   "source": [
    "df_nutcat.describe()"
   ]
  },
  {
   "cell_type": "code",
   "execution_count": 63,
   "metadata": {
    "colab": {
     "base_uri": "https://localhost:8080/",
     "height": 206
    },
    "colab_type": "code",
    "id": "gC_g9_0pmCRp",
    "outputId": "4923471d-663e-446f-d20f-f83e9616e201"
   },
   "outputs": [
    {
     "data": {
      "text/html": [
       "<div>\n",
       "<style scoped>\n",
       "    .dataframe tbody tr th:only-of-type {\n",
       "        vertical-align: middle;\n",
       "    }\n",
       "\n",
       "    .dataframe tbody tr th {\n",
       "        vertical-align: top;\n",
       "    }\n",
       "\n",
       "    .dataframe thead th {\n",
       "        text-align: right;\n",
       "    }\n",
       "</style>\n",
       "<table border=\"1\" class=\"dataframe\">\n",
       "  <thead>\n",
       "    <tr style=\"text-align: right;\">\n",
       "      <th></th>\n",
       "      <th>catPNNS</th>\n",
       "      <th>nutrition_grade_fr_n</th>\n",
       "    </tr>\n",
       "  </thead>\n",
       "  <tbody>\n",
       "    <tr>\n",
       "      <th>0</th>\n",
       "      <td>chocolate products</td>\n",
       "      <td>2.227424</td>\n",
       "    </tr>\n",
       "    <tr>\n",
       "      <th>1</th>\n",
       "      <td>fruit nectars</td>\n",
       "      <td>2.668821</td>\n",
       "    </tr>\n",
       "    <tr>\n",
       "      <th>2</th>\n",
       "      <td>sweetened beverages</td>\n",
       "      <td>3.169091</td>\n",
       "    </tr>\n",
       "    <tr>\n",
       "      <th>3</th>\n",
       "      <td>biscuits and cakes</td>\n",
       "      <td>5.428198</td>\n",
       "    </tr>\n",
       "    <tr>\n",
       "      <th>4</th>\n",
       "      <td>pastries</td>\n",
       "      <td>5.786113</td>\n",
       "    </tr>\n",
       "  </tbody>\n",
       "</table>\n",
       "</div>"
      ],
      "text/plain": [
       "               catPNNS  nutrition_grade_fr_n\n",
       "0   chocolate products              2.227424\n",
       "1        fruit nectars              2.668821\n",
       "2  sweetened beverages              3.169091\n",
       "3   biscuits and cakes              5.428198\n",
       "4             pastries              5.786113"
      ]
     },
     "execution_count": 63,
     "metadata": {},
     "output_type": "execute_result"
    }
   ],
   "source": [
    "\n",
    "df_nutcat = df_nutcat.groupby(['catPNNS']).mean()\n",
    "df_nutcat = df_nutcat.sort_values(by=['nutrition_grade_fr_n'], ascending=True)\n",
    "df_nutcat = df_nutcat.reset_index(drop=False)\n",
    "df_nutcat.head()"
   ]
  },
  {
   "cell_type": "code",
   "execution_count": null,
   "metadata": {
    "colab": {
     "base_uri": "https://localhost:8080/",
     "height": 745
    },
    "colab_type": "code",
    "id": "SuxvJ31JuHQe",
    "outputId": "d9f3259e-45af-4229-988c-6d1a9e98efe6"
   },
   "outputs": [],
   "source": []
  },
  {
   "cell_type": "code",
   "execution_count": 39,
   "metadata": {
    "colab": {
     "base_uri": "https://localhost:8080/",
     "height": 745
    },
    "colab_type": "code",
    "id": "SuxvJ31JuHQe",
    "outputId": "d9f3259e-45af-4229-988c-6d1a9e98efe6"
   },
   "outputs": [
    {
     "data": {
      "image/png": "[encoded data removed]",
      "text/plain": [
       "<Figure size 576x720 with 1 Axes>"
      ]
     },
     "metadata": {
      "needs_background": "light"
     },
     "output_type": "display_data"
    }
   ],
   "source": [
    "plt.figure(figsize=(8,10))\n",
    "plt.barh(df_nutcat['catPNNS'], df_nutcat['nutrition_grade_fr_n'])\n",
    "plt.title('Nutritional value by PNNS food category', color=\"red\", fontsize = 14)\n",
    "plt.ylabel('Average nutrition score', color=\"red\", fontsize = 14)\n",
    "plt.xticks(rotation='vertical')\n",
    "plt.rcParams['figure.constrained_layout.use'] = True\n",
    "plt.savefig(\"PNNS Category based nutrition.png\", format=\"PNG\", dpi = 100)"
   ]
  },
  {
   "cell_type": "code",
   "execution_count": 40,
   "metadata": {
    "colab": {
     "base_uri": "https://localhost:8080/",
     "height": 206
    },
    "colab_type": "code",
    "id": "kyUNCEA67qhu",
    "outputId": "0054bc18-9c3f-4f07-d354-4cede3d57acf"
   },
   "outputs": [
    {
     "data": {
      "text/html": [
       "<div>\n",
       "<style scoped>\n",
       "    .dataframe tbody tr th:only-of-type {\n",
       "        vertical-align: middle;\n",
       "    }\n",
       "\n",
       "    .dataframe tbody tr th {\n",
       "        vertical-align: top;\n",
       "    }\n",
       "\n",
       "    .dataframe thead th {\n",
       "        text-align: right;\n",
       "    }\n",
       "</style>\n",
       "<table border=\"1\" class=\"dataframe\">\n",
       "  <thead>\n",
       "    <tr style=\"text-align: right;\">\n",
       "      <th></th>\n",
       "      <th>catPNNS</th>\n",
       "      <th>nutrition_grade_fr_n</th>\n",
       "    </tr>\n",
       "  </thead>\n",
       "  <tbody>\n",
       "    <tr>\n",
       "      <th>0</th>\n",
       "      <td>biscuits and cakes</td>\n",
       "      <td>11855</td>\n",
       "    </tr>\n",
       "    <tr>\n",
       "      <th>1</th>\n",
       "      <td>unknown</td>\n",
       "      <td>7611</td>\n",
       "    </tr>\n",
       "    <tr>\n",
       "      <th>2</th>\n",
       "      <td>chocolate products</td>\n",
       "      <td>7394</td>\n",
       "    </tr>\n",
       "    <tr>\n",
       "      <th>3</th>\n",
       "      <td>processed meat</td>\n",
       "      <td>6802</td>\n",
       "    </tr>\n",
       "    <tr>\n",
       "      <th>4</th>\n",
       "      <td>sweets</td>\n",
       "      <td>4639</td>\n",
       "    </tr>\n",
       "  </tbody>\n",
       "</table>\n",
       "</div>"
      ],
      "text/plain": [
       "              catPNNS  nutrition_grade_fr_n\n",
       "0  biscuits and cakes                 11855\n",
       "1             unknown                  7611\n",
       "2  chocolate products                  7394\n",
       "3      processed meat                  6802\n",
       "4              sweets                  4639"
      ]
     },
     "execution_count": 40,
     "metadata": {},
     "output_type": "execute_result"
    }
   ],
   "source": [
    "df_e = df_eco_all[df_eco_all['nutrition_grade_fr'] == \"e\"]\n",
    "df_e_reduced = df_e[['nutrition_grade_fr_n','catPNNS']]\n",
    "df_e_reduced = df_e_reduced.groupby(['catPNNS']).count()\n",
    "df_e_reduced = df_e_reduced.sort_values(by=['nutrition_grade_fr_n'], ascending= False)\n",
    "df_e_reduced = df_e_reduced.reset_index(drop=False)\n",
    "df_e_reduced.head()"
   ]
  },
  {
   "cell_type": "code",
   "execution_count": 43,
   "metadata": {
    "colab": {
     "base_uri": "https://localhost:8080/",
     "height": 547
    },
    "colab_type": "code",
    "id": "7fip_usQAueo",
    "outputId": "b2cbebba-bd2b-47cd-b6f6-c5a36f9ff418"
   },
   "outputs": [
    {
     "name": "stdout",
     "output_type": "stream",
     "text": [
      "tot:  46494\n"
     ]
    },
    {
     "data": {
      "text/html": [
       "<div>\n",
       "<style scoped>\n",
       "    .dataframe tbody tr th:only-of-type {\n",
       "        vertical-align: middle;\n",
       "    }\n",
       "\n",
       "    .dataframe tbody tr th {\n",
       "        vertical-align: top;\n",
       "    }\n",
       "\n",
       "    .dataframe thead th {\n",
       "        text-align: right;\n",
       "    }\n",
       "</style>\n",
       "<table border=\"1\" class=\"dataframe\">\n",
       "  <thead>\n",
       "    <tr style=\"text-align: right;\">\n",
       "      <th></th>\n",
       "      <th>catPNNS</th>\n",
       "      <th>nutrition_grade_fr_n</th>\n",
       "      <th>percentage</th>\n",
       "    </tr>\n",
       "  </thead>\n",
       "  <tbody>\n",
       "    <tr>\n",
       "      <th>0</th>\n",
       "      <td>biscuits and cakes</td>\n",
       "      <td>11855</td>\n",
       "      <td>25.497914</td>\n",
       "    </tr>\n",
       "    <tr>\n",
       "      <th>2</th>\n",
       "      <td>chocolate products</td>\n",
       "      <td>7394</td>\n",
       "      <td>15.903127</td>\n",
       "    </tr>\n",
       "    <tr>\n",
       "      <th>3</th>\n",
       "      <td>processed meat</td>\n",
       "      <td>6802</td>\n",
       "      <td>14.629845</td>\n",
       "    </tr>\n",
       "    <tr>\n",
       "      <th>4</th>\n",
       "      <td>sweets</td>\n",
       "      <td>4639</td>\n",
       "      <td>9.977632</td>\n",
       "    </tr>\n",
       "    <tr>\n",
       "      <th>5</th>\n",
       "      <td>sweetened beverages</td>\n",
       "      <td>4451</td>\n",
       "      <td>9.573278</td>\n",
       "    </tr>\n",
       "    <tr>\n",
       "      <th>6</th>\n",
       "      <td>salty and fatty products</td>\n",
       "      <td>2235</td>\n",
       "      <td>4.807072</td>\n",
       "    </tr>\n",
       "    <tr>\n",
       "      <th>7</th>\n",
       "      <td>dressings and sauces</td>\n",
       "      <td>2229</td>\n",
       "      <td>4.794167</td>\n",
       "    </tr>\n",
       "    <tr>\n",
       "      <th>8</th>\n",
       "      <td>fats</td>\n",
       "      <td>1829</td>\n",
       "      <td>3.933841</td>\n",
       "    </tr>\n",
       "    <tr>\n",
       "      <th>9</th>\n",
       "      <td>unsweetened beverages</td>\n",
       "      <td>1795</td>\n",
       "      <td>3.860713</td>\n",
       "    </tr>\n",
       "    <tr>\n",
       "      <th>10</th>\n",
       "      <td>pastries</td>\n",
       "      <td>1201</td>\n",
       "      <td>2.583129</td>\n",
       "    </tr>\n",
       "    <tr>\n",
       "      <th>11</th>\n",
       "      <td>cheese</td>\n",
       "      <td>1043</td>\n",
       "      <td>2.243300</td>\n",
       "    </tr>\n",
       "    <tr>\n",
       "      <th>12</th>\n",
       "      <td>fruit nectars</td>\n",
       "      <td>1021</td>\n",
       "      <td>2.195982</td>\n",
       "    </tr>\n",
       "  </tbody>\n",
       "</table>\n",
       "</div>"
      ],
      "text/plain": [
       "                     catPNNS  nutrition_grade_fr_n  percentage\n",
       "0         biscuits and cakes                 11855   25.497914\n",
       "2         chocolate products                  7394   15.903127\n",
       "3             processed meat                  6802   14.629845\n",
       "4                     sweets                  4639    9.977632\n",
       "5        sweetened beverages                  4451    9.573278\n",
       "6   salty and fatty products                  2235    4.807072\n",
       "7       dressings and sauces                  2229    4.794167\n",
       "8                       fats                  1829    3.933841\n",
       "9      unsweetened beverages                  1795    3.860713\n",
       "10                  pastries                  1201    2.583129\n",
       "11                    cheese                  1043    2.243300\n",
       "12             fruit nectars                  1021    2.195982"
      ]
     },
     "execution_count": 43,
     "metadata": {},
     "output_type": "execute_result"
    }
   ],
   "source": [
    "total = np.sum(df_e_reduced.loc[:,'nutrition_grade_fr_n':].values)\n",
    "print(\"tot: \",total)\n",
    "df_e_reduced['percentage'] = (df_e_reduced['nutrition_grade_fr_n']/total)*100\n",
    "df_e_reduced"
   ]
  },
  {
   "cell_type": "code",
   "execution_count": 44,
   "metadata": {
    "colab": {
     "base_uri": "https://localhost:8080/",
     "height": 330
    },
    "colab_type": "code",
    "id": "dgfQwkdJpw6c",
    "outputId": "597b5987-a853-4d18-f122-79f31f8ba936"
   },
   "outputs": [
    {
     "data": {
      "text/plain": [
       "<Figure size 720x720 with 0 Axes>"
      ]
     },
     "metadata": {},
     "output_type": "display_data"
    },
    {
     "data": {
      "image/png": "[encoded data removed]",
      "text/plain": [
       "<Figure size 432x288 with 1 Axes>"
      ]
     },
     "metadata": {},
     "output_type": "display_data"
    }
   ],
   "source": [
    "\n",
    "# pie chart E grade\n",
    "plt.figure(figsize=(10,10))\n",
    "labels = df_e_reduced['catPNNS']\n",
    "sizes = df_e_reduced['percentage']\n",
    "\n",
    "\n",
    "fig1, ax1 = plt.subplots()\n",
    "ax1.pie(sizes, labels=labels, autopct='%1.1f%%', shadow=True, startangle=90)\n",
    "ax1.axis('equal')  # Equal aspect ratio ensures that pie is drawn as a circle.\n",
    "plt.savefig(\"Category E.png\", format=\"PNG\", dpi = 100)\n",
    "plt.show()"
   ]
  },
  {
   "cell_type": "code",
   "execution_count": 45,
   "metadata": {
    "colab": {},
    "colab_type": "code",
    "id": "JQnPygtrCwKP"
   },
   "outputs": [],
   "source": [
    "df_a = df_eco_all[df_eco_all['nutrition_grade_fr'] == \"a\"]\n",
    "df_a_reduced = df_a[['nutrition_grade_fr_n','catPNNS']]\n",
    "df_a_reduced = df_a_reduced.groupby(['catPNNS']).count()\n",
    "df_a_reduced = df_a_reduced.sort_values(by=['nutrition_grade_fr_n'], ascending= False)\n",
    "df_a_reduced = df_a_reduced.reset_index(drop=False)"
   ]
  },
  {
   "cell_type": "code",
   "execution_count": 46,
   "metadata": {
    "colab": {
     "base_uri": "https://localhost:8080/",
     "height": 443
    },
    "colab_type": "code",
    "id": "HBjAr5LNC7m2",
    "outputId": "1f9230f3-7e8d-41e4-a861-265a36fcfb52"
   },
   "outputs": [
    {
     "name": "stdout",
     "output_type": "stream",
     "text": [
      "tot:  35940\n"
     ]
    },
    {
     "data": {
      "text/html": [
       "<div>\n",
       "<style scoped>\n",
       "    .dataframe tbody tr th:only-of-type {\n",
       "        vertical-align: middle;\n",
       "    }\n",
       "\n",
       "    .dataframe tbody tr th {\n",
       "        vertical-align: top;\n",
       "    }\n",
       "\n",
       "    .dataframe thead th {\n",
       "        text-align: right;\n",
       "    }\n",
       "</style>\n",
       "<table border=\"1\" class=\"dataframe\">\n",
       "  <thead>\n",
       "    <tr style=\"text-align: right;\">\n",
       "      <th></th>\n",
       "      <th>catPNNS</th>\n",
       "      <th>nutrition_grade_fr_n</th>\n",
       "      <th>percentage</th>\n",
       "    </tr>\n",
       "  </thead>\n",
       "  <tbody>\n",
       "    <tr>\n",
       "      <th>0</th>\n",
       "      <td>vegetables</td>\n",
       "      <td>7552</td>\n",
       "      <td>21.012799</td>\n",
       "    </tr>\n",
       "    <tr>\n",
       "      <th>1</th>\n",
       "      <td>cereals</td>\n",
       "      <td>7441</td>\n",
       "      <td>20.703951</td>\n",
       "    </tr>\n",
       "    <tr>\n",
       "      <th>2</th>\n",
       "      <td>fruits</td>\n",
       "      <td>4163</td>\n",
       "      <td>11.583194</td>\n",
       "    </tr>\n",
       "    <tr>\n",
       "      <th>4</th>\n",
       "      <td>one-dish meals</td>\n",
       "      <td>3275</td>\n",
       "      <td>9.112410</td>\n",
       "    </tr>\n",
       "    <tr>\n",
       "      <th>5</th>\n",
       "      <td>milk and yogurt</td>\n",
       "      <td>2897</td>\n",
       "      <td>8.060657</td>\n",
       "    </tr>\n",
       "    <tr>\n",
       "      <th>6</th>\n",
       "      <td>legumes</td>\n",
       "      <td>2505</td>\n",
       "      <td>6.969950</td>\n",
       "    </tr>\n",
       "    <tr>\n",
       "      <th>7</th>\n",
       "      <td>waters and flavored waters</td>\n",
       "      <td>1885</td>\n",
       "      <td>5.244853</td>\n",
       "    </tr>\n",
       "    <tr>\n",
       "      <th>8</th>\n",
       "      <td>meat</td>\n",
       "      <td>1861</td>\n",
       "      <td>5.178075</td>\n",
       "    </tr>\n",
       "    <tr>\n",
       "      <th>9</th>\n",
       "      <td>bread</td>\n",
       "      <td>1702</td>\n",
       "      <td>4.735671</td>\n",
       "    </tr>\n",
       "    <tr>\n",
       "      <th>10</th>\n",
       "      <td>fish and seafood</td>\n",
       "      <td>1559</td>\n",
       "      <td>4.337785</td>\n",
       "    </tr>\n",
       "    <tr>\n",
       "      <th>11</th>\n",
       "      <td>breakfast cereals</td>\n",
       "      <td>1100</td>\n",
       "      <td>3.060657</td>\n",
       "    </tr>\n",
       "  </tbody>\n",
       "</table>\n",
       "</div>"
      ],
      "text/plain": [
       "                       catPNNS  nutrition_grade_fr_n  percentage\n",
       "0                   vegetables                  7552   21.012799\n",
       "1                      cereals                  7441   20.703951\n",
       "2                       fruits                  4163   11.583194\n",
       "4               one-dish meals                  3275    9.112410\n",
       "5              milk and yogurt                  2897    8.060657\n",
       "6                      legumes                  2505    6.969950\n",
       "7   waters and flavored waters                  1885    5.244853\n",
       "8                         meat                  1861    5.178075\n",
       "9                        bread                  1702    4.735671\n",
       "10            fish and seafood                  1559    4.337785\n",
       "11           breakfast cereals                  1100    3.060657"
      ]
     },
     "execution_count": 46,
     "metadata": {},
     "output_type": "execute_result"
    }
   ],
   "source": [
    "df_a_reduced = df_a_reduced[df_a_reduced.catPNNS != 'unknown'] \n",
    "df_a_reduced = df_a_reduced[df_a_reduced['nutrition_grade_fr_n'] > 1000]\n",
    "total = np.sum(df_a_reduced.loc[:,'nutrition_grade_fr_n':].values)\n",
    "print(\"tot: \",total)\n",
    "df_a_reduced['percentage'] = (df_a_reduced['nutrition_grade_fr_n']/total)*100\n",
    "df_a_reduced"
   ]
  },
  {
   "cell_type": "code",
   "execution_count": 74,
   "metadata": {
    "colab": {
     "base_uri": "https://localhost:8080/",
     "height": 330
    },
    "colab_type": "code",
    "id": "YyeXrVC9DXbn",
    "outputId": "42fc32a1-dcd4-4993-b4e2-f8accee94c86"
   },
   "outputs": [
    {
     "data": {
      "text/plain": [
       "<Figure size 720x720 with 0 Axes>"
      ]
     },
     "metadata": {},
     "output_type": "display_data"
    },
    {
     "data": {
      "image/png": "[encoded data removed]",
      "text/plain": [
       "<Figure size 432x288 with 1 Axes>"
      ]
     },
     "metadata": {},
     "output_type": "display_data"
    }
   ],
   "source": [
    "plt.figure(figsize=(10,10)) # pie chart A grade\n",
    "labels = df_a_reduced['catPNNS']\n",
    "sizes = df_a_reduced['percentage']\n",
    "\n",
    "\n",
    "fig1, ax1 = plt.subplots()\n",
    "ax1.pie(sizes, labels=labels, autopct='%1.1f%%', shadow=True, startangle=90)\n",
    "ax1.axis('equal')  # Equal aspect ratio ensures that pie is drawn as a circle.\n",
    "plt.savefig(\"Category A.png\", format=\"PNG\", dpi = 100)\n",
    "plt.show()"
   ]
  },
  {
   "cell_type": "code",
   "execution_count": 58,
   "metadata": {},
   "outputs": [
    {
     "data": {
      "text/html": [
       "<div>\n",
       "<style scoped>\n",
       "    .dataframe tbody tr th:only-of-type {\n",
       "        vertical-align: middle;\n",
       "    }\n",
       "\n",
       "    .dataframe tbody tr th {\n",
       "        vertical-align: top;\n",
       "    }\n",
       "\n",
       "    .dataframe thead th {\n",
       "        text-align: right;\n",
       "    }\n",
       "</style>\n",
       "<table border=\"1\" class=\"dataframe\">\n",
       "  <thead>\n",
       "    <tr style=\"text-align: right;\">\n",
       "      <th></th>\n",
       "      <th>nutrition_grade_fr</th>\n",
       "      <th>product_name</th>\n",
       "      <th>nutrition_grade_fr_n</th>\n",
       "      <th>catPNNS</th>\n",
       "      <th>carbon-footprint_100g</th>\n",
       "      <th>ingredients_from_palm_oil_n</th>\n",
       "      <th>ingredients_that_may_be_from_palm_oil_n</th>\n",
       "    </tr>\n",
       "  </thead>\n",
       "  <tbody>\n",
       "    <tr>\n",
       "      <th>0</th>\n",
       "      <td>a</td>\n",
       "      <td>44081</td>\n",
       "      <td>44324</td>\n",
       "      <td>44324</td>\n",
       "      <td>60</td>\n",
       "      <td>32192</td>\n",
       "      <td>32192</td>\n",
       "    </tr>\n",
       "    <tr>\n",
       "      <th>1</th>\n",
       "      <td>b</td>\n",
       "      <td>41134</td>\n",
       "      <td>41323</td>\n",
       "      <td>41323</td>\n",
       "      <td>30</td>\n",
       "      <td>27647</td>\n",
       "      <td>27647</td>\n",
       "    </tr>\n",
       "    <tr>\n",
       "      <th>2</th>\n",
       "      <td>c</td>\n",
       "      <td>64730</td>\n",
       "      <td>65055</td>\n",
       "      <td>65055</td>\n",
       "      <td>56</td>\n",
       "      <td>42595</td>\n",
       "      <td>42595</td>\n",
       "    </tr>\n",
       "    <tr>\n",
       "      <th>3</th>\n",
       "      <td>d</td>\n",
       "      <td>91225</td>\n",
       "      <td>91691</td>\n",
       "      <td>91691</td>\n",
       "      <td>58</td>\n",
       "      <td>56672</td>\n",
       "      <td>56672</td>\n",
       "    </tr>\n",
       "    <tr>\n",
       "      <th>4</th>\n",
       "      <td>e</td>\n",
       "      <td>59130</td>\n",
       "      <td>59427</td>\n",
       "      <td>59427</td>\n",
       "      <td>94</td>\n",
       "      <td>38485</td>\n",
       "      <td>38485</td>\n",
       "    </tr>\n",
       "  </tbody>\n",
       "</table>\n",
       "</div>"
      ],
      "text/plain": [
       "  nutrition_grade_fr  product_name  nutrition_grade_fr_n  catPNNS  \\\n",
       "0                  a         44081                 44324    44324   \n",
       "1                  b         41134                 41323    41323   \n",
       "2                  c         64730                 65055    65055   \n",
       "3                  d         91225                 91691    91691   \n",
       "4                  e         59130                 59427    59427   \n",
       "\n",
       "   carbon-footprint_100g  ingredients_from_palm_oil_n  \\\n",
       "0                     60                        32192   \n",
       "1                     30                        27647   \n",
       "2                     56                        42595   \n",
       "3                     58                        56672   \n",
       "4                     94                        38485   \n",
       "\n",
       "   ingredients_that_may_be_from_palm_oil_n  \n",
       "0                                    32192  \n",
       "1                                    27647  \n",
       "2                                    42595  \n",
       "3                                    56672  \n",
       "4                                    38485  "
      ]
     },
     "execution_count": 58,
     "metadata": {},
     "output_type": "execute_result"
    }
   ],
   "source": [
    "\n",
    "df_nutriscore = df_eco_all.groupby(['nutrition_grade_fr']).count()\n",
    "\n",
    "df_nutriscore = df_nutriscore.reset_index(drop=False)\n",
    "df_nutriscore.head()"
   ]
  },
  {
   "cell_type": "code",
   "execution_count": 60,
   "metadata": {},
   "outputs": [
    {
     "name": "stdout",
     "output_type": "stream",
     "text": [
      "tot:  35940\n"
     ]
    }
   ],
   "source": [
    "total1 = np.sum(df_nutriscore.loc[:,'product_name':].values)\n",
    "print(\"tot: \",total)\n",
    "df_nutriscore['percentage'] = (df_nutriscore['product_name']/total)*100"
   ]
  },
  {
   "cell_type": "code",
   "execution_count": 61,
   "metadata": {},
   "outputs": [
    {
     "data": {
      "text/plain": [
       "<Figure size 720x720 with 0 Axes>"
      ]
     },
     "metadata": {},
     "output_type": "display_data"
    },
    {
     "data": {
      "image/png": "[encoded data removed]",
      "text/plain": [
       "<Figure size 432x288 with 1 Axes>"
      ]
     },
     "metadata": {},
     "output_type": "display_data"
    }
   ],
   "source": [
    "plt.figure(figsize=(10,10)) # pie chart A grade\n",
    "labels = df_nutriscore['nutrition_grade_fr']\n",
    "sizes = df_nutriscore['percentage']\n",
    "\n",
    "\n",
    "fig1, ax1 = plt.subplots()\n",
    "ax1.pie(sizes, labels=labels, autopct='%1.1f%%', shadow=True, startangle=90)\n",
    "ax1.axis('equal')  # Equal aspect ratio ensures that pie is drawn as a circle.\n",
    "plt.savefig(\"eco_cat.png\", format=\"PNG\", dpi = 100)\n",
    "plt.show()"
   ]
  },
  {
   "cell_type": "code",
   "execution_count": null,
   "metadata": {},
   "outputs": [],
   "source": [
    "df_cat = df_eco_all.groupby(['nutrition_grade_fr']).count()\n",
    "\n",
    "df_nutriscore = df_nutriscore.reset_index(drop=False)\n",
    "df_nutriscore.head()"
   ]
  },
  {
   "cell_type": "code",
   "execution_count": 69,
   "metadata": {},
   "outputs": [
    {
     "data": {
      "text/html": [
       "<div>\n",
       "<style scoped>\n",
       "    .dataframe tbody tr th:only-of-type {\n",
       "        vertical-align: middle;\n",
       "    }\n",
       "\n",
       "    .dataframe tbody tr th {\n",
       "        vertical-align: top;\n",
       "    }\n",
       "\n",
       "    .dataframe thead th {\n",
       "        text-align: right;\n",
       "    }\n",
       "</style>\n",
       "<table border=\"1\" class=\"dataframe\">\n",
       "  <thead>\n",
       "    <tr style=\"text-align: right;\">\n",
       "      <th></th>\n",
       "      <th>catPNNS</th>\n",
       "      <th>product_name</th>\n",
       "      <th>nutrition_grade_fr</th>\n",
       "      <th>nutrition_grade_fr_n</th>\n",
       "      <th>carbon-footprint_100g</th>\n",
       "      <th>ingredients_from_palm_oil_n</th>\n",
       "      <th>ingredients_that_may_be_from_palm_oil_n</th>\n",
       "    </tr>\n",
       "  </thead>\n",
       "  <tbody>\n",
       "    <tr>\n",
       "      <th>0</th>\n",
       "      <td>unknown</td>\n",
       "      <td>681430</td>\n",
       "      <td>37534</td>\n",
       "      <td>37534</td>\n",
       "      <td>110</td>\n",
       "      <td>243416</td>\n",
       "      <td>243416</td>\n",
       "    </tr>\n",
       "    <tr>\n",
       "      <th>1</th>\n",
       "      <td>biscuits and cakes</td>\n",
       "      <td>25852</td>\n",
       "      <td>23328</td>\n",
       "      <td>23328</td>\n",
       "      <td>11</td>\n",
       "      <td>17443</td>\n",
       "      <td>17443</td>\n",
       "    </tr>\n",
       "    <tr>\n",
       "      <th>2</th>\n",
       "      <td>sweets</td>\n",
       "      <td>23815</td>\n",
       "      <td>16308</td>\n",
       "      <td>16308</td>\n",
       "      <td>14</td>\n",
       "      <td>14870</td>\n",
       "      <td>14870</td>\n",
       "    </tr>\n",
       "    <tr>\n",
       "      <th>3</th>\n",
       "      <td>one-dish meals</td>\n",
       "      <td>21278</td>\n",
       "      <td>19000</td>\n",
       "      <td>19000</td>\n",
       "      <td>12</td>\n",
       "      <td>14730</td>\n",
       "      <td>14730</td>\n",
       "    </tr>\n",
       "    <tr>\n",
       "      <th>4</th>\n",
       "      <td>cheese</td>\n",
       "      <td>19462</td>\n",
       "      <td>17196</td>\n",
       "      <td>17196</td>\n",
       "      <td>14</td>\n",
       "      <td>10320</td>\n",
       "      <td>10320</td>\n",
       "    </tr>\n",
       "  </tbody>\n",
       "</table>\n",
       "</div>"
      ],
      "text/plain": [
       "              catPNNS  product_name  nutrition_grade_fr  nutrition_grade_fr_n  \\\n",
       "0             unknown        681430               37534                 37534   \n",
       "1  biscuits and cakes         25852               23328                 23328   \n",
       "2              sweets         23815               16308                 16308   \n",
       "3      one-dish meals         21278               19000                 19000   \n",
       "4              cheese         19462               17196                 17196   \n",
       "\n",
       "   carbon-footprint_100g  ingredients_from_palm_oil_n  \\\n",
       "0                    110                       243416   \n",
       "1                     11                        17443   \n",
       "2                     14                        14870   \n",
       "3                     12                        14730   \n",
       "4                     14                        10320   \n",
       "\n",
       "   ingredients_that_may_be_from_palm_oil_n  \n",
       "0                                   243416  \n",
       "1                                    17443  \n",
       "2                                    14870  \n",
       "3                                    14730  \n",
       "4                                    10320  "
      ]
     },
     "execution_count": 69,
     "metadata": {},
     "output_type": "execute_result"
    }
   ],
   "source": [
    "df_nutcat1 = df_eco_all.groupby(['catPNNS']).count()\n",
    "df_nutcat1 = df_nutcat1.sort_values(by=['product_name'], ascending=False)\n",
    "df_nutcat1 = df_nutcat1.reset_index(drop=False)\n",
    "df_nutcat1.head()"
   ]
  },
  {
   "cell_type": "code",
   "execution_count": 72,
   "metadata": {},
   "outputs": [
    {
     "data": {
      "text/html": [
       "<div>\n",
       "<style scoped>\n",
       "    .dataframe tbody tr th:only-of-type {\n",
       "        vertical-align: middle;\n",
       "    }\n",
       "\n",
       "    .dataframe tbody tr th {\n",
       "        vertical-align: top;\n",
       "    }\n",
       "\n",
       "    .dataframe thead th {\n",
       "        text-align: right;\n",
       "    }\n",
       "</style>\n",
       "<table border=\"1\" class=\"dataframe\">\n",
       "  <thead>\n",
       "    <tr style=\"text-align: right;\">\n",
       "      <th></th>\n",
       "      <th>catPNNS</th>\n",
       "      <th>product_name</th>\n",
       "      <th>nutrition_grade_fr</th>\n",
       "      <th>nutrition_grade_fr_n</th>\n",
       "      <th>carbon-footprint_100g</th>\n",
       "      <th>ingredients_from_palm_oil_n</th>\n",
       "      <th>ingredients_that_may_be_from_palm_oil_n</th>\n",
       "      <th>percentage</th>\n",
       "    </tr>\n",
       "  </thead>\n",
       "  <tbody>\n",
       "    <tr>\n",
       "      <th>36</th>\n",
       "      <td>eggs</td>\n",
       "      <td>1674</td>\n",
       "      <td>848</td>\n",
       "      <td>848</td>\n",
       "      <td>5</td>\n",
       "      <td>794</td>\n",
       "      <td>794</td>\n",
       "      <td>4.657763</td>\n",
       "    </tr>\n",
       "    <tr>\n",
       "      <th>37</th>\n",
       "      <td>fruit nectars</td>\n",
       "      <td>1437</td>\n",
       "      <td>1238</td>\n",
       "      <td>1238</td>\n",
       "      <td>4</td>\n",
       "      <td>875</td>\n",
       "      <td>875</td>\n",
       "      <td>3.998331</td>\n",
       "    </tr>\n",
       "    <tr>\n",
       "      <th>38</th>\n",
       "      <td>teas and herbal teas and coffees</td>\n",
       "      <td>841</td>\n",
       "      <td>585</td>\n",
       "      <td>585</td>\n",
       "      <td>0</td>\n",
       "      <td>300</td>\n",
       "      <td>300</td>\n",
       "      <td>2.340011</td>\n",
       "    </tr>\n",
       "    <tr>\n",
       "      <th>39</th>\n",
       "      <td>offals</td>\n",
       "      <td>430</td>\n",
       "      <td>380</td>\n",
       "      <td>380</td>\n",
       "      <td>0</td>\n",
       "      <td>250</td>\n",
       "      <td>250</td>\n",
       "      <td>1.196439</td>\n",
       "    </tr>\n",
       "    <tr>\n",
       "      <th>40</th>\n",
       "      <td>pizza pies and quiches</td>\n",
       "      <td>404</td>\n",
       "      <td>378</td>\n",
       "      <td>378</td>\n",
       "      <td>2</td>\n",
       "      <td>297</td>\n",
       "      <td>297</td>\n",
       "      <td>1.124096</td>\n",
       "    </tr>\n",
       "  </tbody>\n",
       "</table>\n",
       "</div>"
      ],
      "text/plain": [
       "                             catPNNS  product_name  nutrition_grade_fr  \\\n",
       "36                              eggs          1674                 848   \n",
       "37                     fruit nectars          1437                1238   \n",
       "38  teas and herbal teas and coffees           841                 585   \n",
       "39                            offals           430                 380   \n",
       "40            pizza pies and quiches           404                 378   \n",
       "\n",
       "    nutrition_grade_fr_n  carbon-footprint_100g  ingredients_from_palm_oil_n  \\\n",
       "36                   848                      5                          794   \n",
       "37                  1238                      4                          875   \n",
       "38                   585                      0                          300   \n",
       "39                   380                      0                          250   \n",
       "40                   378                      2                          297   \n",
       "\n",
       "    ingredients_that_may_be_from_palm_oil_n  percentage  \n",
       "36                                      794    4.657763  \n",
       "37                                      875    3.998331  \n",
       "38                                      300    2.340011  \n",
       "39                                      250    1.196439  \n",
       "40                                      297    1.124096  "
      ]
     },
     "execution_count": 72,
     "metadata": {},
     "output_type": "execute_result"
    }
   ],
   "source": [
    "df_nutcat1.tail()"
   ]
  },
  {
   "cell_type": "code",
   "execution_count": 75,
   "metadata": {},
   "outputs": [
    {
     "name": "stdout",
     "output_type": "stream",
     "text": [
      "tot:  35940\n"
     ]
    },
    {
     "data": {
      "text/plain": [
       "<Figure size 720x720 with 0 Axes>"
      ]
     },
     "metadata": {},
     "output_type": "display_data"
    },
    {
     "data": {
      "image/png": "[encoded data removed]",
      "text/plain": [
       "<Figure size 432x288 with 1 Axes>"
      ]
     },
     "metadata": {},
     "output_type": "display_data"
    }
   ],
   "source": [
    "df_nutcat1 = df_nutcat1[df_nutcat1['product_name'] < 150000] \n",
    "df_nutcat1 = df_nutcat1[df_nutcat1['product_name'] > 5000] \n",
    "total2 = np.sum(df_nutcat1.loc[:,'product_name':].values)\n",
    "print(\"tot: \",total)\n",
    "df_nutcat1['percentage'] = (df_nutcat1['product_name']/total)*100\n",
    "\n",
    "plt.figure(figsize=(10,10)) # pie chart A grade\n",
    "labels = df_nutcat1['catPNNS']\n",
    "sizes = df_nutcat1['percentage']\n",
    "\n",
    "\n",
    "fig1, ax1 = plt.subplots()\n",
    "ax1.pie(sizes, labels=labels, autopct='%1.1f%%', shadow=True, startangle=90)\n",
    "ax1.axis('equal')  # Equal aspect ratio ensures that pie is drawn as a circle.\n",
    "plt.savefig(\"Category main.png\", format=\"PNG\", dpi = 100)\n",
    "plt.show()"
   ]
  },
  {
   "cell_type": "code",
   "execution_count": null,
   "metadata": {},
   "outputs": [],
   "source": []
  },
  {
   "cell_type": "code",
   "execution_count": null,
   "metadata": {},
   "outputs": [],
   "source": []
  }
 ],
 "metadata": {
  "colab": {
   "collapsed_sections": [],
   "machine_shape": "hm",
   "name": "openfood_eco_part2.ipynb",
   "provenance": [],
   "toc_visible": true
  },
  "kernelspec": {
   "display_name": "Python 3",
   "language": "python",
   "name": "python3"
  },
  "language_info": {
   "codemirror_mode": {
    "name": "ipython",
    "version": 3
   },
   "file_extension": ".py",
   "mimetype": "text/x-python",
   "name": "python",
   "nbconvert_exporter": "python",
   "pygments_lexer": "ipython3",
   "version": "3.7.3"
  }
 },
 "nbformat": 4,
 "nbformat_minor": 4
}
