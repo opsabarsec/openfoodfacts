{
  "nbformat": 4,
  "nbformat_minor": 0,
  "metadata": {
    "colab": {
      "name": "openfood_eco_part1.ipynb",
      "provenance": [],
      "collapsed_sections": [],
      "toc_visible": true
    },
    "kernelspec": {
      "name": "python3",
      "display_name": "Python 3"
    }
  },
  "cells": [
    {
      "cell_type": "markdown",
      "metadata": {
        "id": "GFrvXEDwhA_J",
        "colab_type": "text"
      },
      "source": [
        "# The environmental impact of food quality. Part 1: data exploration and cleaning#\n",
        "\n",
        "This project focussed on the relationship between food quality and its environmental impact. Statistical analysis is carried out on the data sourced from the openfoodfact database. This notebook illustrates the first part of the project."
      ]
    },
    {
      "cell_type": "markdown",
      "metadata": {
        "id": "QyBHif0x8_h4",
        "colab_type": "text"
      },
      "source": [
        "Import the data directly from openfoodfacts website using Pandas library"
      ]
    },
    {
      "cell_type": "code",
      "metadata": {
        "id": "lDtWK_lfyupF",
        "colab_type": "code",
        "outputId": "6d021dcc-7a10-444b-fec7-c2700ddb5b62",
        "colab": {
          "base_uri": "https://localhost:8080/",
          "height": 159
        }
      },
      "source": [
        "\n",
        "import pandas as pd \n",
        "\n",
        "all_food_data = pd.read_csv( \"https://static.openfoodfacts.org/data/en.openfoodfacts.org.products.csv\", sep=\"\\t\", encoding=\"utf-8\") # raw dataframe\n",
        "\n",
        "all_food_data.info() # datasets infos and memory usage"
      ],
      "execution_count": 1,
      "outputs": [
        {
          "output_type": "stream",
          "text": [
            "/usr/local/lib/python3.6/dist-packages/IPython/core/interactiveshell.py:2718: DtypeWarning: Columns (0,24,25,26,28,44,49) have mixed types. Specify dtype option on import or set low_memory=False.\n",
            "  interactivity=interactivity, compiler=compiler, result=result)\n"
          ],
          "name": "stderr"
        },
        {
          "output_type": "stream",
          "text": [
            "<class 'pandas.core.frame.DataFrame'>\n",
            "RangeIndex: 1062834 entries, 0 to 1062833\n",
            "Columns: 177 entries, code to carnitine_100g\n",
            "dtypes: float64(119), int64(2), object(56)\n",
            "memory usage: 1.4+ GB\n"
          ],
          "name": "stdout"
        }
      ]
    },
    {
      "cell_type": "markdown",
      "metadata": {
        "id": "HOE20tDLFbyM",
        "colab_type": "text"
      },
      "source": [
        "# Preliminary exploration and variables selection"
      ]
    },
    {
      "cell_type": "markdown",
      "metadata": {
        "id": "v3c90utVrsDh",
        "colab_type": "text"
      },
      "source": [
        "The file is fairly big, 177 columns with 1047591 rows each"
      ]
    },
    {
      "cell_type": "code",
      "metadata": {
        "id": "V9C4gIrC23dm",
        "colab_type": "code",
        "outputId": "033437f9-37b4-45a5-ea73-d7c5ae660db4",
        "colab": {
          "base_uri": "https://localhost:8080/",
          "height": 34
        }
      },
      "source": [
        "\n",
        "all_food_data.shape # this returns the database size"
      ],
      "execution_count": 2,
      "outputs": [
        {
          "output_type": "execute_result",
          "data": {
            "text/plain": [
              "(1062834, 177)"
            ]
          },
          "metadata": {
            "tags": []
          },
          "execution_count": 2
        }
      ]
    },
    {
      "cell_type": "markdown",
      "metadata": {
        "id": "L7TGkyvdr9PZ",
        "colab_type": "text"
      },
      "source": [
        "Detailed information about each column can be checked online at :\n",
        "https://static.openfoodfacts.org/data/data-fields.txt\n",
        "\n",
        "But:\n",
        "Which columns are relevant for our study? and how much is stored in these columns? To answer these questions we run a for loop that returns for each the column name, its null values count and % of empty cells."
      ]
    },
    {
      "cell_type": "code",
      "metadata": {
        "id": "dXzFOeiulzct",
        "colab_type": "code",
        "colab": {}
      },
      "source": [
        "i = 0 # initialize column count\n",
        "colnum = []\n",
        "colname = []\n",
        "nullpc = []\n",
        "for col in all_food_data:\n",
        "    i +=1 # update the counter\n",
        "    nulsum = sum(pd.isnull(all_food_data[col])) # sum of null value for the column (empty cells)\n",
        "    numrows = len(all_food_data)\n",
        "    nuls_pourcent = (sum(pd.isnull(all_food_data[col]))/numrows)*100  # % of null value for the column\n",
        "    r_nuls_pourcent = round(nuls_pourcent, 3) # return only the first 3 digits after the comma of the percentage float value\n",
        "    #create columnstats database\n",
        "    colnum.append(i) # first column: column number\n",
        "    colname.append(col) # column name\n",
        "    nullpc.append(r_nuls_pourcent) # % null values\n",
        "    #print('Column ',i, ' name: ',col, '*   Null values (NaN) in this column: ', nulsum, ' % null: ', r_nuls_pourcent) # print the information for each row"
      ],
      "execution_count": 0,
      "outputs": []
    },
    {
      "cell_type": "code",
      "metadata": {
        "id": "yAwJ3WCPiZsU",
        "colab_type": "code",
        "colab": {}
      },
      "source": [
        "df_nul = pd.DataFrame({'num':colnum, 'name':colname, '%null':nullpc})\n",
        "df_nul = df_nul.sort_values(by='%null', ascending=False)\n"
      ],
      "execution_count": 0,
      "outputs": []
    },
    {
      "cell_type": "code",
      "metadata": {
        "id": "THK5UG-KnPHU",
        "colab_type": "code",
        "outputId": "ff57afdd-3616-497b-be40-ab25d7476c6f",
        "colab": {
          "base_uri": "https://localhost:8080/",
          "height": 717
        }
      },
      "source": [
        "import matplotlib.pyplot as plt\n",
        "plt.figure(figsize=(23,8))\n",
        "\n",
        "plt.bar(df_nul['name'], df_nul['%null'])\n",
        "plt.title('NaN % in the dataframe', color=\"red\", fontsize = 14)\n",
        "plt.ylabel('% empty cell in the column', color=\"red\", fontsize = 14)\n",
        "plt.xticks(rotation='vertical')\n",
        "plt.rcParams['figure.constrained_layout.use'] = True\n",
        "plt.savefig(\"null.png\", format=\"PNG\", dpi = 100)"
      ],
      "execution_count": 5,
      "outputs": [
        {
          "output_type": "display_data",
          "data": {
            "image/png": "[encoded data removed]",
            "text/plain": [
              "<Figure size 1656x576 with 1 Axes>"
            ]
          },
          "metadata": {
            "tags": []
          }
        }
      ]
    },
    {
      "cell_type": "markdown",
      "metadata": {
        "id": "1WUDZb9stZOp",
        "colab_type": "text"
      },
      "source": [
        "carbon footprint is a necessary variable but has a high % of empty cells. Variables with a higher percentage can be dropped"
      ]
    },
    {
      "cell_type": "code",
      "metadata": {
        "id": "pwxqV-WerLWw",
        "colab_type": "code",
        "outputId": "363b5e18-a9ac-436c-b66e-b3c35234742e",
        "colab": {
          "base_uri": "https://localhost:8080/",
          "height": 143
        }
      },
      "source": [
        "df_nul[df_nul['name'].str.contains(r'carbon(?!$)')] # check for % null in the carbon footprint column"
      ],
      "execution_count": 6,
      "outputs": [
        {
          "output_type": "execute_result",
          "data": {
            "text/html": [
              "<div>\n",
              "<style scoped>\n",
              "    .dataframe tbody tr th:only-of-type {\n",
              "        vertical-align: middle;\n",
              "    }\n",
              "\n",
              "    .dataframe tbody tr th {\n",
              "        vertical-align: top;\n",
              "    }\n",
              "\n",
              "    .dataframe thead th {\n",
              "        text-align: right;\n",
              "    }\n",
              "</style>\n",
              "<table border=\"1\" class=\"dataframe\">\n",
              "  <thead>\n",
              "    <tr style=\"text-align: right;\">\n",
              "      <th></th>\n",
              "      <th>num</th>\n",
              "      <th>name</th>\n",
              "      <th>%null</th>\n",
              "    </tr>\n",
              "  </thead>\n",
              "  <tbody>\n",
              "    <tr>\n",
              "      <th>142</th>\n",
              "      <td>143</td>\n",
              "      <td>bicarbonate_100g</td>\n",
              "      <td>99.972</td>\n",
              "    </tr>\n",
              "    <tr>\n",
              "      <th>166</th>\n",
              "      <td>167</td>\n",
              "      <td>carbon-footprint_100g</td>\n",
              "      <td>99.962</td>\n",
              "    </tr>\n",
              "    <tr>\n",
              "      <th>167</th>\n",
              "      <td>168</td>\n",
              "      <td>carbon-footprint-from-meat-or-fish_100g</td>\n",
              "      <td>99.117</td>\n",
              "    </tr>\n",
              "  </tbody>\n",
              "</table>\n",
              "</div>"
            ],
            "text/plain": [
              "     num                                     name   %null\n",
              "142  143                         bicarbonate_100g  99.972\n",
              "166  167                    carbon-footprint_100g  99.962\n",
              "167  168  carbon-footprint-from-meat-or-fish_100g  99.117"
            ]
          },
          "metadata": {
            "tags": []
          },
          "execution_count": 6
        }
      ]
    },
    {
      "cell_type": "code",
      "metadata": {
        "id": "JGoluGFYc-iS",
        "colab_type": "code",
        "colab": {
          "base_uri": "https://localhost:8080/",
          "height": 52
        },
        "outputId": "a8c02ed4-ecb8-4219-c419-1991d829fed9"
      },
      "source": [
        "#indexcarbon = df_nul.name[df_nul.name == 'carbon-footprint_100g'].index.tolist()\n",
        "indexcarbon = df_nul.set_index('name').index.get_loc( 'carbon-footprint_100g')\n",
        "print ('row index containing carbon footprint % null is : ',indexcarbon)\n",
        "nulthresold = df_nul.iloc[indexcarbon, 2]\n",
        "print('carbon footprint % null is : ',nulthresold)"
      ],
      "execution_count": 15,
      "outputs": [
        {
          "output_type": "stream",
          "text": [
            "row index containing carbon footprint % null is :  63\n",
            "carbon footprint % null is :  99.962\n"
          ],
          "name": "stdout"
        }
      ]
    },
    {
      "cell_type": "code",
      "metadata": {
        "id": "pXB6b6PVqhJq",
        "colab_type": "code",
        "outputId": "669189f4-e47e-4654-d409-bca5351ef33f",
        "colab": {
          "base_uri": "https://localhost:8080/",
          "height": 224
        }
      },
      "source": [
        "\n",
        "df_del = df_nul[df_nul['%null'] > nulthresold] \n",
        "df_keep = df_nul[df_nul['%null'] <= nulthresold] # data to keep\n",
        "print(df_del.shape) # check number of columns that get left out \n",
        "df_keep.head()"
      ],
      "execution_count": 16,
      "outputs": [
        {
          "output_type": "stream",
          "text": [
            "(63, 3)\n"
          ],
          "name": "stdout"
        },
        {
          "output_type": "execute_result",
          "data": {
            "text/html": [
              "<div>\n",
              "<style scoped>\n",
              "    .dataframe tbody tr th:only-of-type {\n",
              "        vertical-align: middle;\n",
              "    }\n",
              "\n",
              "    .dataframe tbody tr th {\n",
              "        vertical-align: top;\n",
              "    }\n",
              "\n",
              "    .dataframe thead th {\n",
              "        text-align: right;\n",
              "    }\n",
              "</style>\n",
              "<table border=\"1\" class=\"dataframe\">\n",
              "  <thead>\n",
              "    <tr style=\"text-align: right;\">\n",
              "      <th></th>\n",
              "      <th>num</th>\n",
              "      <th>name</th>\n",
              "      <th>%null</th>\n",
              "    </tr>\n",
              "  </thead>\n",
              "  <tbody>\n",
              "    <tr>\n",
              "      <th>166</th>\n",
              "      <td>167</td>\n",
              "      <td>carbon-footprint_100g</td>\n",
              "      <td>99.962</td>\n",
              "    </tr>\n",
              "    <tr>\n",
              "      <th>113</th>\n",
              "      <td>114</td>\n",
              "      <td>-lactose_100g</td>\n",
              "      <td>99.959</td>\n",
              "    </tr>\n",
              "    <tr>\n",
              "      <th>144</th>\n",
              "      <td>145</td>\n",
              "      <td>chloride_100g</td>\n",
              "      <td>99.949</td>\n",
              "    </tr>\n",
              "    <tr>\n",
              "      <th>139</th>\n",
              "      <td>140</td>\n",
              "      <td>biotin_100g</td>\n",
              "      <td>99.945</td>\n",
              "    </tr>\n",
              "    <tr>\n",
              "      <th>156</th>\n",
              "      <td>157</td>\n",
              "      <td>iodine_100g</td>\n",
              "      <td>99.943</td>\n",
              "    </tr>\n",
              "  </tbody>\n",
              "</table>\n",
              "</div>"
            ],
            "text/plain": [
              "     num                   name   %null\n",
              "166  167  carbon-footprint_100g  99.962\n",
              "113  114          -lactose_100g  99.959\n",
              "144  145          chloride_100g  99.949\n",
              "139  140            biotin_100g  99.945\n",
              "156  157            iodine_100g  99.943"
            ]
          },
          "metadata": {
            "tags": []
          },
          "execution_count": 16
        }
      ]
    },
    {
      "cell_type": "code",
      "metadata": {
        "id": "FtQ8OEUUkDdp",
        "colab_type": "code",
        "outputId": "23f54429-4c09-4505-e861-3b773267cb7f",
        "colab": {
          "base_uri": "https://localhost:8080/",
          "height": 1000
        }
      },
      "source": [
        "enoughfilled_list = df_keep['name'].tolist()\n",
        "enoughfilled_list\n"
      ],
      "execution_count": 17,
      "outputs": [
        {
          "output_type": "execute_result",
          "data": {
            "text/plain": [
              "['carbon-footprint_100g',\n",
              " '-lactose_100g',\n",
              " 'chloride_100g',\n",
              " 'biotin_100g',\n",
              " 'iodine_100g',\n",
              " 'polyols_100g',\n",
              " 'energy-from-fat_100g',\n",
              " 'vitamin-k_100g',\n",
              " 'selenium_100g',\n",
              " 'omega-3-fat_100g',\n",
              " 'manganese_100g',\n",
              " 'copper_100g',\n",
              " 'vitamin-e_100g',\n",
              " 'pantothenic-acid_100g',\n",
              " 'folates_100g',\n",
              " 'cocoa_100g',\n",
              " 'zinc_100g',\n",
              " 'fruits-vegetables-nuts_100g',\n",
              " 'vitamin-b9_100g',\n",
              " 'vitamin-b12_100g',\n",
              " 'phosphorus_100g',\n",
              " 'magnesium_100g',\n",
              " 'vitamin-b6_100g',\n",
              " 'vitamin-d_100g',\n",
              " 'carbon-footprint-from-meat-or-fish_100g',\n",
              " 'fruits-vegetables-nuts-estimate_100g',\n",
              " 'vitamin-b2_100g',\n",
              " 'ingredients_from_palm_oil_tags',\n",
              " 'vitamin-b1_100g',\n",
              " 'vitamin-pp_100g',\n",
              " 'alcohol_100g',\n",
              " 'monounsaturated-fat_100g',\n",
              " 'polyunsaturated-fat_100g',\n",
              " 'potassium_100g',\n",
              " 'ingredients_that_may_be_from_palm_oil_tags',\n",
              " 'first_packaging_code_geo',\n",
              " 'cities_tags',\n",
              " 'origins_tags',\n",
              " 'origins',\n",
              " 'traces',\n",
              " 'emb_codes_tags',\n",
              " 'emb_codes',\n",
              " 'traces_en',\n",
              " 'traces_tags',\n",
              " 'energy-kj_100g',\n",
              " 'allergens',\n",
              " 'manufacturing_places_tags',\n",
              " 'manufacturing_places',\n",
              " 'generic_name',\n",
              " 'purchase_places',\n",
              " 'vitamin-a_100g',\n",
              " 'vitamin-c_100g',\n",
              " 'iron_100g',\n",
              " 'trans-fat_100g',\n",
              " 'cholesterol_100g',\n",
              " 'calcium_100g',\n",
              " 'stores',\n",
              " 'packaging_tags',\n",
              " 'packaging',\n",
              " 'labels',\n",
              " 'labels_tags',\n",
              " 'labels_en',\n",
              " 'additives_en',\n",
              " 'additives_tags',\n",
              " 'serving_size',\n",
              " 'serving_quantity',\n",
              " 'nutrition-score-fr_100g',\n",
              " 'nutrition_grade_fr',\n",
              " 'nutrition-score-uk_100g',\n",
              " 'fiber_100g',\n",
              " 'nova_group',\n",
              " 'quantity',\n",
              " 'image_nutrition_small_url',\n",
              " 'image_nutrition_url',\n",
              " 'main_category_en',\n",
              " 'main_category',\n",
              " 'categories_en',\n",
              " 'categories_tags',\n",
              " 'categories',\n",
              " 'ingredients_from_palm_oil_n',\n",
              " 'ingredients_that_may_be_from_palm_oil_n',\n",
              " 'additives_n',\n",
              " 'ingredients_text',\n",
              " 'image_ingredients_url',\n",
              " 'image_ingredients_small_url',\n",
              " 'brands_tags',\n",
              " 'brands',\n",
              " 'energy-kcal_100g',\n",
              " 'image_url',\n",
              " 'image_small_url',\n",
              " 'saturated-fat_100g',\n",
              " 'sodium_100g',\n",
              " 'salt_100g',\n",
              " 'sugars_100g',\n",
              " 'carbohydrates_100g',\n",
              " 'fat_100g',\n",
              " 'proteins_100g',\n",
              " 'energy_100g',\n",
              " 'product_name',\n",
              " 'pnns_groups_1',\n",
              " 'countries',\n",
              " 'countries_tags',\n",
              " 'countries_en',\n",
              " 'pnns_groups_2',\n",
              " 'url',\n",
              " 'states',\n",
              " 'states_tags',\n",
              " 'states_en',\n",
              " 'last_modified_datetime',\n",
              " 'last_modified_t',\n",
              " 'created_datetime',\n",
              " 'created_t',\n",
              " 'creator',\n",
              " 'code']"
            ]
          },
          "metadata": {
            "tags": []
          },
          "execution_count": 17
        }
      ]
    },
    {
      "cell_type": "code",
      "metadata": {
        "id": "Wb8BR1Lwuqmu",
        "colab_type": "code",
        "outputId": "21315461-4ad0-47a8-8e08-e741524c73d9",
        "colab": {
          "base_uri": "https://localhost:8080/",
          "height": 34
        }
      },
      "source": [
        "new_food_data = all_food_data[enoughfilled_list] # create a new dataframe that contains only listed columns\n",
        "new_food_data.shape"
      ],
      "execution_count": 18,
      "outputs": [
        {
          "output_type": "execute_result",
          "data": {
            "text/plain": [
              "(1062834, 114)"
            ]
          },
          "metadata": {
            "tags": []
          },
          "execution_count": 18
        }
      ]
    },
    {
      "cell_type": "markdown",
      "metadata": {
        "id": "5fuxCFoKz34q",
        "colab_type": "text"
      },
      "source": [
        "There may be still row duplicates. Remove and check if there are any left."
      ]
    },
    {
      "cell_type": "code",
      "metadata": {
        "id": "hGD7vOLjuqHJ",
        "colab_type": "code",
        "outputId": "595906b4-684e-4ff1-eb82-eae5c3662d72",
        "colab": {
          "base_uri": "https://localhost:8080/",
          "height": 159
        }
      },
      "source": [
        "    no_duplicates__food_data = new_food_data.drop_duplicates(keep=False) #remove duplicates \n",
        "    duplicateRowsDF = no_duplicates__food_data[no_duplicates__food_data.duplicated(keep=False)] # create a variable that identify any duplicate row in the dataframe\n",
        "    print(\"All Duplicate Rows based on all columns are :\")\n",
        "    print(duplicateRowsDF)\n",
        "    print('no more duplicates: yes!')"
      ],
      "execution_count": 19,
      "outputs": [
        {
          "output_type": "stream",
          "text": [
            "All Duplicate Rows based on all columns are :\n",
            "Empty DataFrame\n",
            "Columns: [carbon-footprint_100g, -lactose_100g, chloride_100g, biotin_100g, iodine_100g, polyols_100g, energy-from-fat_100g, vitamin-k_100g, selenium_100g, omega-3-fat_100g, manganese_100g, copper_100g, vitamin-e_100g, pantothenic-acid_100g, folates_100g, cocoa_100g, zinc_100g, fruits-vegetables-nuts_100g, vitamin-b9_100g, vitamin-b12_100g, phosphorus_100g, magnesium_100g, vitamin-b6_100g, vitamin-d_100g, carbon-footprint-from-meat-or-fish_100g, fruits-vegetables-nuts-estimate_100g, vitamin-b2_100g, ingredients_from_palm_oil_tags, vitamin-b1_100g, vitamin-pp_100g, alcohol_100g, monounsaturated-fat_100g, polyunsaturated-fat_100g, potassium_100g, ingredients_that_may_be_from_palm_oil_tags, first_packaging_code_geo, cities_tags, origins_tags, origins, traces, emb_codes_tags, emb_codes, traces_en, traces_tags, energy-kj_100g, allergens, manufacturing_places_tags, manufacturing_places, generic_name, purchase_places, vitamin-a_100g, vitamin-c_100g, iron_100g, trans-fat_100g, cholesterol_100g, calcium_100g, stores, packaging_tags, packaging, labels, labels_tags, labels_en, additives_en, additives_tags, serving_size, serving_quantity, nutrition-score-fr_100g, nutrition_grade_fr, nutrition-score-uk_100g, fiber_100g, nova_group, quantity, image_nutrition_small_url, image_nutrition_url, main_category_en, main_category, categories_en, categories_tags, categories, ingredients_from_palm_oil_n, ingredients_that_may_be_from_palm_oil_n, additives_n, ingredients_text, image_ingredients_url, image_ingredients_small_url, brands_tags, brands, energy-kcal_100g, image_url, image_small_url, saturated-fat_100g, sodium_100g, salt_100g, sugars_100g, carbohydrates_100g, fat_100g, proteins_100g, energy_100g, product_name, pnns_groups_1, ...]\n",
            "Index: []\n",
            "\n",
            "[0 rows x 114 columns]\n",
            "no more duplicates: yes!\n"
          ],
          "name": "stdout"
        }
      ]
    },
    {
      "cell_type": "code",
      "metadata": {
        "id": "xsGF5Yb5beGh",
        "colab_type": "code",
        "outputId": "99953a96-0650-465c-f899-862f360d3ef9",
        "colab": {
          "base_uri": "https://localhost:8080/",
          "height": 34
        }
      },
      "source": [
        "no_duplicates__food_data.shape"
      ],
      "execution_count": 20,
      "outputs": [
        {
          "output_type": "execute_result",
          "data": {
            "text/plain": [
              "(1062806, 114)"
            ]
          },
          "metadata": {
            "tags": []
          },
          "execution_count": 20
        }
      ]
    },
    {
      "cell_type": "code",
      "metadata": {
        "id": "ejlw8V1Iftxu",
        "colab_type": "code",
        "outputId": "c21e6a47-ef0f-42ce-c221-73a2654cbdf2",
        "colab": {
          "base_uri": "https://localhost:8080/",
          "height": 54
        }
      },
      "source": [
        "print(list(no_duplicates__food_data)) # get headers"
      ],
      "execution_count": 21,
      "outputs": [
        {
          "output_type": "stream",
          "text": [
            "['carbon-footprint_100g', '-lactose_100g', 'chloride_100g', 'biotin_100g', 'iodine_100g', 'polyols_100g', 'energy-from-fat_100g', 'vitamin-k_100g', 'selenium_100g', 'omega-3-fat_100g', 'manganese_100g', 'copper_100g', 'vitamin-e_100g', 'pantothenic-acid_100g', 'folates_100g', 'cocoa_100g', 'zinc_100g', 'fruits-vegetables-nuts_100g', 'vitamin-b9_100g', 'vitamin-b12_100g', 'phosphorus_100g', 'magnesium_100g', 'vitamin-b6_100g', 'vitamin-d_100g', 'carbon-footprint-from-meat-or-fish_100g', 'fruits-vegetables-nuts-estimate_100g', 'vitamin-b2_100g', 'ingredients_from_palm_oil_tags', 'vitamin-b1_100g', 'vitamin-pp_100g', 'alcohol_100g', 'monounsaturated-fat_100g', 'polyunsaturated-fat_100g', 'potassium_100g', 'ingredients_that_may_be_from_palm_oil_tags', 'first_packaging_code_geo', 'cities_tags', 'origins_tags', 'origins', 'traces', 'emb_codes_tags', 'emb_codes', 'traces_en', 'traces_tags', 'energy-kj_100g', 'allergens', 'manufacturing_places_tags', 'manufacturing_places', 'generic_name', 'purchase_places', 'vitamin-a_100g', 'vitamin-c_100g', 'iron_100g', 'trans-fat_100g', 'cholesterol_100g', 'calcium_100g', 'stores', 'packaging_tags', 'packaging', 'labels', 'labels_tags', 'labels_en', 'additives_en', 'additives_tags', 'serving_size', 'serving_quantity', 'nutrition-score-fr_100g', 'nutrition_grade_fr', 'nutrition-score-uk_100g', 'fiber_100g', 'nova_group', 'quantity', 'image_nutrition_small_url', 'image_nutrition_url', 'main_category_en', 'main_category', 'categories_en', 'categories_tags', 'categories', 'ingredients_from_palm_oil_n', 'ingredients_that_may_be_from_palm_oil_n', 'additives_n', 'ingredients_text', 'image_ingredients_url', 'image_ingredients_small_url', 'brands_tags', 'brands', 'energy-kcal_100g', 'image_url', 'image_small_url', 'saturated-fat_100g', 'sodium_100g', 'salt_100g', 'sugars_100g', 'carbohydrates_100g', 'fat_100g', 'proteins_100g', 'energy_100g', 'product_name', 'pnns_groups_1', 'countries', 'countries_tags', 'countries_en', 'pnns_groups_2', 'url', 'states', 'states_tags', 'states_en', 'last_modified_datetime', 'last_modified_t', 'created_datetime', 'created_t', 'creator', 'code']\n"
          ],
          "name": "stdout"
        }
      ]
    },
    {
      "cell_type": "code",
      "metadata": {
        "id": "WjKlHYbfxVs1",
        "colab_type": "code",
        "outputId": "23846b5b-7ac2-4f6e-be0c-1b96ecad4cb6",
        "colab": {
          "base_uri": "https://localhost:8080/",
          "height": 672
        }
      },
      "source": [
        "nonan_df = no_duplicates__food_data.dropna(subset=['carbon-footprint_100g']) #drop most empty rows from the thresold category and check contents\n",
        "nonan_df.head()"
      ],
      "execution_count": 23,
      "outputs": [
        {
          "output_type": "execute_result",
          "data": {
            "text/html": [
              "<div>\n",
              "<style scoped>\n",
              "    .dataframe tbody tr th:only-of-type {\n",
              "        vertical-align: middle;\n",
              "    }\n",
              "\n",
              "    .dataframe tbody tr th {\n",
              "        vertical-align: top;\n",
              "    }\n",
              "\n",
              "    .dataframe thead th {\n",
              "        text-align: right;\n",
              "    }\n",
              "</style>\n",
              "<table border=\"1\" class=\"dataframe\">\n",
              "  <thead>\n",
              "    <tr style=\"text-align: right;\">\n",
              "      <th></th>\n",
              "      <th>carbon-footprint_100g</th>\n",
              "      <th>-lactose_100g</th>\n",
              "      <th>chloride_100g</th>\n",
              "      <th>biotin_100g</th>\n",
              "      <th>iodine_100g</th>\n",
              "      <th>polyols_100g</th>\n",
              "      <th>energy-from-fat_100g</th>\n",
              "      <th>vitamin-k_100g</th>\n",
              "      <th>selenium_100g</th>\n",
              "      <th>omega-3-fat_100g</th>\n",
              "      <th>manganese_100g</th>\n",
              "      <th>copper_100g</th>\n",
              "      <th>vitamin-e_100g</th>\n",
              "      <th>pantothenic-acid_100g</th>\n",
              "      <th>folates_100g</th>\n",
              "      <th>cocoa_100g</th>\n",
              "      <th>zinc_100g</th>\n",
              "      <th>fruits-vegetables-nuts_100g</th>\n",
              "      <th>vitamin-b9_100g</th>\n",
              "      <th>vitamin-b12_100g</th>\n",
              "      <th>phosphorus_100g</th>\n",
              "      <th>magnesium_100g</th>\n",
              "      <th>vitamin-b6_100g</th>\n",
              "      <th>vitamin-d_100g</th>\n",
              "      <th>carbon-footprint-from-meat-or-fish_100g</th>\n",
              "      <th>fruits-vegetables-nuts-estimate_100g</th>\n",
              "      <th>vitamin-b2_100g</th>\n",
              "      <th>ingredients_from_palm_oil_tags</th>\n",
              "      <th>vitamin-b1_100g</th>\n",
              "      <th>vitamin-pp_100g</th>\n",
              "      <th>alcohol_100g</th>\n",
              "      <th>monounsaturated-fat_100g</th>\n",
              "      <th>polyunsaturated-fat_100g</th>\n",
              "      <th>potassium_100g</th>\n",
              "      <th>ingredients_that_may_be_from_palm_oil_tags</th>\n",
              "      <th>first_packaging_code_geo</th>\n",
              "      <th>cities_tags</th>\n",
              "      <th>origins_tags</th>\n",
              "      <th>origins</th>\n",
              "      <th>traces</th>\n",
              "      <th>...</th>\n",
              "      <th>main_category_en</th>\n",
              "      <th>main_category</th>\n",
              "      <th>categories_en</th>\n",
              "      <th>categories_tags</th>\n",
              "      <th>categories</th>\n",
              "      <th>ingredients_from_palm_oil_n</th>\n",
              "      <th>ingredients_that_may_be_from_palm_oil_n</th>\n",
              "      <th>additives_n</th>\n",
              "      <th>ingredients_text</th>\n",
              "      <th>image_ingredients_url</th>\n",
              "      <th>image_ingredients_small_url</th>\n",
              "      <th>brands_tags</th>\n",
              "      <th>brands</th>\n",
              "      <th>energy-kcal_100g</th>\n",
              "      <th>image_url</th>\n",
              "      <th>image_small_url</th>\n",
              "      <th>saturated-fat_100g</th>\n",
              "      <th>sodium_100g</th>\n",
              "      <th>salt_100g</th>\n",
              "      <th>sugars_100g</th>\n",
              "      <th>carbohydrates_100g</th>\n",
              "      <th>fat_100g</th>\n",
              "      <th>proteins_100g</th>\n",
              "      <th>energy_100g</th>\n",
              "      <th>product_name</th>\n",
              "      <th>pnns_groups_1</th>\n",
              "      <th>countries</th>\n",
              "      <th>countries_tags</th>\n",
              "      <th>countries_en</th>\n",
              "      <th>pnns_groups_2</th>\n",
              "      <th>url</th>\n",
              "      <th>states</th>\n",
              "      <th>states_tags</th>\n",
              "      <th>states_en</th>\n",
              "      <th>last_modified_datetime</th>\n",
              "      <th>last_modified_t</th>\n",
              "      <th>created_datetime</th>\n",
              "      <th>created_t</th>\n",
              "      <th>creator</th>\n",
              "      <th>code</th>\n",
              "    </tr>\n",
              "  </thead>\n",
              "  <tbody>\n",
              "    <tr>\n",
              "      <th>82305</th>\n",
              "      <td>500.0</td>\n",
              "      <td>NaN</td>\n",
              "      <td>NaN</td>\n",
              "      <td>NaN</td>\n",
              "      <td>NaN</td>\n",
              "      <td>NaN</td>\n",
              "      <td>NaN</td>\n",
              "      <td>NaN</td>\n",
              "      <td>NaN</td>\n",
              "      <td>NaN</td>\n",
              "      <td>NaN</td>\n",
              "      <td>NaN</td>\n",
              "      <td>NaN</td>\n",
              "      <td>NaN</td>\n",
              "      <td>NaN</td>\n",
              "      <td>NaN</td>\n",
              "      <td>NaN</td>\n",
              "      <td>NaN</td>\n",
              "      <td>NaN</td>\n",
              "      <td>NaN</td>\n",
              "      <td>NaN</td>\n",
              "      <td>NaN</td>\n",
              "      <td>NaN</td>\n",
              "      <td>NaN</td>\n",
              "      <td>NaN</td>\n",
              "      <td>NaN</td>\n",
              "      <td>NaN</td>\n",
              "      <td>NaN</td>\n",
              "      <td>NaN</td>\n",
              "      <td>NaN</td>\n",
              "      <td>NaN</td>\n",
              "      <td>NaN</td>\n",
              "      <td>NaN</td>\n",
              "      <td>NaN</td>\n",
              "      <td>NaN</td>\n",
              "      <td>NaN</td>\n",
              "      <td>NaN</td>\n",
              "      <td>toronto,ontario,canada</td>\n",
              "      <td>Toronto,Ontario,Canada</td>\n",
              "      <td>en:nuts</td>\n",
              "      <td>...</td>\n",
              "      <td>Spice-cookies</td>\n",
              "      <td>en:spice-cookies</td>\n",
              "      <td>Spice-cookies</td>\n",
              "      <td>en:spice-cookies</td>\n",
              "      <td>Spice cookies</td>\n",
              "      <td>NaN</td>\n",
              "      <td>NaN</td>\n",
              "      <td>NaN</td>\n",
              "      <td>NaN</td>\n",
              "      <td>NaN</td>\n",
              "      <td>NaN</td>\n",
              "      <td>dimpflmeier</td>\n",
              "      <td>Dimpflmeier</td>\n",
              "      <td>NaN</td>\n",
              "      <td>NaN</td>\n",
              "      <td>NaN</td>\n",
              "      <td>2.0</td>\n",
              "      <td>0.183</td>\n",
              "      <td>0.457</td>\n",
              "      <td>34.0</td>\n",
              "      <td>76.0</td>\n",
              "      <td>7.0</td>\n",
              "      <td>6.0</td>\n",
              "      <td>380.0</td>\n",
              "      <td>Pfeffernüsse</td>\n",
              "      <td>unknown</td>\n",
              "      <td>NaN</td>\n",
              "      <td>NaN</td>\n",
              "      <td>NaN</td>\n",
              "      <td>unknown</td>\n",
              "      <td>http://world-en.openfoodfacts.org/product/0060...</td>\n",
              "      <td>en:to-be-completed, en:nutrition-facts-complet...</td>\n",
              "      <td>en:to-be-completed,en:nutrition-facts-complete...</td>\n",
              "      <td>To be completed,Nutrition facts completed,Ingr...</td>\n",
              "      <td>2018-12-12T18:32:15Z</td>\n",
              "      <td>1544639535</td>\n",
              "      <td>2018-12-12T18:08:06Z</td>\n",
              "      <td>1544638086</td>\n",
              "      <td>breccy</td>\n",
              "      <td>60569008657</td>\n",
              "    </tr>\n",
              "    <tr>\n",
              "      <th>148188</th>\n",
              "      <td>100.0</td>\n",
              "      <td>NaN</td>\n",
              "      <td>NaN</td>\n",
              "      <td>NaN</td>\n",
              "      <td>NaN</td>\n",
              "      <td>NaN</td>\n",
              "      <td>NaN</td>\n",
              "      <td>NaN</td>\n",
              "      <td>NaN</td>\n",
              "      <td>NaN</td>\n",
              "      <td>NaN</td>\n",
              "      <td>NaN</td>\n",
              "      <td>NaN</td>\n",
              "      <td>NaN</td>\n",
              "      <td>NaN</td>\n",
              "      <td>NaN</td>\n",
              "      <td>NaN</td>\n",
              "      <td>NaN</td>\n",
              "      <td>NaN</td>\n",
              "      <td>NaN</td>\n",
              "      <td>NaN</td>\n",
              "      <td>NaN</td>\n",
              "      <td>NaN</td>\n",
              "      <td>NaN</td>\n",
              "      <td>NaN</td>\n",
              "      <td>NaN</td>\n",
              "      <td>NaN</td>\n",
              "      <td>NaN</td>\n",
              "      <td>NaN</td>\n",
              "      <td>NaN</td>\n",
              "      <td>0.0</td>\n",
              "      <td>NaN</td>\n",
              "      <td>NaN</td>\n",
              "      <td>NaN</td>\n",
              "      <td>NaN</td>\n",
              "      <td>NaN</td>\n",
              "      <td>NaN</td>\n",
              "      <td>reunion</td>\n",
              "      <td>Réunion</td>\n",
              "      <td>NaN</td>\n",
              "      <td>...</td>\n",
              "      <td>Meats</td>\n",
              "      <td>en:meats</td>\n",
              "      <td>Meats,Prepared meats</td>\n",
              "      <td>en:meats,en:prepared-meats</td>\n",
              "      <td>Charcuterie</td>\n",
              "      <td>0.0</td>\n",
              "      <td>0.0</td>\n",
              "      <td>0.0</td>\n",
              "      <td>Maigre, gras et sang de porc, eau, sel, poirea...</td>\n",
              "      <td>https://static.openfoodfacts.org/images/produc...</td>\n",
              "      <td>https://static.openfoodfacts.org/images/produc...</td>\n",
              "      <td>porcidou</td>\n",
              "      <td>Porcidou</td>\n",
              "      <td>1247.0</td>\n",
              "      <td>https://static.openfoodfacts.org/images/produc...</td>\n",
              "      <td>https://static.openfoodfacts.org/images/produc...</td>\n",
              "      <td>9.3</td>\n",
              "      <td>0.640</td>\n",
              "      <td>1.600</td>\n",
              "      <td>4.2</td>\n",
              "      <td>10.0</td>\n",
              "      <td>23.0</td>\n",
              "      <td>13.0</td>\n",
              "      <td>1247.0</td>\n",
              "      <td>Boudins noirs nature</td>\n",
              "      <td>Fish Meat Eggs</td>\n",
              "      <td>France</td>\n",
              "      <td>en:france</td>\n",
              "      <td>France</td>\n",
              "      <td>Processed meat</td>\n",
              "      <td>http://world-en.openfoodfacts.org/product/0208...</td>\n",
              "      <td>en:to-be-checked, en:complete, en:nutrition-fa...</td>\n",
              "      <td>en:to-be-checked,en:complete,en:nutrition-fact...</td>\n",
              "      <td>To be checked,Complete,Nutrition facts complet...</td>\n",
              "      <td>2019-03-26T05:25:42Z</td>\n",
              "      <td>1553577942</td>\n",
              "      <td>2018-07-25T16:01:13Z</td>\n",
              "      <td>1532534473</td>\n",
              "      <td>kiliweb</td>\n",
              "      <td>0208015019813</td>\n",
              "    </tr>\n",
              "    <tr>\n",
              "      <th>148190</th>\n",
              "      <td>100.0</td>\n",
              "      <td>NaN</td>\n",
              "      <td>NaN</td>\n",
              "      <td>NaN</td>\n",
              "      <td>NaN</td>\n",
              "      <td>NaN</td>\n",
              "      <td>NaN</td>\n",
              "      <td>NaN</td>\n",
              "      <td>NaN</td>\n",
              "      <td>NaN</td>\n",
              "      <td>NaN</td>\n",
              "      <td>NaN</td>\n",
              "      <td>NaN</td>\n",
              "      <td>NaN</td>\n",
              "      <td>NaN</td>\n",
              "      <td>NaN</td>\n",
              "      <td>NaN</td>\n",
              "      <td>NaN</td>\n",
              "      <td>NaN</td>\n",
              "      <td>NaN</td>\n",
              "      <td>NaN</td>\n",
              "      <td>NaN</td>\n",
              "      <td>NaN</td>\n",
              "      <td>NaN</td>\n",
              "      <td>NaN</td>\n",
              "      <td>NaN</td>\n",
              "      <td>NaN</td>\n",
              "      <td>NaN</td>\n",
              "      <td>NaN</td>\n",
              "      <td>NaN</td>\n",
              "      <td>0.0</td>\n",
              "      <td>NaN</td>\n",
              "      <td>NaN</td>\n",
              "      <td>NaN</td>\n",
              "      <td>NaN</td>\n",
              "      <td>NaN</td>\n",
              "      <td>NaN</td>\n",
              "      <td>reunion</td>\n",
              "      <td>Réunion</td>\n",
              "      <td>NaN</td>\n",
              "      <td>...</td>\n",
              "      <td>Meats</td>\n",
              "      <td>en:meats</td>\n",
              "      <td>Meats,Prepared meats</td>\n",
              "      <td>en:meats,en:prepared-meats</td>\n",
              "      <td>charcuterie</td>\n",
              "      <td>0.0</td>\n",
              "      <td>0.0</td>\n",
              "      <td>0.0</td>\n",
              "      <td>5 BOUDINS NOIRS PIMENT MAIGRE, GRAS ET SANG DE...</td>\n",
              "      <td>https://static.openfoodfacts.org/images/produc...</td>\n",
              "      <td>https://static.openfoodfacts.org/images/produc...</td>\n",
              "      <td>porcidou</td>\n",
              "      <td>Porcidou</td>\n",
              "      <td>1247.0</td>\n",
              "      <td>https://static.openfoodfacts.org/images/produc...</td>\n",
              "      <td>https://static.openfoodfacts.org/images/produc...</td>\n",
              "      <td>9.3</td>\n",
              "      <td>0.640</td>\n",
              "      <td>1.600</td>\n",
              "      <td>4.2</td>\n",
              "      <td>10.0</td>\n",
              "      <td>23.0</td>\n",
              "      <td>13.0</td>\n",
              "      <td>1247.0</td>\n",
              "      <td>5 boudins noirs piment</td>\n",
              "      <td>Fish Meat Eggs</td>\n",
              "      <td>France</td>\n",
              "      <td>en:france</td>\n",
              "      <td>France</td>\n",
              "      <td>Processed meat</td>\n",
              "      <td>http://world-en.openfoodfacts.org/product/0208...</td>\n",
              "      <td>en:to-be-completed, en:nutrition-facts-complet...</td>\n",
              "      <td>en:to-be-completed,en:nutrition-facts-complete...</td>\n",
              "      <td>To be completed,Nutrition facts completed,Ingr...</td>\n",
              "      <td>2019-03-26T05:28:13Z</td>\n",
              "      <td>1553578093</td>\n",
              "      <td>2019-02-23T08:49:10Z</td>\n",
              "      <td>1550911750</td>\n",
              "      <td>kiliweb</td>\n",
              "      <td>0208016022041</td>\n",
              "    </tr>\n",
              "    <tr>\n",
              "      <th>148197</th>\n",
              "      <td>100.0</td>\n",
              "      <td>NaN</td>\n",
              "      <td>NaN</td>\n",
              "      <td>NaN</td>\n",
              "      <td>NaN</td>\n",
              "      <td>NaN</td>\n",
              "      <td>NaN</td>\n",
              "      <td>NaN</td>\n",
              "      <td>NaN</td>\n",
              "      <td>NaN</td>\n",
              "      <td>NaN</td>\n",
              "      <td>NaN</td>\n",
              "      <td>NaN</td>\n",
              "      <td>NaN</td>\n",
              "      <td>NaN</td>\n",
              "      <td>NaN</td>\n",
              "      <td>NaN</td>\n",
              "      <td>NaN</td>\n",
              "      <td>NaN</td>\n",
              "      <td>NaN</td>\n",
              "      <td>NaN</td>\n",
              "      <td>NaN</td>\n",
              "      <td>NaN</td>\n",
              "      <td>NaN</td>\n",
              "      <td>NaN</td>\n",
              "      <td>NaN</td>\n",
              "      <td>NaN</td>\n",
              "      <td>NaN</td>\n",
              "      <td>NaN</td>\n",
              "      <td>NaN</td>\n",
              "      <td>0.0</td>\n",
              "      <td>NaN</td>\n",
              "      <td>NaN</td>\n",
              "      <td>NaN</td>\n",
              "      <td>NaN</td>\n",
              "      <td>NaN</td>\n",
              "      <td>NaN</td>\n",
              "      <td>reunion</td>\n",
              "      <td>Réunion</td>\n",
              "      <td>en:gluten</td>\n",
              "      <td>...</td>\n",
              "      <td>Meats</td>\n",
              "      <td>en:meats</td>\n",
              "      <td>Meats,Prepared meats,fr:Boudins</td>\n",
              "      <td>en:meats,en:prepared-meats,fr:boudins</td>\n",
              "      <td>boudin</td>\n",
              "      <td>0.0</td>\n",
              "      <td>0.0</td>\n",
              "      <td>0.0</td>\n",
              "      <td>Maigre et sang de porc, eau, sel, poireaux et ...</td>\n",
              "      <td>https://static.openfoodfacts.org/images/produc...</td>\n",
              "      <td>https://static.openfoodfacts.org/images/produc...</td>\n",
              "      <td>porcidou</td>\n",
              "      <td>Porcidou</td>\n",
              "      <td>1247.0</td>\n",
              "      <td>https://static.openfoodfacts.org/images/produc...</td>\n",
              "      <td>https://static.openfoodfacts.org/images/produc...</td>\n",
              "      <td>9.3</td>\n",
              "      <td>0.640</td>\n",
              "      <td>1.600</td>\n",
              "      <td>4.2</td>\n",
              "      <td>10.0</td>\n",
              "      <td>23.0</td>\n",
              "      <td>13.0</td>\n",
              "      <td>1247.0</td>\n",
              "      <td>Mini boudins noirs nature</td>\n",
              "      <td>Fish Meat Eggs</td>\n",
              "      <td>France</td>\n",
              "      <td>en:france</td>\n",
              "      <td>France</td>\n",
              "      <td>Processed meat</td>\n",
              "      <td>http://world-en.openfoodfacts.org/product/0208...</td>\n",
              "      <td>en:to-be-completed, en:nutrition-facts-complet...</td>\n",
              "      <td>en:to-be-completed,en:nutrition-facts-complete...</td>\n",
              "      <td>To be completed,Nutrition facts completed,Ingr...</td>\n",
              "      <td>2019-03-25T06:07:18Z</td>\n",
              "      <td>1553494038</td>\n",
              "      <td>2019-03-01T12:16:19Z</td>\n",
              "      <td>1551442579</td>\n",
              "      <td>kiliweb</td>\n",
              "      <td>0208019018690</td>\n",
              "    </tr>\n",
              "    <tr>\n",
              "      <th>157561</th>\n",
              "      <td>100.0</td>\n",
              "      <td>NaN</td>\n",
              "      <td>NaN</td>\n",
              "      <td>NaN</td>\n",
              "      <td>NaN</td>\n",
              "      <td>NaN</td>\n",
              "      <td>NaN</td>\n",
              "      <td>NaN</td>\n",
              "      <td>NaN</td>\n",
              "      <td>NaN</td>\n",
              "      <td>NaN</td>\n",
              "      <td>NaN</td>\n",
              "      <td>NaN</td>\n",
              "      <td>NaN</td>\n",
              "      <td>NaN</td>\n",
              "      <td>NaN</td>\n",
              "      <td>NaN</td>\n",
              "      <td>NaN</td>\n",
              "      <td>NaN</td>\n",
              "      <td>NaN</td>\n",
              "      <td>NaN</td>\n",
              "      <td>NaN</td>\n",
              "      <td>NaN</td>\n",
              "      <td>NaN</td>\n",
              "      <td>NaN</td>\n",
              "      <td>NaN</td>\n",
              "      <td>NaN</td>\n",
              "      <td>NaN</td>\n",
              "      <td>NaN</td>\n",
              "      <td>NaN</td>\n",
              "      <td>0.0</td>\n",
              "      <td>NaN</td>\n",
              "      <td>NaN</td>\n",
              "      <td>NaN</td>\n",
              "      <td>NaN</td>\n",
              "      <td>NaN</td>\n",
              "      <td>saint-pierre-la-reunion-france</td>\n",
              "      <td>reunion</td>\n",
              "      <td>Réunion</td>\n",
              "      <td>NaN</td>\n",
              "      <td>...</td>\n",
              "      <td>Meats</td>\n",
              "      <td>en:meats</td>\n",
              "      <td>Meats,Prepared meats,Sausages</td>\n",
              "      <td>en:meats,en:prepared-meats,en:sausages</td>\n",
              "      <td>Viandes,Charcuteries,Saucisses</td>\n",
              "      <td>0.0</td>\n",
              "      <td>0.0</td>\n",
              "      <td>3.0</td>\n",
              "      <td>Maigre et gras de porc, sel, épices, dextrose ...</td>\n",
              "      <td>https://static.openfoodfacts.org/images/produc...</td>\n",
              "      <td>https://static.openfoodfacts.org/images/produc...</td>\n",
              "      <td>porcidou</td>\n",
              "      <td>Porcidou</td>\n",
              "      <td>1092.0</td>\n",
              "      <td>https://static.openfoodfacts.org/images/produc...</td>\n",
              "      <td>https://static.openfoodfacts.org/images/produc...</td>\n",
              "      <td>8.0</td>\n",
              "      <td>0.920</td>\n",
              "      <td>2.300</td>\n",
              "      <td>0.5</td>\n",
              "      <td>0.5</td>\n",
              "      <td>20.0</td>\n",
              "      <td>21.0</td>\n",
              "      <td>1092.0</td>\n",
              "      <td>Saucisses fumées</td>\n",
              "      <td>Fish Meat Eggs</td>\n",
              "      <td>France</td>\n",
              "      <td>en:france</td>\n",
              "      <td>France</td>\n",
              "      <td>Processed meat</td>\n",
              "      <td>http://world-en.openfoodfacts.org/product/0221...</td>\n",
              "      <td>en:to-be-completed, en:nutrition-facts-complet...</td>\n",
              "      <td>en:to-be-completed,en:nutrition-facts-complete...</td>\n",
              "      <td>To be completed,Nutrition facts completed,Ingr...</td>\n",
              "      <td>2019-03-25T08:43:20Z</td>\n",
              "      <td>1553503400</td>\n",
              "      <td>2018-01-15T08:05:25Z</td>\n",
              "      <td>1516003525</td>\n",
              "      <td>kiliweb</td>\n",
              "      <td>0221909028142</td>\n",
              "    </tr>\n",
              "  </tbody>\n",
              "</table>\n",
              "<p>5 rows × 114 columns</p>\n",
              "</div>"
            ],
            "text/plain": [
              "        carbon-footprint_100g  -lactose_100g  ...  creator           code\n",
              "82305                   500.0            NaN  ...   breccy    60569008657\n",
              "148188                  100.0            NaN  ...  kiliweb  0208015019813\n",
              "148190                  100.0            NaN  ...  kiliweb  0208016022041\n",
              "148197                  100.0            NaN  ...  kiliweb  0208019018690\n",
              "157561                  100.0            NaN  ...  kiliweb  0221909028142\n",
              "\n",
              "[5 rows x 114 columns]"
            ]
          },
          "metadata": {
            "tags": []
          },
          "execution_count": 23
        }
      ]
    },
    {
      "cell_type": "markdown",
      "metadata": {
        "id": "u_iuez18xCtK",
        "colab_type": "text"
      },
      "source": [
        "column containing in the name '_tag' or '_en' have redundant information. Should be deleted"
      ]
    },
    {
      "cell_type": "code",
      "metadata": {
        "id": "HOLntcXSe_vI",
        "colab_type": "code",
        "outputId": "c7f52def-ed3b-42dd-864c-73803ae82383",
        "colab": {
          "base_uri": "https://localhost:8080/",
          "height": 54
        }
      },
      "source": [
        "df_filteren = nonan_df.filter(regex='_en')\n",
        "en = list(df_filteren)\n",
        "df_filtertag = nonan_df.filter(regex='_tag')\n",
        "tag = list(df_filtertag)\n",
        "filterlist= en + tag\n",
        "print(filterlist)"
      ],
      "execution_count": 24,
      "outputs": [
        {
          "output_type": "stream",
          "text": [
            "['traces_en', 'labels_en', 'additives_en', 'main_category_en', 'categories_en', 'countries_en', 'states_en', 'ingredients_from_palm_oil_tags', 'ingredients_that_may_be_from_palm_oil_tags', 'cities_tags', 'origins_tags', 'emb_codes_tags', 'traces_tags', 'manufacturing_places_tags', 'packaging_tags', 'labels_tags', 'additives_tags', 'categories_tags', 'brands_tags', 'countries_tags', 'states_tags']\n"
          ],
          "name": "stdout"
        }
      ]
    },
    {
      "cell_type": "code",
      "metadata": {
        "id": "vGRmJa5e22Wt",
        "colab_type": "code",
        "outputId": "ed72409a-44cb-43a6-fc58-992fbcd3a0a0",
        "colab": {
          "base_uri": "https://localhost:8080/",
          "height": 121
        }
      },
      "source": [
        "no_duplicates__food_data.drop(filterlist, axis = 1, inplace = True)\n",
        "no_duplicates__food_data.shape"
      ],
      "execution_count": 25,
      "outputs": [
        {
          "output_type": "stream",
          "text": [
            "/usr/local/lib/python3.6/dist-packages/pandas/core/frame.py:4117: SettingWithCopyWarning: \n",
            "A value is trying to be set on a copy of a slice from a DataFrame\n",
            "\n",
            "See the caveats in the documentation: http://pandas.pydata.org/pandas-docs/stable/user_guide/indexing.html#returning-a-view-versus-a-copy\n",
            "  errors=errors,\n"
          ],
          "name": "stderr"
        },
        {
          "output_type": "execute_result",
          "data": {
            "text/plain": [
              "(1062806, 93)"
            ]
          },
          "metadata": {
            "tags": []
          },
          "execution_count": 25
        }
      ]
    },
    {
      "cell_type": "code",
      "metadata": {
        "id": "yOwu7wjifC8M",
        "colab_type": "code",
        "outputId": "f88a220e-59c5-48dc-b54e-8fc9c1593912",
        "colab": {
          "base_uri": "https://localhost:8080/",
          "height": 34
        }
      },
      "source": [
        "# are French and British score the same? (suspiciously they have same %null)\n",
        "print(nonan_df['nutrition-score-fr_100g'].equals(nonan_df['nutrition-score-uk_100g'])) # function that checks whether two columns contain same values"
      ],
      "execution_count": 26,
      "outputs": [
        {
          "output_type": "stream",
          "text": [
            "False\n"
          ],
          "name": "stdout"
        }
      ]
    },
    {
      "cell_type": "code",
      "metadata": {
        "id": "QiqWSN53cPan",
        "colab_type": "code",
        "colab": {}
      },
      "source": [
        ""
      ],
      "execution_count": 0,
      "outputs": []
    },
    {
      "cell_type": "markdown",
      "metadata": {
        "id": "4sUjQjr92fbA",
        "colab_type": "text"
      },
      "source": [
        "After a first cleaning step, we can now create subsets of the dataframe by choosing the columns relevant the statistical analysis. \n"
      ]
    },
    {
      "cell_type": "code",
      "metadata": {
        "id": "ySfAqzOTDU21",
        "colab_type": "code",
        "colab": {}
      },
      "source": [
        "# first step : lists of columns we are interested for each section of the statistical study. \n",
        "\n",
        "\n",
        "eco_raw = ['product_name','nutrition-score-fr_100g', 'nutrition_grade_fr','nova_group', 'pnns_groups_1', 'pnns_groups_2', 'main_category', 'categories', 'carbon-footprint_100g', 'carbon-footprint-from-meat-or-fish_100g', 'ingredients_from_palm_oil_n', 'ingredients_that_may_be_from_palm_oil_n']\n",
        "df_eco_raw = no_duplicates__food_data[eco_raw] # this is the corresponding dataframe with raw data\n",
        "\n",
        "\n"
      ],
      "execution_count": 0,
      "outputs": []
    },
    {
      "cell_type": "markdown",
      "metadata": {
        "id": "WQ8FFJ81_vEr",
        "colab_type": "text"
      },
      "source": [
        "# selection of relevant columns to describe the categories of food"
      ]
    },
    {
      "cell_type": "code",
      "metadata": {
        "id": "lZEJoK5vDvLZ",
        "colab_type": "code",
        "outputId": "0f9c7903-6af8-41f1-dfb3-00917d954afb",
        "colab": {
          "base_uri": "https://localhost:8080/",
          "height": 851
        }
      },
      "source": [
        "print(df_eco_raw.pnns_groups_2.value_counts(dropna=True)) # sensible subdivision, even if a large part is unknown\n",
        "print(df_eco_raw.pnns_groups_2.shape)"
      ],
      "execution_count": 42,
      "outputs": [
        {
          "output_type": "stream",
          "text": [
            "unknown                             730302\n",
            "Biscuits and cakes                   26084\n",
            "Sweets                               24051\n",
            "One-dish meals                       21389\n",
            "Cheese                               19663\n",
            "Dressings and sauces                 18489\n",
            "Processed meat                       16787\n",
            "Milk and yogurt                      16708\n",
            "Cereals                              14917\n",
            "Fish and seafood                     12572\n",
            "Meat                                 12400\n",
            "Alcoholic beverages                  10558\n",
            "Vegetables                           10310\n",
            "Fats                                 10271\n",
            "Fruits                                9709\n",
            "Chocolate products                    9694\n",
            "Bread                                 8707\n",
            "Sweetened beverages                   8703\n",
            "Appetizers                            8135\n",
            "Salty and fatty products              7525\n",
            "Fruit juices                          6551\n",
            "Breakfast cereals                     5078\n",
            "Nuts                                  4698\n",
            "Legumes                               4664\n",
            "Ice cream                             4477\n",
            "Unsweetened beverages                 4088\n",
            "Dairy desserts                        3967\n",
            "pastries                              3557\n",
            "Dried fruits                          3482\n",
            "Artificially sweetened beverages      3038\n",
            "Pizza pies and quiche                 2926\n",
            "vegetables                            2740\n",
            "Waters and flavored waters            2670\n",
            "Plant-based milk substitutes          2328\n",
            "Sandwiches                            2051\n",
            "Potatoes                              1958\n",
            "Soups                                 1860\n",
            "Eggs                                  1703\n",
            "Fruit nectars                         1447\n",
            "Teas and herbal teas and coffees       855\n",
            "Offals                                 432\n",
            "Pizza pies and quiches                 406\n",
            "fruits                                 234\n",
            "cereals                                 36\n",
            "legumes                                 10\n",
            "nuts                                     5\n",
            "Name: pnns_groups_2, dtype: int64\n",
            "(1062806,)\n"
          ],
          "name": "stdout"
        }
      ]
    },
    {
      "cell_type": "markdown",
      "metadata": {
        "id": "dS-Ud-nKpqIS",
        "colab_type": "text"
      },
      "source": [
        "some categories in the PNNS_2 classification are double:one with lower case (fruits), and one with capital (Fruits)"
      ]
    },
    {
      "cell_type": "code",
      "metadata": {
        "id": "uZzZVoA6pl3L",
        "colab_type": "code",
        "colab": {
          "base_uri": "https://localhost:8080/",
          "height": 121
        },
        "outputId": "72f5f160-82ac-4600-fd5d-556664785503"
      },
      "source": [
        "df_eco_raw['pnns_groups_2'] = df_eco_raw['pnns_groups_2'].str.lower()\n"
      ],
      "execution_count": 45,
      "outputs": [
        {
          "output_type": "stream",
          "text": [
            "/usr/local/lib/python3.6/dist-packages/ipykernel_launcher.py:1: SettingWithCopyWarning: \n",
            "A value is trying to be set on a copy of a slice from a DataFrame.\n",
            "Try using .loc[row_indexer,col_indexer] = value instead\n",
            "\n",
            "See the caveats in the documentation: http://pandas.pydata.org/pandas-docs/stable/user_guide/indexing.html#returning-a-view-versus-a-copy\n",
            "  \"\"\"Entry point for launching an IPython kernel.\n"
          ],
          "name": "stderr"
        }
      ]
    },
    {
      "cell_type": "code",
      "metadata": {
        "id": "xt7CooRArJcR",
        "colab_type": "code",
        "colab": {
          "base_uri": "https://localhost:8080/",
          "height": 225
        },
        "outputId": "00473d83-a663-4b18-83c0-a74fb77eecf0"
      },
      "source": [
        "df_eco_raw"
      ],
      "execution_count": 40,
      "outputs": [
        {
          "output_type": "execute_result",
          "data": {
            "text/plain": [
              "0                       unknown\n",
              "1                       unknown\n",
              "2                       unknown\n",
              "3          dressings and sauces\n",
              "4                       unknown\n",
              "                   ...         \n",
              "1062829                 unknown\n",
              "1062830                 unknown\n",
              "1062831                    meat\n",
              "1062832                 unknown\n",
              "1062833                 unknown\n",
              "Name: pnns_groups_2, Length: 1062806, dtype: object"
            ]
          },
          "metadata": {
            "tags": []
          },
          "execution_count": 40
        }
      ]
    },
    {
      "cell_type": "code",
      "metadata": {
        "id": "hgWtGmB0hqHB",
        "colab_type": "code",
        "outputId": "646d407a-8cdd-495f-ab7c-8da40f1ea8ff",
        "colab": {
          "base_uri": "https://localhost:8080/",
          "height": 278
        }
      },
      "source": [
        "print(df_eco_raw.pnns_groups_1.value_counts(dropna=True)) # very broad. Grouping fish, meat, eggs together would bias environmental impact "
      ],
      "execution_count": 46,
      "outputs": [
        {
          "output_type": "stream",
          "text": [
            "unknown                    730302\n",
            "Sugary snacks               59829\n",
            "Milk and dairy products     44815\n",
            "Fish Meat Eggs              43894\n",
            "Cereals and potatoes        35324\n",
            "Beverages                   29680\n",
            "Fat and sauces              28760\n",
            "Composite foods             26366\n",
            "Fruits and vegetables       25361\n",
            "Salty snacks                20358\n",
            "sugary-snacks                3557\n",
            "fruits-and-vegetables        2974\n",
            "cereals-and-potatoes           46\n",
            "salty-snacks                    5\n",
            "Name: pnns_groups_1, dtype: int64\n"
          ],
          "name": "stdout"
        }
      ]
    },
    {
      "cell_type": "code",
      "metadata": {
        "id": "UF5jbDqBiMpf",
        "colab_type": "code",
        "outputId": "0e249a08-5f70-4f19-c347-e1f4a5e750f9",
        "colab": {
          "base_uri": "https://localhost:8080/",
          "height": 538
        }
      },
      "source": [
        "# categories section has too many entries to be representative, stats would be confusing\n",
        "df_cat_count = pd.value_counts(df_eco_raw['categories'].values, sort=True) # transform the counts in a database\n",
        "\n",
        "df_cat_count = df_cat_count.reset_index()\n",
        "df_cat_count.columns = ['category', 'count']\n",
        "df_cat_count = df_cat_count[df_cat_count['count'] > 500] # showing only those above 500 it can be seen that some are very similar \n",
        "print (df_cat_count)"
      ],
      "execution_count": 47,
      "outputs": [
        {
          "output_type": "stream",
          "text": [
            "                                             category  count\n",
            "0                                            Boissons   4269\n",
            "1       Viandes, Volailles, Poulets, Filets de poulet   1506\n",
            "2                Boissons, Boissons avec sucre ajouté   1442\n",
            "3                                    Matières grasses   1389\n",
            "4   Snacks, Snacks sucrés, Chocolats, Chocolats noirs   1195\n",
            "5                             Extra-virgin olive oils    942\n",
            "6   Aliments et boissons à base de végétaux, Alime...    890\n",
            "7   Snacks, Snacks sucrés, Biscuits et gâteaux, Bi...    860\n",
            "8                                               Wines    830\n",
            "9   Produits laitiers, Produits fermentés, Produit...    822\n",
            "10     Viandes, Charcuteries, Jambons, Jambons blancs    740\n",
            "11        Snacks, Snacks sucrés, Confiseries, Bonbons    698\n",
            "12                                          Moutardes    679\n",
            "13                                     Jambons blancs    665\n",
            "14                                            Lácteos    651\n",
            "15                                      Greek yogurts    644\n",
            "16                                    Beignets sucrés    627\n",
            "17                                        Mayonnaises    623\n",
            "18                                     Tortilla Chips    601\n",
            "19  Snacks, Snacks salés, Apéritif, Biscuits apéri...    599\n",
            "20                           Produits laitiers, Laits    588\n",
            "21  Snacks, Snacks sucrés, Chocolats, Chocolats au...    582\n",
            "22                                         Hot sauces    581\n",
            "23  Snacks, Snacks sucrés, Biscuits et gâteaux, Pa...    563\n",
            "24     Viandes, Volailles, Poulets, Cuisses de poulet    558\n",
            "25                                         Madeleines    534\n",
            "26  Viandes, Charcuteries, Saucisses, Saucisses fr...    531\n",
            "27                      Boissons, Boissons édulcorées    521\n",
            "28  Produits laitiers, Produits fermentés, Produit...    516\n"
          ],
          "name": "stdout"
        }
      ]
    },
    {
      "cell_type": "code",
      "metadata": {
        "id": "MPe5ZfmL-7L_",
        "colab_type": "code",
        "outputId": "af1b479f-0816-482a-e860-fa6a0967918a",
        "colab": {
          "base_uri": "https://localhost:8080/",
          "height": 225
        }
      },
      "source": [
        "print(df_eco_raw.main_category.value_counts(dropna=True))"
      ],
      "execution_count": 48,
      "outputs": [
        {
          "output_type": "stream",
          "text": [
            "en:plant-based-foods-and-beverages    89295\n",
            "en:snacks                             53391\n",
            "en:beverages                          44609\n",
            "en:dairies                            39353\n",
            "en:meats                              32497\n",
            "                                      ...  \n",
            "it:it-legumi                              1\n",
            "es:sobao-de-mantequilla                   1\n",
            "es:queso-cortad                           1\n",
            "es:agua-sabores                           1\n",
            "fr:pizza-aux-fruits-de-mer                1\n",
            "Name: main_category, Length: 10389, dtype: int64\n"
          ],
          "name": "stdout"
        }
      ]
    },
    {
      "cell_type": "code",
      "metadata": {
        "id": "QYNVJpmSZ6dj",
        "colab_type": "code",
        "outputId": "f6d0c485-2e60-4a16-b4f8-9d403c71f41c",
        "colab": {
          "base_uri": "https://localhost:8080/",
          "height": 937
        }
      },
      "source": [
        "# many categories in the main_category section. Some containing only one product are not descriptive\n",
        "df_cat_count = pd.value_counts(df_eco_raw['main_category'].values, sort=True) # transform the counts in a database\n",
        "\n",
        "df_cat_count = df_cat_count.reset_index()\n",
        "df_cat_count.columns = ['main_category', 'count']\n",
        "df_cat_count = df_cat_count[df_cat_count['count'] > 100] # filter low counts\n",
        "print (df_cat_count)\n",
        "\n"
      ],
      "execution_count": 0,
      "outputs": [
        {
          "output_type": "stream",
          "text": [
            "                         main_category  count\n",
            "0   en:plant-based-foods-and-beverages  89004\n",
            "1                            en:snacks  53061\n",
            "2                         en:beverages  44496\n",
            "3                           en:dairies  39217\n",
            "4                             en:meats  32445\n",
            "5                         en:groceries  24389\n",
            "6                             en:meals  18132\n",
            "7                          en:desserts   7598\n",
            "8                           en:seafood   7448\n",
            "9                           en:spreads   7220\n",
            "10                     en:fruit-juices   6591\n",
            "11                     en:canned-foods   4876\n",
            "12                     en:frozen-foods   4190\n",
            "13               en:biscuits-and-cakes   3674\n",
            "14                       en:sweeteners   2538\n",
            "15              en:dietary-supplements   2138\n",
            "16                       en:breakfasts   2045\n",
            "17                       en:sandwiches   1814\n",
            "18                         en:vinegars   1807\n",
            "19                 en:farming-products   1693\n",
            "20           en:fish-and-meat-and-eggs   1670\n",
            "21                             en:fats   1655\n",
            "22                       en:baby-foods   1258\n",
            "23         en:fruit-juices-and-nectars   1237\n",
            "24                          en:pickles   1016\n",
            "25                             en:pies   1012\n",
            "26                           en:olives    848\n",
            "27                     en:green-olives    835\n",
            "28              en:crepes-and-galettes    807\n",
            "29                  en:cooking-helpers    748\n",
            "30                   en:food-additives    612\n",
            "31                en:non-food-products    565\n",
            "32                  en:chips-and-fries    503\n",
            "33      en:cocoa-and-chocolate-powders    347\n",
            "34                en:licensed-products    306\n",
            "35                           en:syrups    289\n",
            "36                         en:terrines    277\n",
            "37              es:bolleria-industrial    242\n",
            "38                   en:dried-products    240\n",
            "39                      en:fresh-foods    230\n",
            "40      fr:bloc-de-foie-gras-de-canard    220\n",
            "41                      en:pizza-dough    205\n",
            "42                    en:banana-crisps    193\n",
            "43                     en:whole-olives    188\n",
            "44                        en:fish-eggs    172\n",
            "45                           en:salads    170\n",
            "46                        fr:escalopes    164\n",
            "47                 fr:pilons-de-poulet    136\n",
            "48                        es:refrescos    117\n",
            "49       en:christmas-foods-and-drinks    113\n",
            "50                   fr:poulet-fermier    109\n",
            "51                 fr:bavette-d-aloyau    108\n"
          ],
          "name": "stdout"
        }
      ]
    },
    {
      "cell_type": "markdown",
      "metadata": {
        "id": "uhWX44V7k1_1",
        "colab_type": "text"
      },
      "source": [
        "main_category contains too many values. Some with very few entries and even among those that have more than 100 entries some don't correspond actually to a food category but rather to a product (escalopes, bavette d'aloyau...)"
      ]
    },
    {
      "cell_type": "markdown",
      "metadata": {
        "id": "ScHu_m4v-jPN",
        "colab_type": "text"
      },
      "source": [
        "To describe the food category the most informative column is pnns_groups_2. Even if a lot are labelled as unknown. "
      ]
    },
    {
      "cell_type": "markdown",
      "metadata": {
        "id": "VvaQ0UZcAFZ-",
        "colab_type": "text"
      },
      "source": [
        "# selection of variables that describe the nutritional quality"
      ]
    },
    {
      "cell_type": "markdown",
      "metadata": {
        "colab_type": "text",
        "id": "AByPtEe_DOTZ"
      },
      "source": [
        " And since the french food grade is inverse proportional to the score"
      ]
    },
    {
      "cell_type": "code",
      "metadata": {
        "id": "oQAp1jR4Jhak",
        "colab_type": "code",
        "outputId": "0c3e4ba3-228c-4744-ada4-aac92a664261",
        "colab": {
          "base_uri": "https://localhost:8080/",
          "height": 206
        }
      },
      "source": [
        "grades = ['nutrition_grade_fr','nutrition-score-fr_100g']\n",
        "df_food_grades = no_duplicates__food_data[grades] \n",
        "df_food_grades = df_food_grades.groupby(['nutrition_grade_fr']).mean()\n",
        "df_food_grades = df_food_grades.reset_index(level=0, inplace=False) # nutrition grade as first column\n",
        "df_food_grades\n"
      ],
      "execution_count": 49,
      "outputs": [
        {
          "output_type": "execute_result",
          "data": {
            "text/html": [
              "<div>\n",
              "<style scoped>\n",
              "    .dataframe tbody tr th:only-of-type {\n",
              "        vertical-align: middle;\n",
              "    }\n",
              "\n",
              "    .dataframe tbody tr th {\n",
              "        vertical-align: top;\n",
              "    }\n",
              "\n",
              "    .dataframe thead th {\n",
              "        text-align: right;\n",
              "    }\n",
              "</style>\n",
              "<table border=\"1\" class=\"dataframe\">\n",
              "  <thead>\n",
              "    <tr style=\"text-align: right;\">\n",
              "      <th></th>\n",
              "      <th>nutrition_grade_fr</th>\n",
              "      <th>nutrition-score-fr_100g</th>\n",
              "    </tr>\n",
              "  </thead>\n",
              "  <tbody>\n",
              "    <tr>\n",
              "      <th>0</th>\n",
              "      <td>a</td>\n",
              "      <td>-3.180331</td>\n",
              "    </tr>\n",
              "    <tr>\n",
              "      <th>1</th>\n",
              "      <td>b</td>\n",
              "      <td>0.845171</td>\n",
              "    </tr>\n",
              "    <tr>\n",
              "      <th>2</th>\n",
              "      <td>c</td>\n",
              "      <td>5.541373</td>\n",
              "    </tr>\n",
              "    <tr>\n",
              "      <th>3</th>\n",
              "      <td>d</td>\n",
              "      <td>13.839755</td>\n",
              "    </tr>\n",
              "    <tr>\n",
              "      <th>4</th>\n",
              "      <td>e</td>\n",
              "      <td>21.219651</td>\n",
              "    </tr>\n",
              "  </tbody>\n",
              "</table>\n",
              "</div>"
            ],
            "text/plain": [
              "  nutrition_grade_fr  nutrition-score-fr_100g\n",
              "0                  a                -3.180331\n",
              "1                  b                 0.845171\n",
              "2                  c                 5.541373\n",
              "3                  d                13.839755\n",
              "4                  e                21.219651"
            ]
          },
          "metadata": {
            "tags": []
          },
          "execution_count": 49
        }
      ]
    },
    {
      "cell_type": "markdown",
      "metadata": {
        "id": "s5cedCshEr5k",
        "colab_type": "text"
      },
      "source": [
        "based on the above table the two variables seem proportional. In the plot below it is clear that they are inverse proportional"
      ]
    },
    {
      "cell_type": "code",
      "metadata": {
        "id": "x1NdtQu_F9W1",
        "colab_type": "code",
        "outputId": "41064eb6-aa18-45d7-9f4a-44f66d07a007",
        "colab": {
          "base_uri": "https://localhost:8080/",
          "height": 385
        }
      },
      "source": [
        "import matplotlib.pyplot as plt\n",
        "plt.figure(figsize=(5,5))\n",
        "plt.scatter(df_food_grades['nutrition_grade_fr'],  df_food_grades['nutrition-score-fr_100g'])\n",
        "\n",
        "plt.xlabel('nutrition_grade_fr', color=\"red\", fontsize = 14)\n",
        "plt.ylabel('average nutrition_score_fr', color=\"red\", fontsize = 14)\n",
        "from google.colab import files\n",
        "plt.savefig(\" Nutrition grade.png\", format=\"PNG\")\n"
      ],
      "execution_count": 50,
      "outputs": [
        {
          "output_type": "display_data",
          "data": {
            "image/png": "[encoded data removed]",
            "text/plain": [
              "<Figure size 360x360 with 1 Axes>"
            ]
          },
          "metadata": {
            "tags": []
          }
        }
      ]
    },
    {
      "cell_type": "markdown",
      "metadata": {
        "id": "HWN0lN8VFejB",
        "colab_type": "text"
      },
      "source": [
        "To fit data of nutritional quality then rather than the average score, we can create a variable, with a value 'nutrition_av_grade_fr' directly proportional to the grade"
      ]
    },
    {
      "cell_type": "code",
      "metadata": {
        "id": "6O3m6UTln_GW",
        "colab_type": "code",
        "outputId": "4abf1c3f-0bec-4795-e950-7e1dfbb3acc6",
        "colab": {
          "base_uri": "https://localhost:8080/",
          "height": 206
        }
      },
      "source": [
        "df_food_grades['nutrition_grade_fr_n'] = 22 - df_food_grades['nutrition-score-fr_100g']\n",
        "df_food_grades = df_food_grades.round(0)\n",
        "df_food_grades.head()"
      ],
      "execution_count": 51,
      "outputs": [
        {
          "output_type": "execute_result",
          "data": {
            "text/html": [
              "<div>\n",
              "<style scoped>\n",
              "    .dataframe tbody tr th:only-of-type {\n",
              "        vertical-align: middle;\n",
              "    }\n",
              "\n",
              "    .dataframe tbody tr th {\n",
              "        vertical-align: top;\n",
              "    }\n",
              "\n",
              "    .dataframe thead th {\n",
              "        text-align: right;\n",
              "    }\n",
              "</style>\n",
              "<table border=\"1\" class=\"dataframe\">\n",
              "  <thead>\n",
              "    <tr style=\"text-align: right;\">\n",
              "      <th></th>\n",
              "      <th>nutrition_grade_fr</th>\n",
              "      <th>nutrition-score-fr_100g</th>\n",
              "      <th>nutrition_grade_fr_n</th>\n",
              "    </tr>\n",
              "  </thead>\n",
              "  <tbody>\n",
              "    <tr>\n",
              "      <th>0</th>\n",
              "      <td>a</td>\n",
              "      <td>-3.0</td>\n",
              "      <td>25.0</td>\n",
              "    </tr>\n",
              "    <tr>\n",
              "      <th>1</th>\n",
              "      <td>b</td>\n",
              "      <td>1.0</td>\n",
              "      <td>21.0</td>\n",
              "    </tr>\n",
              "    <tr>\n",
              "      <th>2</th>\n",
              "      <td>c</td>\n",
              "      <td>6.0</td>\n",
              "      <td>16.0</td>\n",
              "    </tr>\n",
              "    <tr>\n",
              "      <th>3</th>\n",
              "      <td>d</td>\n",
              "      <td>14.0</td>\n",
              "      <td>8.0</td>\n",
              "    </tr>\n",
              "    <tr>\n",
              "      <th>4</th>\n",
              "      <td>e</td>\n",
              "      <td>21.0</td>\n",
              "      <td>1.0</td>\n",
              "    </tr>\n",
              "  </tbody>\n",
              "</table>\n",
              "</div>"
            ],
            "text/plain": [
              "  nutrition_grade_fr  nutrition-score-fr_100g  nutrition_grade_fr_n\n",
              "0                  a                     -3.0                  25.0\n",
              "1                  b                      1.0                  21.0\n",
              "2                  c                      6.0                  16.0\n",
              "3                  d                     14.0                   8.0\n",
              "4                  e                     21.0                   1.0"
            ]
          },
          "metadata": {
            "tags": []
          },
          "execution_count": 51
        }
      ]
    },
    {
      "cell_type": "code",
      "metadata": {
        "id": "uFkKDUUkFyip",
        "colab_type": "code",
        "outputId": "3e497cf2-f622-4f14-a612-3e98c75844ed",
        "colab": {
          "base_uri": "https://localhost:8080/",
          "height": 385
        }
      },
      "source": [
        "plt.figure(figsize=(5,5))\n",
        "plt.scatter(df_food_grades['nutrition_grade_fr'],  df_food_grades['nutrition_grade_fr_n'])\n",
        "\n",
        "plt.xlabel('nutrition_grade_fr', color=\"red\", fontsize = 14)\n",
        "plt.ylabel('nutrition_av_grade_fr', color=\"red\", fontsize = 14)\n",
        "from google.colab import files\n",
        "plt.savefig(\" Nutrition grade 2.png\", format=\"PNG\")"
      ],
      "execution_count": 52,
      "outputs": [
        {
          "output_type": "display_data",
          "data": {
            "image/png": "[encoded data removed]",
            "text/plain": [
              "<Figure size 360x360 with 1 Axes>"
            ]
          },
          "metadata": {
            "tags": []
          }
        }
      ]
    },
    {
      "cell_type": "markdown",
      "metadata": {
        "id": "a-xL_BGppxcX",
        "colab_type": "text"
      },
      "source": [
        "Due to the way the score is calculated, the above numerical representation works better than a simple inverse of the nutritional score"
      ]
    },
    {
      "cell_type": "code",
      "metadata": {
        "id": "OawWZnyqfznA",
        "colab_type": "code",
        "outputId": "11e352db-6135-42c0-d1c6-88a70b1e36c7",
        "colab": {
          "base_uri": "https://localhost:8080/",
          "height": 507
        }
      },
      "source": [
        "no_duplicates__food_data['Nutritional quality 100g'] = 1/no_duplicates__food_data['nutrition-score-fr_100g'] # inverse of nutritional score\n",
        "plt.figure(figsize=(10,5))\n",
        "plt.scatter(no_duplicates__food_data['Nutritional quality 100g'], no_duplicates__food_data['nutrition-score-fr_100g'])\n",
        "plt.xlabel('quality', color=\"red\", fontsize = 14)\n",
        "plt.ylabel('Nutritional score', color=\"red\", fontsize = 14)"
      ],
      "execution_count": 53,
      "outputs": [
        {
          "output_type": "stream",
          "text": [
            "/usr/local/lib/python3.6/dist-packages/ipykernel_launcher.py:1: SettingWithCopyWarning: \n",
            "A value is trying to be set on a copy of a slice from a DataFrame.\n",
            "Try using .loc[row_indexer,col_indexer] = value instead\n",
            "\n",
            "See the caveats in the documentation: http://pandas.pydata.org/pandas-docs/stable/user_guide/indexing.html#returning-a-view-versus-a-copy\n",
            "  \"\"\"Entry point for launching an IPython kernel.\n"
          ],
          "name": "stderr"
        },
        {
          "output_type": "execute_result",
          "data": {
            "text/plain": [
              "Text(0, 0.5, 'Nutritional score')"
            ]
          },
          "metadata": {
            "tags": []
          },
          "execution_count": 53
        },
        {
          "output_type": "display_data",
          "data": {
            "image/png": "[encoded data removed]",
            "text/plain": [
              "<Figure size 720x360 with 1 Axes>"
            ]
          },
          "metadata": {
            "tags": []
          }
        }
      ]
    },
    {
      "cell_type": "markdown",
      "metadata": {
        "id": "7HTX-DIdJqH9",
        "colab_type": "text"
      },
      "source": [
        "We examine now the correlation of quality with nova grade, which indicates how much the food is processed"
      ]
    },
    {
      "cell_type": "code",
      "metadata": {
        "id": "BC18rVUAI6tD",
        "colab_type": "code",
        "outputId": "22a0fa1d-dd46-410d-e5b1-81e01c440614",
        "colab": {
          "base_uri": "https://localhost:8080/",
          "height": 121
        }
      },
      "source": [
        "# convert food grades into numbers based on the category average food score\n",
        "df_eco_raw ['nutrition_grade_fr_n'] = df_eco_raw ['nutrition_grade_fr']\n",
        "df_eco_raw  = df_eco_raw.replace({'nutrition_grade_fr_n': {'a': 25, 'b': 21, 'c': 16, 'd': 8, 'e':1}})"
      ],
      "execution_count": 54,
      "outputs": [
        {
          "output_type": "stream",
          "text": [
            "/usr/local/lib/python3.6/dist-packages/ipykernel_launcher.py:1: SettingWithCopyWarning: \n",
            "A value is trying to be set on a copy of a slice from a DataFrame.\n",
            "Try using .loc[row_indexer,col_indexer] = value instead\n",
            "\n",
            "See the caveats in the documentation: http://pandas.pydata.org/pandas-docs/stable/user_guide/indexing.html#returning-a-view-versus-a-copy\n",
            "  \"\"\"Entry point for launching an IPython kernel.\n"
          ],
          "name": "stderr"
        }
      ]
    },
    {
      "cell_type": "code",
      "metadata": {
        "id": "KnV3yiWbJrYw",
        "colab_type": "code",
        "outputId": "05ca9a3e-eb19-43b4-ac2c-302280458351",
        "colab": {
          "base_uri": "https://localhost:8080/",
          "height": 175
        }
      },
      "source": [
        "nova = ['nova_group','nutrition_grade_fr_n'] # how much is the food processed? nove class describes it\n",
        "df_food_nova = df_eco_raw[nova] \n",
        "df_food_nova = df_food_nova.groupby(['nova_group']).mean()\n",
        "df_food_nova = df_food_nova.reset_index(level=0, inplace=False) # gets nova class to the first column\n",
        "df_food_nova\n",
        "\n"
      ],
      "execution_count": 55,
      "outputs": [
        {
          "output_type": "execute_result",
          "data": {
            "text/html": [
              "<div>\n",
              "<style scoped>\n",
              "    .dataframe tbody tr th:only-of-type {\n",
              "        vertical-align: middle;\n",
              "    }\n",
              "\n",
              "    .dataframe tbody tr th {\n",
              "        vertical-align: top;\n",
              "    }\n",
              "\n",
              "    .dataframe thead th {\n",
              "        text-align: right;\n",
              "    }\n",
              "</style>\n",
              "<table border=\"1\" class=\"dataframe\">\n",
              "  <thead>\n",
              "    <tr style=\"text-align: right;\">\n",
              "      <th></th>\n",
              "      <th>nova_group</th>\n",
              "      <th>nutrition_grade_fr_n</th>\n",
              "    </tr>\n",
              "  </thead>\n",
              "  <tbody>\n",
              "    <tr>\n",
              "      <th>0</th>\n",
              "      <td>1.0</td>\n",
              "      <td>20.109302</td>\n",
              "    </tr>\n",
              "    <tr>\n",
              "      <th>1</th>\n",
              "      <td>2.0</td>\n",
              "      <td>9.206726</td>\n",
              "    </tr>\n",
              "    <tr>\n",
              "      <th>2</th>\n",
              "      <td>3.0</td>\n",
              "      <td>13.554466</td>\n",
              "    </tr>\n",
              "    <tr>\n",
              "      <th>3</th>\n",
              "      <td>4.0</td>\n",
              "      <td>11.115227</td>\n",
              "    </tr>\n",
              "  </tbody>\n",
              "</table>\n",
              "</div>"
            ],
            "text/plain": [
              "   nova_group  nutrition_grade_fr_n\n",
              "0         1.0             20.109302\n",
              "1         2.0              9.206726\n",
              "2         3.0             13.554466\n",
              "3         4.0             11.115227"
            ]
          },
          "metadata": {
            "tags": []
          },
          "execution_count": 55
        }
      ]
    },
    {
      "cell_type": "code",
      "metadata": {
        "id": "-DraZ1xyJW_5",
        "colab_type": "code",
        "outputId": "71394193-93c5-4422-a0ec-96668eca5f11",
        "colab": {
          "base_uri": "https://localhost:8080/",
          "height": 34
        }
      },
      "source": [
        "import numpy as np\n",
        "\n",
        "from sklearn import linear_model\n",
        "X0 = np.matrix([np.ones(df_food_nova.shape[0]),df_food_nova['nutrition_grade_fr_n'] ]).T\n",
        "y0 = np.matrix([df_food_nova['nova_group']]).T\n",
        "\n",
        "regr = linear_model.LinearRegression() \n",
        "regr.fit(X0, y0)\n",
        "y_pred = regr.predict(X0)\n",
        "accuracy0 = regr.score(X0, y0)\n",
        "print(accuracy0)"
      ],
      "execution_count": 56,
      "outputs": [
        {
          "output_type": "stream",
          "text": [
            "0.37778847846543884\n"
          ],
          "name": "stdout"
        }
      ]
    },
    {
      "cell_type": "code",
      "metadata": {
        "id": "2DH45t_MJ3tr",
        "colab_type": "code",
        "outputId": "4da6c65b-4e5f-474f-8821-fe2be2da4712",
        "colab": {
          "base_uri": "https://localhost:8080/",
          "height": 143
        }
      },
      "source": [
        "# without the outlier\n",
        "df_food_nova = df_food_nova.drop([1])\n",
        "df_food_nova"
      ],
      "execution_count": 57,
      "outputs": [
        {
          "output_type": "execute_result",
          "data": {
            "text/html": [
              "<div>\n",
              "<style scoped>\n",
              "    .dataframe tbody tr th:only-of-type {\n",
              "        vertical-align: middle;\n",
              "    }\n",
              "\n",
              "    .dataframe tbody tr th {\n",
              "        vertical-align: top;\n",
              "    }\n",
              "\n",
              "    .dataframe thead th {\n",
              "        text-align: right;\n",
              "    }\n",
              "</style>\n",
              "<table border=\"1\" class=\"dataframe\">\n",
              "  <thead>\n",
              "    <tr style=\"text-align: right;\">\n",
              "      <th></th>\n",
              "      <th>nova_group</th>\n",
              "      <th>nutrition_grade_fr_n</th>\n",
              "    </tr>\n",
              "  </thead>\n",
              "  <tbody>\n",
              "    <tr>\n",
              "      <th>0</th>\n",
              "      <td>1.0</td>\n",
              "      <td>20.109302</td>\n",
              "    </tr>\n",
              "    <tr>\n",
              "      <th>2</th>\n",
              "      <td>3.0</td>\n",
              "      <td>13.554466</td>\n",
              "    </tr>\n",
              "    <tr>\n",
              "      <th>3</th>\n",
              "      <td>4.0</td>\n",
              "      <td>11.115227</td>\n",
              "    </tr>\n",
              "  </tbody>\n",
              "</table>\n",
              "</div>"
            ],
            "text/plain": [
              "   nova_group  nutrition_grade_fr_n\n",
              "0         1.0             20.109302\n",
              "2         3.0             13.554466\n",
              "3         4.0             11.115227"
            ]
          },
          "metadata": {
            "tags": []
          },
          "execution_count": 57
        }
      ]
    },
    {
      "cell_type": "code",
      "metadata": {
        "id": "S990vvD2KTfc",
        "colab_type": "code",
        "outputId": "9078fd95-8e54-4011-e5ba-b16d01000859",
        "colab": {
          "base_uri": "https://localhost:8080/",
          "height": 34
        }
      },
      "source": [
        "X0 = np.matrix([np.ones(df_food_nova.shape[0]),df_food_nova['nutrition_grade_fr_n'] ]).T\n",
        "y0 = np.matrix([df_food_nova['nova_group']]).T\n",
        "\n",
        "regr = linear_model.LinearRegression() \n",
        "regr.fit(X0, y0)\n",
        "y_pred = regr.predict(X0)\n",
        "accuracy0 = regr.score(X0, y0)\n",
        "print(accuracy0)"
      ],
      "execution_count": 58,
      "outputs": [
        {
          "output_type": "stream",
          "text": [
            "0.995361035225485\n"
          ],
          "name": "stdout"
        }
      ]
    },
    {
      "cell_type": "code",
      "metadata": {
        "id": "Q6TPTSVWJTY9",
        "colab_type": "code",
        "outputId": "0ca8d074-d478-4692-babc-eedaa8ad96b6",
        "colab": {
          "base_uri": "https://localhost:8080/",
          "height": 385
        }
      },
      "source": [
        "plt.figure(figsize=(10,5))\n",
        "plt.scatter(df_food_nova['nutrition_grade_fr_n'], df_food_nova['nova_group'])\n",
        "plt.plot(df_food_nova['nutrition_grade_fr_n'],y_pred, color = 'tomato' )\n",
        "plt.xlabel('Nutritional grade', color=\"red\", fontsize = 14)\n",
        "plt.ylabel('Food nova group - how much is it processed', color=\"red\", fontsize = 14)\n",
        "from google.colab import files\n",
        "plt.savefig(\"processed score.png\", format=\"PNG\")"
      ],
      "execution_count": 59,
      "outputs": [
        {
          "output_type": "display_data",
          "data": {
            "image/png": "[encoded data removed]",
            "text/plain": [
              "<Figure size 720x360 with 1 Axes>"
            ]
          },
          "metadata": {
            "tags": []
          }
        }
      ]
    },
    {
      "cell_type": "code",
      "metadata": {
        "id": "3QF16GWig5KE",
        "colab_type": "code",
        "outputId": "2cf75e58-e7ba-4bad-c7bb-a630762b9a2e",
        "colab": {
          "base_uri": "https://localhost:8080/",
          "height": 34
        }
      },
      "source": [
        "eco_all = ['product_name','nutrition_grade_fr','nutrition_grade_fr_n', 'pnns_groups_2' , 'carbon-footprint_100g', 'carbon-footprint-from-meat-or-fish_100g', 'ingredients_from_palm_oil_n', 'ingredients_that_may_be_from_palm_oil_n']\n",
        "df_eco_all = df_eco_raw[eco_all]\n",
        "df_eco_all = df_eco_all.sort_values(by=['carbon-footprint_100g'], ascending=False) \n",
        "df_eco_all[:-10] # the first 10 rows of the dataframe after elimination of redundant columns\n",
        "print(df_eco_all.shape)"
      ],
      "execution_count": 66,
      "outputs": [
        {
          "output_type": "stream",
          "text": [
            "(1062806, 8)\n"
          ],
          "name": "stdout"
        }
      ]
    },
    {
      "cell_type": "markdown",
      "metadata": {
        "id": "zoip9E2ZASX3",
        "colab_type": "text"
      },
      "source": [
        "# selection of variables that describe the environmental impact"
      ]
    },
    {
      "cell_type": "code",
      "metadata": {
        "id": "Hrxx-ItVg43l",
        "colab_type": "code",
        "outputId": "41000558-990e-47d9-b8d5-1c675aa644d3",
        "colab": {
          "base_uri": "https://localhost:8080/",
          "height": 624
        }
      },
      "source": [
        "# lots of empty cells in the column 'carbon-footprint' and 'carbon-footprint-from-meat-or-fish_100g'. \n",
        "# Dropping for both limits the database to 10 rows only\n",
        "df_eco_all_noNan = df_eco_all.dropna(subset=['carbon-footprint-from-meat-or-fish_100g', 'carbon-footprint_100g'])\n",
        "df_eco_all_noNan = df_eco_all_noNan.sort_values(by=['carbon-footprint-from-meat-or-fish_100g'], ascending=False)\n",
        "# After eliminating them we can see the relationship of this and the rest of the database\n",
        "df_eco_all_noNan \n"
      ],
      "execution_count": 67,
      "outputs": [
        {
          "output_type": "execute_result",
          "data": {
            "text/html": [
              "<div>\n",
              "<style scoped>\n",
              "    .dataframe tbody tr th:only-of-type {\n",
              "        vertical-align: middle;\n",
              "    }\n",
              "\n",
              "    .dataframe tbody tr th {\n",
              "        vertical-align: top;\n",
              "    }\n",
              "\n",
              "    .dataframe thead th {\n",
              "        text-align: right;\n",
              "    }\n",
              "</style>\n",
              "<table border=\"1\" class=\"dataframe\">\n",
              "  <thead>\n",
              "    <tr style=\"text-align: right;\">\n",
              "      <th></th>\n",
              "      <th>product_name</th>\n",
              "      <th>nutrition_grade_fr</th>\n",
              "      <th>nutrition_grade_fr_n</th>\n",
              "      <th>pnns_groups_2</th>\n",
              "      <th>carbon-footprint_100g</th>\n",
              "      <th>carbon-footprint-from-meat-or-fish_100g</th>\n",
              "      <th>ingredients_from_palm_oil_n</th>\n",
              "      <th>ingredients_that_may_be_from_palm_oil_n</th>\n",
              "    </tr>\n",
              "  </thead>\n",
              "  <tbody>\n",
              "    <tr>\n",
              "      <th>387907</th>\n",
              "      <td>Bœuf Bourguignon et ses Tagliatelles</td>\n",
              "      <td>c</td>\n",
              "      <td>16.0</td>\n",
              "      <td>one-dish meals</td>\n",
              "      <td>770.0</td>\n",
              "      <td>2899.80</td>\n",
              "      <td>0.0</td>\n",
              "      <td>0.0</td>\n",
              "    </tr>\n",
              "    <tr>\n",
              "      <th>385965</th>\n",
              "      <td>Saucisson à l'ail pur porc nature</td>\n",
              "      <td>d</td>\n",
              "      <td>8.0</td>\n",
              "      <td>processed meat</td>\n",
              "      <td>840.0</td>\n",
              "      <td>710.40</td>\n",
              "      <td>0.0</td>\n",
              "      <td>0.0</td>\n",
              "    </tr>\n",
              "    <tr>\n",
              "      <th>387458</th>\n",
              "      <td>Saucisses de Francfort</td>\n",
              "      <td>e</td>\n",
              "      <td>1.0</td>\n",
              "      <td>processed meat</td>\n",
              "      <td>825.0</td>\n",
              "      <td>592.00</td>\n",
              "      <td>0.0</td>\n",
              "      <td>0.0</td>\n",
              "    </tr>\n",
              "    <tr>\n",
              "      <th>386960</th>\n",
              "      <td>Mini Knacks</td>\n",
              "      <td>d</td>\n",
              "      <td>8.0</td>\n",
              "      <td>processed meat</td>\n",
              "      <td>835.0</td>\n",
              "      <td>547.60</td>\n",
              "      <td>0.0</td>\n",
              "      <td>0.0</td>\n",
              "    </tr>\n",
              "    <tr>\n",
              "      <th>387710</th>\n",
              "      <td>Filet de Poulet tranché, cuit au four, nature</td>\n",
              "      <td>b</td>\n",
              "      <td>21.0</td>\n",
              "      <td>meat</td>\n",
              "      <td>855.0</td>\n",
              "      <td>394.45</td>\n",
              "      <td>0.0</td>\n",
              "      <td>0.0</td>\n",
              "    </tr>\n",
              "    <tr>\n",
              "      <th>778407</th>\n",
              "      <td>Salade De Saumon</td>\n",
              "      <td>d</td>\n",
              "      <td>8.0</td>\n",
              "      <td>one-dish meals</td>\n",
              "      <td>0.0</td>\n",
              "      <td>132.00</td>\n",
              "      <td>0.0</td>\n",
              "      <td>0.0</td>\n",
              "    </tr>\n",
              "    <tr>\n",
              "      <th>387918</th>\n",
              "      <td>Quiche saumon bocolis</td>\n",
              "      <td>d</td>\n",
              "      <td>8.0</td>\n",
              "      <td>pizza pies and quiches</td>\n",
              "      <td>660.0</td>\n",
              "      <td>125.45</td>\n",
              "      <td>0.0</td>\n",
              "      <td>0.0</td>\n",
              "    </tr>\n",
              "    <tr>\n",
              "      <th>388032</th>\n",
              "      <td>Aiguillettes de poulet, sauce normande et son riz</td>\n",
              "      <td>b</td>\n",
              "      <td>21.0</td>\n",
              "      <td>one-dish meals</td>\n",
              "      <td>495.0</td>\n",
              "      <td>117.60</td>\n",
              "      <td>0.0</td>\n",
              "      <td>0.0</td>\n",
              "    </tr>\n",
              "    <tr>\n",
              "      <th>387607</th>\n",
              "      <td>Lasagnes aux 2 saumons et aux petits légumes</td>\n",
              "      <td>b</td>\n",
              "      <td>21.0</td>\n",
              "      <td>one-dish meals</td>\n",
              "      <td>430.0</td>\n",
              "      <td>81.85</td>\n",
              "      <td>0.0</td>\n",
              "      <td>0.0</td>\n",
              "    </tr>\n",
              "    <tr>\n",
              "      <th>487117</th>\n",
              "      <td>Hachis Parmentier</td>\n",
              "      <td>b</td>\n",
              "      <td>21.0</td>\n",
              "      <td>one-dish meals</td>\n",
              "      <td>0.0</td>\n",
              "      <td>77.90</td>\n",
              "      <td>0.0</td>\n",
              "      <td>0.0</td>\n",
              "    </tr>\n",
              "  </tbody>\n",
              "</table>\n",
              "</div>"
            ],
            "text/plain": [
              "                                             product_name  ... ingredients_that_may_be_from_palm_oil_n\n",
              "387907               Bœuf Bourguignon et ses Tagliatelles  ...                                     0.0\n",
              "385965                  Saucisson à l'ail pur porc nature  ...                                     0.0\n",
              "387458                             Saucisses de Francfort  ...                                     0.0\n",
              "386960                                        Mini Knacks  ...                                     0.0\n",
              "387710      Filet de Poulet tranché, cuit au four, nature  ...                                     0.0\n",
              "778407                                   Salade De Saumon  ...                                     0.0\n",
              "387918                              Quiche saumon bocolis  ...                                     0.0\n",
              "388032  Aiguillettes de poulet, sauce normande et son riz  ...                                     0.0\n",
              "387607       Lasagnes aux 2 saumons et aux petits légumes  ...                                     0.0\n",
              "487117                                  Hachis Parmentier  ...                                     0.0\n",
              "\n",
              "[10 rows x 8 columns]"
            ]
          },
          "metadata": {
            "tags": []
          },
          "execution_count": 67
        }
      ]
    },
    {
      "cell_type": "code",
      "metadata": {
        "id": "_ixNAr3Qy9Xg",
        "colab_type": "code",
        "outputId": "16c72703-ac2c-4d40-c24a-73e10103a772",
        "colab": {
          "base_uri": "https://localhost:8080/",
          "height": 206
        }
      },
      "source": [
        "# It can be observed from the above table that carbon-footprint-from-meat-or-fish_100g \tis not really informative\n",
        "# specific only to those 10 products, so also this category can be eliminated for statistical treatment\n",
        "\n",
        "\n",
        "df_eco = df_eco_all.drop(columns=['carbon-footprint-from-meat-or-fish_100g'])\n",
        "df_eco.head()\n"
      ],
      "execution_count": 155,
      "outputs": [
        {
          "output_type": "execute_result",
          "data": {
            "text/html": [
              "<div>\n",
              "<style scoped>\n",
              "    .dataframe tbody tr th:only-of-type {\n",
              "        vertical-align: middle;\n",
              "    }\n",
              "\n",
              "    .dataframe tbody tr th {\n",
              "        vertical-align: top;\n",
              "    }\n",
              "\n",
              "    .dataframe thead th {\n",
              "        text-align: right;\n",
              "    }\n",
              "</style>\n",
              "<table border=\"1\" class=\"dataframe\">\n",
              "  <thead>\n",
              "    <tr style=\"text-align: right;\">\n",
              "      <th></th>\n",
              "      <th>product_name</th>\n",
              "      <th>nutrition_grade_fr</th>\n",
              "      <th>nutrition_grade_fr_n</th>\n",
              "      <th>pnns_groups_2</th>\n",
              "      <th>carbon-footprint_100g</th>\n",
              "      <th>ingredients_from_palm_oil_n</th>\n",
              "      <th>ingredients_that_may_be_from_palm_oil_n</th>\n",
              "    </tr>\n",
              "  </thead>\n",
              "  <tbody>\n",
              "    <tr>\n",
              "      <th>864103</th>\n",
              "      <td>Suprême Noir Authentique</td>\n",
              "      <td>d</td>\n",
              "      <td>8.0</td>\n",
              "      <td>chocolate products</td>\n",
              "      <td>2842.0</td>\n",
              "      <td>0.0</td>\n",
              "      <td>0.0</td>\n",
              "    </tr>\n",
              "    <tr>\n",
              "      <th>385930</th>\n",
              "      <td>Viande des grisons</td>\n",
              "      <td>d</td>\n",
              "      <td>8.0</td>\n",
              "      <td>meat</td>\n",
              "      <td>2520.0</td>\n",
              "      <td>0.0</td>\n",
              "      <td>0.0</td>\n",
              "    </tr>\n",
              "    <tr>\n",
              "      <th>387890</th>\n",
              "      <td>Saucisson sec</td>\n",
              "      <td>e</td>\n",
              "      <td>1.0</td>\n",
              "      <td>processed meat</td>\n",
              "      <td>2380.0</td>\n",
              "      <td>0.0</td>\n",
              "      <td>0.0</td>\n",
              "    </tr>\n",
              "    <tr>\n",
              "      <th>856359</th>\n",
              "      <td>Chocolat blanc</td>\n",
              "      <td>e</td>\n",
              "      <td>1.0</td>\n",
              "      <td>chocolate products</td>\n",
              "      <td>1440.0</td>\n",
              "      <td>0.0</td>\n",
              "      <td>0.0</td>\n",
              "    </tr>\n",
              "    <tr>\n",
              "      <th>856360</th>\n",
              "      <td>Chocolat au lait</td>\n",
              "      <td>e</td>\n",
              "      <td>1.0</td>\n",
              "      <td>chocolate products</td>\n",
              "      <td>1321.0</td>\n",
              "      <td>0.0</td>\n",
              "      <td>0.0</td>\n",
              "    </tr>\n",
              "  </tbody>\n",
              "</table>\n",
              "</div>"
            ],
            "text/plain": [
              "                    product_name  ... ingredients_that_may_be_from_palm_oil_n\n",
              "864103  Suprême Noir Authentique  ...                                     0.0\n",
              "385930        Viande des grisons  ...                                     0.0\n",
              "387890             Saucisson sec  ...                                     0.0\n",
              "856359            Chocolat blanc  ...                                     0.0\n",
              "856360         Chocolat au lait   ...                                     0.0\n",
              "\n",
              "[5 rows x 7 columns]"
            ]
          },
          "metadata": {
            "tags": []
          },
          "execution_count": 155
        }
      ]
    },
    {
      "cell_type": "code",
      "metadata": {
        "id": "1riGdRNbzmCi",
        "colab_type": "code",
        "colab": {
          "base_uri": "https://localhost:8080/",
          "height": 206
        },
        "outputId": "3e38ce42-d8f7-4929-f861-28e3d43df55b"
      },
      "source": [
        "palmoil = ['ingredients_from_palm_oil_n', 'ingredients_that_may_be_from_palm_oil_n']\n",
        "df_palm = df_eco_all[palmoil]\n",
        "df_palm = df_palm.dropna()\n",
        "df_palm = df_palm.sort_values(by=['ingredients_from_palm_oil_n'], ascending=False)\n",
        "df_palm.head()"
      ],
      "execution_count": 63,
      "outputs": [
        {
          "output_type": "execute_result",
          "data": {
            "text/html": [
              "<div>\n",
              "<style scoped>\n",
              "    .dataframe tbody tr th:only-of-type {\n",
              "        vertical-align: middle;\n",
              "    }\n",
              "\n",
              "    .dataframe tbody tr th {\n",
              "        vertical-align: top;\n",
              "    }\n",
              "\n",
              "    .dataframe thead th {\n",
              "        text-align: right;\n",
              "    }\n",
              "</style>\n",
              "<table border=\"1\" class=\"dataframe\">\n",
              "  <thead>\n",
              "    <tr style=\"text-align: right;\">\n",
              "      <th></th>\n",
              "      <th>ingredients_from_palm_oil_n</th>\n",
              "      <th>ingredients_that_may_be_from_palm_oil_n</th>\n",
              "    </tr>\n",
              "  </thead>\n",
              "  <tbody>\n",
              "    <tr>\n",
              "      <th>16320</th>\n",
              "      <td>3.0</td>\n",
              "      <td>2.0</td>\n",
              "    </tr>\n",
              "    <tr>\n",
              "      <th>742160</th>\n",
              "      <td>2.0</td>\n",
              "      <td>0.0</td>\n",
              "    </tr>\n",
              "    <tr>\n",
              "      <th>744426</th>\n",
              "      <td>2.0</td>\n",
              "      <td>0.0</td>\n",
              "    </tr>\n",
              "    <tr>\n",
              "      <th>503554</th>\n",
              "      <td>2.0</td>\n",
              "      <td>0.0</td>\n",
              "    </tr>\n",
              "    <tr>\n",
              "      <th>1023565</th>\n",
              "      <td>2.0</td>\n",
              "      <td>0.0</td>\n",
              "    </tr>\n",
              "  </tbody>\n",
              "</table>\n",
              "</div>"
            ],
            "text/plain": [
              "         ingredients_from_palm_oil_n  ingredients_that_may_be_from_palm_oil_n\n",
              "16320                            3.0                                      2.0\n",
              "742160                           2.0                                      0.0\n",
              "744426                           2.0                                      0.0\n",
              "503554                           2.0                                      0.0\n",
              "1023565                          2.0                                      0.0"
            ]
          },
          "metadata": {
            "tags": []
          },
          "execution_count": 63
        }
      ]
    },
    {
      "cell_type": "markdown",
      "metadata": {
        "id": "qP6TDFX3A0e6",
        "colab_type": "text"
      },
      "source": [
        "While we don't consider the carbon footprint specific from meat and fish, both variables related to palm oil are kept since information for each is distinct"
      ]
    },
    {
      "cell_type": "markdown",
      "metadata": {
        "id": "qOTPenW0tPnQ",
        "colab_type": "text"
      },
      "source": [
        "#Stats and outliers final check"
      ]
    },
    {
      "cell_type": "code",
      "metadata": {
        "id": "Fc_tgURRvWt4",
        "colab_type": "code",
        "colab": {
          "base_uri": "https://localhost:8080/",
          "height": 300
        },
        "outputId": "03cbd065-4505-4cfc-c631-d00733ea38f5"
      },
      "source": [
        "numeric = ['ingredients_from_palm_oil_n', 'ingredients_that_may_be_from_palm_oil_n', 'carbon-footprint_100g']\n",
        "df_n = df_eco[numeric]\n",
        "df_n.head()\n",
        "stats = df_n.describe()\n",
        "stats.to_csv('stat.csv')\n",
        "stats"
      ],
      "execution_count": 156,
      "outputs": [
        {
          "output_type": "execute_result",
          "data": {
            "text/html": [
              "<div>\n",
              "<style scoped>\n",
              "    .dataframe tbody tr th:only-of-type {\n",
              "        vertical-align: middle;\n",
              "    }\n",
              "\n",
              "    .dataframe tbody tr th {\n",
              "        vertical-align: top;\n",
              "    }\n",
              "\n",
              "    .dataframe thead th {\n",
              "        text-align: right;\n",
              "    }\n",
              "</style>\n",
              "<table border=\"1\" class=\"dataframe\">\n",
              "  <thead>\n",
              "    <tr style=\"text-align: right;\">\n",
              "      <th></th>\n",
              "      <th>ingredients_from_palm_oil_n</th>\n",
              "      <th>ingredients_that_may_be_from_palm_oil_n</th>\n",
              "      <th>carbon-footprint_100g</th>\n",
              "    </tr>\n",
              "  </thead>\n",
              "  <tbody>\n",
              "    <tr>\n",
              "      <th>count</th>\n",
              "      <td>453482.000000</td>\n",
              "      <td>453482.000000</td>\n",
              "      <td>406.000000</td>\n",
              "    </tr>\n",
              "    <tr>\n",
              "      <th>mean</th>\n",
              "      <td>0.027134</td>\n",
              "      <td>0.071990</td>\n",
              "      <td>230.972698</td>\n",
              "    </tr>\n",
              "    <tr>\n",
              "      <th>std</th>\n",
              "      <td>0.164418</td>\n",
              "      <td>0.317007</td>\n",
              "      <td>363.447329</td>\n",
              "    </tr>\n",
              "    <tr>\n",
              "      <th>min</th>\n",
              "      <td>0.000000</td>\n",
              "      <td>0.000000</td>\n",
              "      <td>-0.000281</td>\n",
              "    </tr>\n",
              "    <tr>\n",
              "      <th>25%</th>\n",
              "      <td>0.000000</td>\n",
              "      <td>0.000000</td>\n",
              "      <td>0.000000</td>\n",
              "    </tr>\n",
              "    <tr>\n",
              "      <th>50%</th>\n",
              "      <td>0.000000</td>\n",
              "      <td>0.000000</td>\n",
              "      <td>109.400000</td>\n",
              "    </tr>\n",
              "    <tr>\n",
              "      <th>75%</th>\n",
              "      <td>0.000000</td>\n",
              "      <td>0.000000</td>\n",
              "      <td>293.225000</td>\n",
              "    </tr>\n",
              "    <tr>\n",
              "      <th>max</th>\n",
              "      <td>3.000000</td>\n",
              "      <td>6.000000</td>\n",
              "      <td>2842.000000</td>\n",
              "    </tr>\n",
              "  </tbody>\n",
              "</table>\n",
              "</div>"
            ],
            "text/plain": [
              "       ingredients_from_palm_oil_n  ...  carbon-footprint_100g\n",
              "count                453482.000000  ...             406.000000\n",
              "mean                      0.027134  ...             230.972698\n",
              "std                       0.164418  ...             363.447329\n",
              "min                       0.000000  ...              -0.000281\n",
              "25%                       0.000000  ...               0.000000\n",
              "50%                       0.000000  ...             109.400000\n",
              "75%                       0.000000  ...             293.225000\n",
              "max                       3.000000  ...            2842.000000\n",
              "\n",
              "[8 rows x 3 columns]"
            ]
          },
          "metadata": {
            "tags": []
          },
          "execution_count": 156
        }
      ]
    },
    {
      "cell_type": "markdown",
      "metadata": {
        "id": "Xi_9sU3rMd1q",
        "colab_type": "text"
      },
      "source": [
        "the minimum value of carbon footprint is negative... rather unrealistic isn't it?"
      ]
    },
    {
      "cell_type": "code",
      "metadata": {
        "id": "E3a6AialTVsS",
        "colab_type": "code",
        "colab": {}
      },
      "source": [
        ""
      ],
      "execution_count": 0,
      "outputs": []
    },
    {
      "cell_type": "code",
      "metadata": {
        "id": "dzq1TzU9wgdl",
        "colab_type": "code",
        "colab": {
          "base_uri": "https://localhost:8080/",
          "height": 300
        },
        "outputId": "f7579be2-c43b-4be4-8bfb-19e18a36a8cf"
      },
      "source": [
        "\n",
        "df_carbon = df_eco[df_eco['carbon-footprint_100g'] > 10] # filter unrealistic values\n",
        "df_n = df_carbon[numeric]\n",
        "df_n.describe() # have a look if now stats look reasonable"
      ],
      "execution_count": 162,
      "outputs": [
        {
          "output_type": "execute_result",
          "data": {
            "text/html": [
              "<div>\n",
              "<style scoped>\n",
              "    .dataframe tbody tr th:only-of-type {\n",
              "        vertical-align: middle;\n",
              "    }\n",
              "\n",
              "    .dataframe tbody tr th {\n",
              "        vertical-align: top;\n",
              "    }\n",
              "\n",
              "    .dataframe thead th {\n",
              "        text-align: right;\n",
              "    }\n",
              "</style>\n",
              "<table border=\"1\" class=\"dataframe\">\n",
              "  <thead>\n",
              "    <tr style=\"text-align: right;\">\n",
              "      <th></th>\n",
              "      <th>ingredients_from_palm_oil_n</th>\n",
              "      <th>ingredients_that_may_be_from_palm_oil_n</th>\n",
              "      <th>carbon-footprint_100g</th>\n",
              "    </tr>\n",
              "  </thead>\n",
              "  <tbody>\n",
              "    <tr>\n",
              "      <th>count</th>\n",
              "      <td>242.000000</td>\n",
              "      <td>242.000000</td>\n",
              "      <td>260.000000</td>\n",
              "    </tr>\n",
              "    <tr>\n",
              "      <th>mean</th>\n",
              "      <td>0.024793</td>\n",
              "      <td>0.061983</td>\n",
              "      <td>360.366172</td>\n",
              "    </tr>\n",
              "    <tr>\n",
              "      <th>std</th>\n",
              "      <td>0.155817</td>\n",
              "      <td>0.288581</td>\n",
              "      <td>399.770300</td>\n",
              "    </tr>\n",
              "    <tr>\n",
              "      <th>min</th>\n",
              "      <td>0.000000</td>\n",
              "      <td>0.000000</td>\n",
              "      <td>12.000000</td>\n",
              "    </tr>\n",
              "    <tr>\n",
              "      <th>25%</th>\n",
              "      <td>0.000000</td>\n",
              "      <td>0.000000</td>\n",
              "      <td>124.750000</td>\n",
              "    </tr>\n",
              "    <tr>\n",
              "      <th>50%</th>\n",
              "      <td>0.000000</td>\n",
              "      <td>0.000000</td>\n",
              "      <td>203.430000</td>\n",
              "    </tr>\n",
              "    <tr>\n",
              "      <th>75%</th>\n",
              "      <td>0.000000</td>\n",
              "      <td>0.000000</td>\n",
              "      <td>418.550000</td>\n",
              "    </tr>\n",
              "    <tr>\n",
              "      <th>max</th>\n",
              "      <td>1.000000</td>\n",
              "      <td>2.000000</td>\n",
              "      <td>2842.000000</td>\n",
              "    </tr>\n",
              "  </tbody>\n",
              "</table>\n",
              "</div>"
            ],
            "text/plain": [
              "       ingredients_from_palm_oil_n  ...  carbon-footprint_100g\n",
              "count                   242.000000  ...             260.000000\n",
              "mean                      0.024793  ...             360.366172\n",
              "std                       0.155817  ...             399.770300\n",
              "min                       0.000000  ...              12.000000\n",
              "25%                       0.000000  ...             124.750000\n",
              "50%                       0.000000  ...             203.430000\n",
              "75%                       0.000000  ...             418.550000\n",
              "max                       1.000000  ...            2842.000000\n",
              "\n",
              "[8 rows x 3 columns]"
            ]
          },
          "metadata": {
            "tags": []
          },
          "execution_count": 162
        }
      ]
    },
    {
      "cell_type": "markdown",
      "metadata": {
        "id": "yJM7uLHVseT2",
        "colab_type": "text"
      },
      "source": [
        "Finally we can export clean data relevant to our study into a new csv file, easy to import since is 50MB vs. 1.4GB for the whole data)"
      ]
    },
    {
      "cell_type": "code",
      "metadata": {
        "id": "uo-BGER3Ug5Z",
        "colab_type": "code",
        "colab": {
          "base_uri": "https://localhost:8080/",
          "height": 424
        },
        "outputId": "b998e4c5-3eed-41a9-87aa-3f09c09bf437"
      },
      "source": [
        "df_scaled =((df_n-df_n.min())/(df_n.max()-df_n.min()))*10\n",
        "df_scaled = df_scaled.rename(columns={'ingredients_from_palm_oil_n': \"palm_oil\", 'ingredients_that_may_be_from_palm_oil_n': \"palm oil?\", 'carbon-footprint_100g': \"CO2\"})\n",
        "df_scaled"
      ],
      "execution_count": 168,
      "outputs": [
        {
          "output_type": "execute_result",
          "data": {
            "text/html": [
              "<div>\n",
              "<style scoped>\n",
              "    .dataframe tbody tr th:only-of-type {\n",
              "        vertical-align: middle;\n",
              "    }\n",
              "\n",
              "    .dataframe tbody tr th {\n",
              "        vertical-align: top;\n",
              "    }\n",
              "\n",
              "    .dataframe thead th {\n",
              "        text-align: right;\n",
              "    }\n",
              "</style>\n",
              "<table border=\"1\" class=\"dataframe\">\n",
              "  <thead>\n",
              "    <tr style=\"text-align: right;\">\n",
              "      <th></th>\n",
              "      <th>palm_oil</th>\n",
              "      <th>palm oil?</th>\n",
              "      <th>CO2</th>\n",
              "    </tr>\n",
              "  </thead>\n",
              "  <tbody>\n",
              "    <tr>\n",
              "      <th>864103</th>\n",
              "      <td>0.0</td>\n",
              "      <td>0.0</td>\n",
              "      <td>10.000000</td>\n",
              "    </tr>\n",
              "    <tr>\n",
              "      <th>385930</th>\n",
              "      <td>0.0</td>\n",
              "      <td>0.0</td>\n",
              "      <td>8.862191</td>\n",
              "    </tr>\n",
              "    <tr>\n",
              "      <th>387890</th>\n",
              "      <td>0.0</td>\n",
              "      <td>0.0</td>\n",
              "      <td>8.367491</td>\n",
              "    </tr>\n",
              "    <tr>\n",
              "      <th>856359</th>\n",
              "      <td>0.0</td>\n",
              "      <td>0.0</td>\n",
              "      <td>5.045936</td>\n",
              "    </tr>\n",
              "    <tr>\n",
              "      <th>856360</th>\n",
              "      <td>0.0</td>\n",
              "      <td>0.0</td>\n",
              "      <td>4.625442</td>\n",
              "    </tr>\n",
              "    <tr>\n",
              "      <th>...</th>\n",
              "      <td>...</td>\n",
              "      <td>...</td>\n",
              "      <td>...</td>\n",
              "    </tr>\n",
              "    <tr>\n",
              "      <th>669867</th>\n",
              "      <td>0.0</td>\n",
              "      <td>0.0</td>\n",
              "      <td>0.017668</td>\n",
              "    </tr>\n",
              "    <tr>\n",
              "      <th>387187</th>\n",
              "      <td>0.0</td>\n",
              "      <td>0.0</td>\n",
              "      <td>0.008127</td>\n",
              "    </tr>\n",
              "    <tr>\n",
              "      <th>386078</th>\n",
              "      <td>0.0</td>\n",
              "      <td>0.0</td>\n",
              "      <td>0.006360</td>\n",
              "    </tr>\n",
              "    <tr>\n",
              "      <th>252297</th>\n",
              "      <td>NaN</td>\n",
              "      <td>NaN</td>\n",
              "      <td>0.000000</td>\n",
              "    </tr>\n",
              "    <tr>\n",
              "      <th>914464</th>\n",
              "      <td>NaN</td>\n",
              "      <td>NaN</td>\n",
              "      <td>0.000000</td>\n",
              "    </tr>\n",
              "  </tbody>\n",
              "</table>\n",
              "<p>260 rows × 3 columns</p>\n",
              "</div>"
            ],
            "text/plain": [
              "        palm_oil  palm oil?        CO2\n",
              "864103       0.0        0.0  10.000000\n",
              "385930       0.0        0.0   8.862191\n",
              "387890       0.0        0.0   8.367491\n",
              "856359       0.0        0.0   5.045936\n",
              "856360       0.0        0.0   4.625442\n",
              "...          ...        ...        ...\n",
              "669867       0.0        0.0   0.017668\n",
              "387187       0.0        0.0   0.008127\n",
              "386078       0.0        0.0   0.006360\n",
              "252297       NaN        NaN   0.000000\n",
              "914464       NaN        NaN   0.000000\n",
              "\n",
              "[260 rows x 3 columns]"
            ]
          },
          "metadata": {
            "tags": []
          },
          "execution_count": 168
        }
      ]
    },
    {
      "cell_type": "code",
      "metadata": {
        "id": "CZsxHNu2X2Ed",
        "colab_type": "code",
        "colab": {
          "base_uri": "https://localhost:8080/",
          "height": 313
        },
        "outputId": "ee29603c-68c0-42f8-808b-b2352496d74a"
      },
      "source": [
        "import seaborn as sns\n",
        "%matplotlib inline\n",
        "box_plot_scaled = sns.boxplot( data= df_scaled)\n",
        "fig = box_plot_scaled.get_figure()\n",
        "plt.ylabel(\"Scaled values\")\n",
        "fig.savefig(\"box.png\", dpi= 100)"
      ],
      "execution_count": 171,
      "outputs": [
        {
          "output_type": "display_data",
          "data": {
            "image/png": "[encoded data removed]",
            "text/plain": [
              "<Figure size 432x288 with 1 Axes>"
            ]
          },
          "metadata": {
            "tags": []
          }
        }
      ]
    },
    {
      "cell_type": "code",
      "metadata": {
        "id": "q2MlOLCK_vJG",
        "colab_type": "code",
        "colab": {}
      },
      "source": [
        "df_eco.to_csv('openfoodfacts_Eco.csv')"
      ],
      "execution_count": 0,
      "outputs": []
    },
    {
      "cell_type": "code",
      "metadata": {
        "id": "KLPK-rLUYmS4",
        "colab_type": "code",
        "colab": {}
      },
      "source": [
        ""
      ],
      "execution_count": 0,
      "outputs": []
    },
    {
      "cell_type": "code",
      "metadata": {
        "id": "DSdHsuaEZtct",
        "colab_type": "code",
        "colab": {}
      },
      "source": [
        ""
      ],
      "execution_count": 0,
      "outputs": []
    },
    {
      "cell_type": "markdown",
      "metadata": {
        "id": "6Dy8-RnaDPAp",
        "colab_type": "text"
      },
      "source": [
        "\n",
        "\n",
        "\n",
        "\n",
        "\n"
      ]
    }
  ]
}